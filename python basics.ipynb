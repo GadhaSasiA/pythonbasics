{
 "cells": [
  {
   "cell_type": "code",
   "execution_count": 8,
   "id": "941321ad",
   "metadata": {},
   "outputs": [
    {
     "name": "stdout",
     "output_type": "stream",
     "text": [
      "hello\n",
      "world\n"
     ]
    }
   ],
   "source": [
    "print(\"hello\")\n",
    "print(\"world\")"
   ]
  },
  {
   "cell_type": "code",
   "execution_count": 1,
   "id": "c5c1344b",
   "metadata": {},
   "outputs": [
    {
     "name": "stdout",
     "output_type": "stream",
     "text": [
      "*\n",
      "**\n",
      "***\n",
      "****\n",
      "*****\n"
     ]
    }
   ],
   "source": [
    "row=5\n",
    "i=1\n",
    "while i<=row:\n",
    "    print(\"*\" *i)\n",
    "    i+=1"
   ]
  },
  {
   "cell_type": "code",
   "execution_count": null,
   "id": "bbd00323",
   "metadata": {},
   "outputs": [],
   "source": [
    "row=5\n",
    "i=1\n",
    "while i<=row:\n",
    "\n",
    "    print(\"*\"*i)\n",
    "    i+=1"
   ]
  },
  {
   "cell_type": "raw",
   "id": "f433e1ef",
   "metadata": {},
   "source": [
    "row=5\n",
    "i=1\n",
    "while i<=row:\n",
    "    print(\"*\"*i)\n",
    "   i+=1"
   ]
  },
  {
   "cell_type": "code",
   "execution_count": 2,
   "id": "608d0180",
   "metadata": {},
   "outputs": [
    {
     "name": "stdout",
     "output_type": "stream",
     "text": [
      "5\n",
      "Gadha\n",
      "True\n",
      "3.5\n",
      "(6+5j)\n"
     ]
    }
   ],
   "source": [
    "x=5\n",
    "y=\"Gadha\"\n",
    "z=True\n",
    "var1=3.5\n",
    "var_=6+5j\n",
    "print(x)\n",
    "print(y)\n",
    "print(z)\n",
    "print(var1)\n",
    "print(var_)\n"
   ]
  },
  {
   "cell_type": "code",
   "execution_count": 4,
   "id": "4184b21c",
   "metadata": {},
   "outputs": [
    {
     "name": "stdout",
     "output_type": "stream",
     "text": [
      "85\n",
      "50\n",
      "20 30 50\n"
     ]
    }
   ],
   "source": [
    "num1=37\n",
    "num2=48\n",
    "print(num1+num2)\n",
    "num1=20\n",
    "num2=30\n",
    "num3=num1+num2\n",
    "print(num3)\n",
    "print(num1,num2,num3)"
   ]
  },
  {
   "cell_type": "code",
   "execution_count": 11,
   "id": "130bbaef",
   "metadata": {},
   "outputs": [
    {
     "name": "stdout",
     "output_type": "stream",
     "text": [
      "hello world\n"
     ]
    }
   ],
   "source": [
    "x=\"hello\"\n",
    "y=\"world\"\n",
    "print(x,y)"
   ]
  },
  {
   "cell_type": "code",
   "execution_count": 12,
   "id": "ce8b9d85",
   "metadata": {},
   "outputs": [
    {
     "name": "stdout",
     "output_type": "stream",
     "text": [
      "3 4.2 hello\n"
     ]
    }
   ],
   "source": [
    "x,y,z=3,4.2,\"hello\"\n",
    "print(x,y,z)"
   ]
  },
  {
   "cell_type": "code",
   "execution_count": 15,
   "id": "bad8e8dd",
   "metadata": {},
   "outputs": [
    {
     "name": "stdout",
     "output_type": "stream",
     "text": [
      "hai hai hai\n"
     ]
    }
   ],
   "source": [
    "x=y=z=\"hai\"\n",
    "print(x,y,z)"
   ]
  },
  {
   "cell_type": "code",
   "execution_count": 1,
   "id": "c564ec8f",
   "metadata": {},
   "outputs": [
    {
     "name": "stdout",
     "output_type": "stream",
     "text": [
      "hello,world\n"
     ]
    }
   ],
   "source": [
    "#this is a single line comment\n",
    "print(\"hello,world\")#this is also a comment"
   ]
  },
  {
   "cell_type": "code",
   "execution_count": 43,
   "id": "aadf0d30",
   "metadata": {},
   "outputs": [
    {
     "data": {
      "text/plain": [
       "'this is a multi-line comment\\nor a docstring\\nit provides documentation for a function,class or module.\\n'"
      ]
     },
     "execution_count": 43,
     "metadata": {},
     "output_type": "execute_result"
    }
   ],
   "source": [
    "\"\"\"this is a multi-line comment\n",
    "or a docstring\n",
    "it provides documentation for a function,class or module.\n",
    "\"\"\"\n"
   ]
  },
  {
   "cell_type": "code",
   "execution_count": 5,
   "id": "118f4657",
   "metadata": {},
   "outputs": [
    {
     "name": "stdout",
     "output_type": "stream",
     "text": [
      "5 hello\n"
     ]
    }
   ],
   "source": [
    "x=5\n",
    "y=\"hello\"\n",
    "print(x,y)"
   ]
  },
  {
   "cell_type": "markdown",
   "id": "c499aaf8",
   "metadata": {},
   "source": [
    "# Function type"
   ]
  },
  {
   "cell_type": "code",
   "execution_count": 6,
   "id": "00b1423b",
   "metadata": {},
   "outputs": [
    {
     "name": "stdout",
     "output_type": "stream",
     "text": [
      "<class 'int'>\n",
      "<class 'str'>\n",
      "<class 'list'>\n"
     ]
    }
   ],
   "source": [
    "x=5\n",
    "y=\"hello\"\n",
    "z=[1,2,3]\n",
    "print(type(x))\n",
    "print(type(y))\n",
    "print(type(z))"
   ]
  },
  {
   "cell_type": "code",
   "execution_count": 8,
   "id": "cf9571c4",
   "metadata": {},
   "outputs": [
    {
     "name": "stdout",
     "output_type": "stream",
     "text": [
      "<class 'str'>\n",
      "<class 'int'>\n"
     ]
    }
   ],
   "source": [
    "num_str=\"54\"\n",
    "print(type(num_str))\n",
    "\n",
    "num_int=int(num_str)\n",
    "print(type(num_int))"
   ]
  },
  {
   "cell_type": "code",
   "execution_count": 10,
   "id": "9cfc45ef",
   "metadata": {},
   "outputs": [
    {
     "name": "stdout",
     "output_type": "stream",
     "text": [
      "<class 'str'>\n",
      "<class 'float'>\n"
     ]
    }
   ],
   "source": [
    "num_str=\"3.4\"\n",
    "print(type(num_str))\n",
    "\n",
    "num_float=float(num_str)\n",
    "print(type(num_float))"
   ]
  },
  {
   "cell_type": "code",
   "execution_count": 11,
   "id": "54cb3987",
   "metadata": {},
   "outputs": [
    {
     "name": "stdout",
     "output_type": "stream",
     "text": [
      "<class 'list'>\n"
     ]
    }
   ],
   "source": [
    "my_list=[1,2,3]\n",
    "print(type(my_list))\n",
    "\n",
    "my_list ti\n"
   ]
  },
  {
   "cell_type": "code",
   "execution_count": 9,
   "id": "c1595db0",
   "metadata": {},
   "outputs": [
    {
     "name": "stdout",
     "output_type": "stream",
     "text": [
      "enter your name :Gadha\n",
      "hello Gadha\n"
     ]
    }
   ],
   "source": [
    "username=input(\"enter your name :\")\n",
    "print(\"hello\", username)"
   ]
  },
  {
   "cell_type": "code",
   "execution_count": 23,
   "id": "48cad4e4",
   "metadata": {},
   "outputs": [
    {
     "name": "stdout",
     "output_type": "stream",
     "text": [
      "enter the first number:67\n",
      "enter the second number:56\n",
      "the result is: 6756\n"
     ]
    }
   ],
   "source": [
    "#concatinate two num\n",
    "x=input(\"enter the first number:\")\n",
    "y=input(\"enter the second number:\")\n",
    "print(\"the result is:\",x+y)"
   ]
  },
  {
   "cell_type": "code",
   "execution_count": 1,
   "id": "57385bf9",
   "metadata": {},
   "outputs": [
    {
     "name": "stdout",
     "output_type": "stream",
     "text": [
      "enter the first number23\n",
      "enter the second number34\n",
      "the result is:  57.0\n"
     ]
    }
   ],
   "source": [
    "#sum of 2 digits\n",
    "x=int(input(\"enter the first number\"))\n",
    "y=float(input(\"enter the second number\"))\n",
    "print(\"the result is: \" ,x+y)"
   ]
  },
  {
   "cell_type": "markdown",
   "id": "6933d1bf",
   "metadata": {},
   "source": [
    "# String"
   ]
  },
  {
   "cell_type": "code",
   "execution_count": 4,
   "id": "5ac1880c",
   "metadata": {},
   "outputs": [
    {
     "name": "stdout",
     "output_type": "stream",
     "text": [
      " kkjkkkkkhjhhgfgddffraa'\n",
      "    jjkjkjklmjjjjjjjjjjjjjjnnnnnnnnnnmmmmmfffvv,\n",
      "    hhhhhhhhhhhhnnnnnnnutyfccoooooooommmmmmmm.\n"
     ]
    }
   ],
   "source": [
    "#paragraph\n",
    "a=\"\"\" kkjkkkkkhjhhgfgddffraa'\n",
    "    jjkjkjklmjjjjjjjjjjjjjjnnnnnnnnnnmmmmmfffvv,\n",
    "    hhhhhhhhhhhhnnnnnnnutyfccoooooooommmmmmmm.\"\"\"\n",
    "print(a)\n"
   ]
  },
  {
   "cell_type": "markdown",
   "id": "028b9604",
   "metadata": {},
   "source": [
    "# Length"
   ]
  },
  {
   "cell_type": "code",
   "execution_count": 10,
   "id": "20754390",
   "metadata": {},
   "outputs": [
    {
     "name": "stdout",
     "output_type": "stream",
     "text": [
      "11\n"
     ]
    }
   ],
   "source": [
    "my_string=\"hello,world\"\n",
    "length=len(my_string)\n",
    "print(length)"
   ]
  },
  {
   "cell_type": "markdown",
   "id": "a49c4f17",
   "metadata": {},
   "source": [
    "# String indexing"
   ]
  },
  {
   "cell_type": "code",
   "execution_count": 11,
   "id": "2d18d560",
   "metadata": {},
   "outputs": [
    {
     "name": "stdout",
     "output_type": "stream",
     "text": [
      "l\n"
     ]
    }
   ],
   "source": [
    "my_string=\"hello\"\n",
    "first_char=my_string[2]\n",
    "print(first_char)"
   ]
  },
  {
   "cell_type": "code",
   "execution_count": 13,
   "id": "7d36cf0a",
   "metadata": {},
   "outputs": [
    {
     "name": "stdout",
     "output_type": "stream",
     "text": [
      "llo wo\n"
     ]
    }
   ],
   "source": [
    "my_string=\"Hello world\"\n",
    "sliced_string=my_string[2:8]\n",
    "print(sliced_string)"
   ]
  },
  {
   "cell_type": "code",
   "execution_count": 13,
   "id": "7e033cd6",
   "metadata": {},
   "outputs": [
    {
     "name": "stdout",
     "output_type": "stream",
     "text": [
      "lowr\n"
     ]
    }
   ],
   "source": [
    "my_string=\"hello world\"\n",
    "sliced_string=my_string[2:9:2]\n",
    "print(sliced_string)"
   ]
  },
  {
   "cell_type": "code",
   "execution_count": 14,
   "id": "876b5fba",
   "metadata": {},
   "outputs": [
    {
     "name": "stdout",
     "output_type": "stream",
     "text": [
      "d\n"
     ]
    }
   ],
   "source": [
    "my_string=\"hello world\"\n",
    "last_char=my_string[-1]\n",
    "print(last_char)"
   ]
  },
  {
   "cell_type": "code",
   "execution_count": 15,
   "id": "895ea432",
   "metadata": {},
   "outputs": [
    {
     "name": "stdout",
     "output_type": "stream",
     "text": [
      "hello\n"
     ]
    }
   ],
   "source": [
    "my_string=\"hello world\"\n",
    "first_ommitted_char=my_string[:5]\n",
    "print(first_ommitted_char)"
   ]
  },
  {
   "cell_type": "code",
   "execution_count": 17,
   "id": "a6adb368",
   "metadata": {},
   "outputs": [
    {
     "name": "stdout",
     "output_type": "stream",
     "text": [
      " world\n"
     ]
    }
   ],
   "source": [
    "my_string=\"hello world\"\n",
    "end_ommitted_char=my_string[5:]\n",
    "print(end_ommitted_char)"
   ]
  },
  {
   "cell_type": "code",
   "execution_count": 3,
   "id": "204948bb",
   "metadata": {},
   "outputs": [
    {
     "name": "stdout",
     "output_type": "stream",
     "text": [
      "ho\n"
     ]
    }
   ],
   "source": [
    "my_string=\"hello world\"\n",
    "select_char=my_string[0:5:4]\n",
    "print(select_char)"
   ]
  },
  {
   "cell_type": "code",
   "execution_count": null,
   "id": "ce9d8193",
   "metadata": {},
   "outputs": [],
   "source": [
    "#reverce a string\n",
    "my_string=\"hello world\"\n",
    "reversed_string=my_string[::-1]\n",
    "print(reversed_string)"
   ]
  },
  {
   "cell_type": "markdown",
   "id": "4d063add",
   "metadata": {},
   "source": [
    "# Concatinate"
   ]
  },
  {
   "cell_type": "code",
   "execution_count": 4,
   "id": "cf01082c",
   "metadata": {},
   "outputs": [
    {
     "name": "stdout",
     "output_type": "stream",
     "text": [
      "helloworld\n"
     ]
    }
   ],
   "source": [
    "a=\"hello\"\n",
    "b=\"world\"\n",
    "c=a+b\n",
    "print(c)"
   ]
  },
  {
   "cell_type": "code",
   "execution_count": 19,
   "id": "52443c63",
   "metadata": {},
   "outputs": [
    {
     "name": "stdout",
     "output_type": "stream",
     "text": [
      "hello world\n"
     ]
    }
   ],
   "source": [
    "a=\"hello\"\n",
    "b=\"world\"\n",
    "c=a + \" \" +b\n",
    "print(c)"
   ]
  },
  {
   "cell_type": "code",
   "execution_count": 7,
   "id": "c2f48c17",
   "metadata": {},
   "outputs": [
    {
     "name": "stdout",
     "output_type": "stream",
     "text": [
      "hello world !!!!!!!!!!\n"
     ]
    }
   ],
   "source": [
    "c=a+\" \"+b+\" \"+('!'*10)\n",
    "print(c)"
   ]
  },
  {
   "cell_type": "markdown",
   "id": "1dec12c3",
   "metadata": {},
   "source": [
    "# String method"
   ]
  },
  {
   "cell_type": "code",
   "execution_count": 8,
   "id": "7582d211",
   "metadata": {},
   "outputs": [
    {
     "name": "stdout",
     "output_type": "stream",
     "text": [
      "HELLO\n",
      "hello\n",
      "hello, world\n"
     ]
    }
   ],
   "source": [
    "#string method\n",
    "a=\"hello\"\n",
    "print(a.upper())\n",
    "\n",
    "a=\"HELLO\"\n",
    "print(a.lower())\n",
    "\n",
    "a=\"    hello, world   \"\n",
    "print(a.strip())"
   ]
  },
  {
   "cell_type": "code",
   "execution_count": 29,
   "id": "a7a57abe",
   "metadata": {},
   "outputs": [
    {
     "name": "stdout",
     "output_type": "stream",
     "text": [
      "True\n",
      "True\n",
      "True\n"
     ]
    }
   ],
   "source": [
    "alpha_check=\"hello\".isalpha()\n",
    "print(alpha_check)\n",
    "\n",
    "digit_check=\"123\".isdigit()\n",
    "print(digit_check)\n",
    "\n",
    "alnum_check=\"hello123\".isalnum()\n",
    "print(alnum_check)"
   ]
  },
  {
   "cell_type": "code",
   "execution_count": 5,
   "id": "1a18cb47",
   "metadata": {},
   "outputs": [
    {
     "name": "stdout",
     "output_type": "stream",
     "text": [
      "hello world\n"
     ]
    }
   ],
   "source": [
    "my_string=\"hello world\"\n",
    "new_string=(my_string.replace(\"hai\",\"hello\"))\n",
    "print(new_string)"
   ]
  },
  {
   "cell_type": "code",
   "execution_count": 33,
   "id": "bc8a15cd",
   "metadata": {},
   "outputs": [
    {
     "name": "stdout",
     "output_type": "stream",
     "text": [
      "apple,orange,banana\n"
     ]
    }
   ],
   "source": [
    "string=\"apple,orange,banana\"\n",
    "friuts=string.split(\",\")\n",
    "print(string)\n"
   ]
  },
  {
   "cell_type": "markdown",
   "id": "26f04ee3",
   "metadata": {},
   "source": [
    "# Formating"
   ]
  },
  {
   "cell_type": "code",
   "execution_count": 36,
   "id": "18812360",
   "metadata": {},
   "outputs": [
    {
     "name": "stdout",
     "output_type": "stream",
     "text": [
      "my name is sanu and iam 20 years old.\n",
      "My name is aju and iam 20 years old.\n",
      "My name isaju and iam 20years old\n"
     ]
    }
   ],
   "source": [
    "name=\"sanu\"\n",
    "age=20\n",
    "formatted_string=\"my name is %s and iam %d years old.\" %(name,age)\n",
    "print(formatted_string)\n",
    "\n",
    "name=\"aju\"\n",
    "age=20\n",
    "formatted_string=f\"My name is %s and iam %d years old.\"%(name,age)\n",
    "print(formatted_string)\n",
    "\n",
    "name=\"aju\"\n",
    "age=20\n",
    "formatted_string=\"My name is{} and iam {}years old\".format(name,age)\n",
    "print(formatted_string)"
   ]
  },
  {
   "cell_type": "code",
   "execution_count": 37,
   "id": "1bdc5f0e",
   "metadata": {},
   "outputs": [
    {
     "name": "stdout",
     "output_type": "stream",
     "text": [
      "The pi value is: 3.142\n"
     ]
    }
   ],
   "source": [
    "pi= 3.141592653559\n",
    "formatted_pi =\"The pi value is: {:0.3f}\".format(pi)\n",
    "print(formatted_pi)"
   ]
  },
  {
   "cell_type": "markdown",
   "id": "37b10fbc",
   "metadata": {},
   "source": [
    "# Boolean\n",
    "# Arithematic operator"
   ]
  },
  {
   "cell_type": "code",
   "execution_count": 41,
   "id": "7d1a288c",
   "metadata": {
    "scrolled": true
   },
   "outputs": [
    {
     "name": "stdout",
     "output_type": "stream",
     "text": [
      "addition: 15\n",
      "subtraction: 5\n",
      "division: 2.0\n",
      "multiplication: 50\n",
      "modulus: 0\n",
      "exponentiation: 100000\n",
      "floor_division: 2\n"
     ]
    }
   ],
   "source": [
    "x=10\n",
    "y=5\n",
    "addition=x+y\n",
    "subtraction=x-y\n",
    "division=x/y\n",
    "multiplication=x*y\n",
    "\n",
    "modulus=x%y\n",
    "exponentiation=x**y\n",
    "floor_division=x//y\n",
    "\n",
    "print(\"addition:\" ,addition)\n",
    "print(\"subtraction:\" ,subtraction)\n",
    "print(\"division:\" ,division)\n",
    "print(\"multiplication:\" ,multiplication)\n",
    "print(\"modulus:\" ,modulus)\n",
    "print(\"exponentiation:\" ,exponentiation)\n",
    "print(\"floor_division:\" ,floor_division)"
   ]
  },
  {
   "cell_type": "code",
   "execution_count": 39,
   "id": "376aedf3",
   "metadata": {},
   "outputs": [
    {
     "name": "stdout",
     "output_type": "stream",
     "text": [
      "True\n",
      "False\n",
      "True\n",
      "False\n",
      "True\n",
      "False\n"
     ]
    }
   ],
   "source": [
    "x=[\"apple\", \"banana\"]\n",
    "y=[\"apple\", \"banana\"]\n",
    "z=x\n",
    "print(x is z)\n",
    "print(x is y)\n",
    "print(x == y)\n",
    "print(x is not z)\n",
    "print(x is not y)\n",
    "print(x != y)"
   ]
  },
  {
   "cell_type": "markdown",
   "id": "0d8027f3",
   "metadata": {},
   "source": [
    "# membership operator"
   ]
  },
  {
   "cell_type": "code",
   "execution_count": 11,
   "id": "73ea35eb",
   "metadata": {},
   "outputs": [
    {
     "name": "stdout",
     "output_type": "stream",
     "text": [
      "True\n",
      "True\n"
     ]
    }
   ],
   "source": [
    "x=[\"apple\" ,\"banana\"]\n",
    "print(\"banana\" in x)\n",
    "\n",
    "x=[\"apple\" ,\"banana\"]\n",
    "print(\"pinapple\"not in x)"
   ]
  },
  {
   "cell_type": "markdown",
   "id": "3e374220",
   "metadata": {},
   "source": [
    "# list elements"
   ]
  },
  {
   "cell_type": "code",
   "execution_count": 51,
   "id": "d99307bf",
   "metadata": {
    "scrolled": true
   },
   "outputs": [
    {
     "name": "stdout",
     "output_type": "stream",
     "text": [
      "1\n",
      "2\n",
      "9\n",
      "[3, 4, 5]\n",
      "9\n"
     ]
    }
   ],
   "source": [
    "numbers=[1,2,3,4,5,6,7,8,9]\n",
    "first_element=numbers[0]\n",
    "second_element=numbers[1]\n",
    "last_element=numbers[-1]\n",
    "\n",
    "print(first_element)\n",
    "print(second_element)\n",
    "print(last_element)\n",
    "\n",
    "print(numbers[2:5])\n",
    "print(len(numbers))\n"
   ]
  },
  {
   "cell_type": "markdown",
   "id": "d49e8ae2",
   "metadata": {},
   "source": [
    "# Adding elements"
   ]
  },
  {
   "cell_type": "code",
   "execution_count": 18,
   "id": "3ff1f93b",
   "metadata": {},
   "outputs": [
    {
     "name": "stdout",
     "output_type": "stream",
     "text": [
      "['apple', 'banana', 'chery']\n",
      "['apple', 'orange', 'banana']\n"
     ]
    }
   ],
   "source": [
    "fruits=[\"apple\", \"banana\"]\n",
    "fruits.append(\"chery\")\n",
    "print(fruits)\n",
    "\n",
    "fruits=[\"apple\", \"banana\"]\n",
    "fruits.insert(1,\"orange\")\n",
    "print(fruits)"
   ]
  },
  {
   "cell_type": "markdown",
   "id": "b3627bf1",
   "metadata": {},
   "source": [
    "# Changing values"
   ]
  },
  {
   "cell_type": "code",
   "execution_count": 5,
   "id": "fba7226e",
   "metadata": {},
   "outputs": [
    {
     "name": "stdout",
     "output_type": "stream",
     "text": [
      "['apple', 'melon', 'chery', 'banana']\n",
      "['apple', 'papaya', 'kiwi', 'banana']\n"
     ]
    }
   ],
   "source": [
    "fruits=[\"apple\", \"banana\",\"chery\",\"banana\"]\n",
    "fruits[1]=\"melon\"\n",
    "print(fruits)\n",
    "fruits[1:3]=[\"papaya\", \"kiwi\"]\n",
    "print(fruits)"
   ]
  },
  {
   "cell_type": "code",
   "execution_count": 1,
   "id": "90c78d9a",
   "metadata": {},
   "outputs": [
    {
     "name": "stdout",
     "output_type": "stream",
     "text": [
      "['apple', 'banana', 'cherry', 'grapes']\n"
     ]
    }
   ],
   "source": [
    "fruits=[\"apple\",\"banana\"]\n",
    "more_fruits=[\"cherry\", \"grapes\"]\n",
    "fruits.extend(more_fruits)\n",
    "print(fruits)"
   ]
  },
  {
   "cell_type": "markdown",
   "id": "65eb63ec",
   "metadata": {},
   "source": [
    "# Remove       "
   ]
  },
  {
   "cell_type": "code",
   "execution_count": 14,
   "id": "f62a12cd",
   "metadata": {},
   "outputs": [
    {
     "name": "stdout",
     "output_type": "stream",
     "text": [
      "['apple', 'chery', 'banana']\n"
     ]
    }
   ],
   "source": [
    "fruits=[\"apple\", \"banana\",\"chery\",\"banana\"]\n",
    "fruits.remove(\"banana\")\n",
    "print(fruits)\n",
    "             "
   ]
  },
  {
   "cell_type": "code",
   "execution_count": 13,
   "id": "449f2c8a",
   "metadata": {},
   "outputs": [
    {
     "name": "stdout",
     "output_type": "stream",
     "text": [
      "['apple', 'banana', 'chery']\n"
     ]
    }
   ],
   "source": [
    "fruits=[\"apple\", \"banana\",\"chery\",\"banana\"]\n",
    "remove_fruit=fruits.pop() \n",
    "print(fruits) "
   ]
  },
  {
   "cell_type": "code",
   "execution_count": 19,
   "id": "493ae49d",
   "metadata": {},
   "outputs": [
    {
     "name": "stdout",
     "output_type": "stream",
     "text": [
      "[]\n"
     ]
    }
   ],
   "source": [
    "fruits=[\"apple\", \"banana\",\"chery\",\"banana\"]\n",
    "fruits.clear()\n",
    "print(fruits)"
   ]
  },
  {
   "cell_type": "code",
   "execution_count": 23,
   "id": "0aaa5610",
   "metadata": {},
   "outputs": [
    {
     "name": "stdout",
     "output_type": "stream",
     "text": [
      "['banana', 'chery', 'banana']\n"
     ]
    }
   ],
   "source": [
    "fruits=[\"apple\", \"banana\",\"chery\",\"banana\"]\n",
    "del fruits[0]\n",
    "print(fruits)"
   ]
  },
  {
   "cell_type": "markdown",
   "id": "72862957",
   "metadata": {},
   "source": [
    "# Reversing"
   ]
  },
  {
   "cell_type": "code",
   "execution_count": 24,
   "id": "c9cb8b74",
   "metadata": {},
   "outputs": [
    {
     "name": "stdout",
     "output_type": "stream",
     "text": [
      "[5, 4, 3, 2, 1]\n"
     ]
    }
   ],
   "source": [
    "numbers=[1,2,3,4,5]\n",
    "numbers.reverse()\n",
    "print(numbers)"
   ]
  },
  {
   "cell_type": "code",
   "execution_count": 26,
   "id": "c2ec2395",
   "metadata": {},
   "outputs": [
    {
     "name": "stdout",
     "output_type": "stream",
     "text": [
      "[5, 4, 3, 2, 1]\n"
     ]
    }
   ],
   "source": [
    "numbers.sort(reverse=True)\n",
    "print(numbers)"
   ]
  },
  {
   "cell_type": "markdown",
   "id": "6fb67344",
   "metadata": {},
   "source": [
    "# Sort"
   ]
  },
  {
   "cell_type": "code",
   "execution_count": 27,
   "id": "9f7f24e9",
   "metadata": {},
   "outputs": [
    {
     "name": "stdout",
     "output_type": "stream",
     "text": [
      "[1, 3, 5, 6, 8, 9]\n"
     ]
    }
   ],
   "source": [
    "numbers=[1,3,6,5,8,9]\n",
    "numbers.sort()\n",
    "print(numbers)"
   ]
  },
  {
   "cell_type": "markdown",
   "id": "61842058",
   "metadata": {},
   "source": [
    "# Nested list"
   ]
  },
  {
   "cell_type": "code",
   "execution_count": 28,
   "id": "82933eea",
   "metadata": {},
   "outputs": [
    {
     "name": "stdout",
     "output_type": "stream",
     "text": [
      "[[1, 2, 3], [4, 5, 6], [7, 8, 9]]\n"
     ]
    }
   ],
   "source": [
    "nested_list=[[1,2,3],[4,5,6],[7,8,9]]\n",
    "print(nested_list)"
   ]
  },
  {
   "cell_type": "markdown",
   "id": "0cccfa49",
   "metadata": {},
   "source": [
    "# Count"
   ]
  },
  {
   "cell_type": "code",
   "execution_count": 1,
   "id": "60fdd451",
   "metadata": {},
   "outputs": [
    {
     "name": "stdout",
     "output_type": "stream",
     "text": [
      "1\n"
     ]
    }
   ],
   "source": [
    "numbers=[1,3,6,5,8,9]\n",
    "count=numbers.count(3)\n",
    "print(count)"
   ]
  },
  {
   "cell_type": "markdown",
   "id": "2d391258",
   "metadata": {},
   "source": [
    "# Max,Min,Sum"
   ]
  },
  {
   "cell_type": "code",
   "execution_count": 30,
   "id": "f7f02ae7",
   "metadata": {},
   "outputs": [
    {
     "name": "stdout",
     "output_type": "stream",
     "text": [
      "9\n",
      "1\n",
      "32\n"
     ]
    }
   ],
   "source": [
    "numbers=[1,3,6,5,8,9]\n",
    "print(max(numbers))\n",
    "print(min(numbers)) \n",
    "print(sum(numbers))      "
   ]
  },
  {
   "cell_type": "code",
   "execution_count": 47,
   "id": "26977aca",
   "metadata": {},
   "outputs": [
    {
     "name": "stdout",
     "output_type": "stream",
     "text": [
      "[3, 6, 5, 8, 9, 1]\n"
     ]
    }
   ],
   "source": [
    "numbers=[1,3,6,5,8,9]\n",
    "numbers.remove(1)\n",
    "numbers.append(1)\n",
    "x=numbers\n",
    "print(x)"
   ]
  },
  {
   "cell_type": "code",
   "execution_count": 42,
   "id": "481ab105",
   "metadata": {},
   "outputs": [
    {
     "name": "stdout",
     "output_type": "stream",
     "text": [
      "[1, 3, 6, 5, 8, 9]\n"
     ]
    }
   ],
   "source": [
    "numbers=[1,3,6,5,8,9]\n",
    "print(numbers)"
   ]
  },
  {
   "cell_type": "code",
   "execution_count": 3,
   "id": "7b442f63",
   "metadata": {},
   "outputs": [
    {
     "name": "stdout",
     "output_type": "stream",
     "text": [
      "('apple', 'kiwi', 'cherry')\n"
     ]
    }
   ],
   "source": [
    "x=[\"apple\",\"banana\",\"cherry\"]\n",
    "y=list(x)\n",
    "y[1]=\"kiwi\"\n",
    "x=tuple(y)\n",
    "print(x)"
   ]
  },
  {
   "cell_type": "code",
   "execution_count": 7,
   "id": "0fbbb24f",
   "metadata": {},
   "outputs": [
    {
     "name": "stdout",
     "output_type": "stream",
     "text": [
      "['apple', 'banana', 'cherry']\n"
     ]
    }
   ],
   "source": [
    "mytuples=[\"apple\",\"banana\",\"cherry\"]\n",
    "y=list(mytuples)\n",
    "y.append(\"orange\")\n",
    "mytuple=tuple(y)\n",
    "print(mytuples)"
   ]
  },
  {
   "cell_type": "code",
   "execution_count": null,
   "id": "4a56718a",
   "metadata": {},
   "outputs": [],
   "source": [
    "mytuples=[\"apple\",\"banana\",\"cherry\"]\n",
    "y=\"orange\""
   ]
  },
  {
   "cell_type": "code",
   "execution_count": 9,
   "id": "2f658dd0",
   "metadata": {},
   "outputs": [
    {
     "name": "stdout",
     "output_type": "stream",
     "text": [
      "apple\n",
      "['banana', 'cherry', 'mango', 'jackfruit']\n",
      "kiwi\n"
     ]
    }
   ],
   "source": [
    "fruits=[\"apple\",\"banana\",\"cherry\",\"mango\",\"jackfruit\",\"kiwi\"]\n",
    "x,*y,z=fruits\n",
    "print(x)\n",
    "print(y)\n",
    "print(z)"
   ]
  },
  {
   "cell_type": "code",
   "execution_count": 11,
   "id": "8e86b6cb",
   "metadata": {},
   "outputs": [
    {
     "name": "stdout",
     "output_type": "stream",
     "text": [
      "apple\n",
      "banana\n",
      "cherry\n"
     ]
    }
   ],
   "source": [
    "fruits=[\"apple\",\"banana\",\"cherry\",]\n",
    "x,y,z=fruits\n",
    "print(x)\n",
    "print(y)\n",
    "print(z)"
   ]
  },
  {
   "cell_type": "markdown",
   "id": "5741613c",
   "metadata": {},
   "source": [
    "# set"
   ]
  },
  {
   "cell_type": "code",
   "execution_count": 12,
   "id": "f9ea2aff",
   "metadata": {},
   "outputs": [
    {
     "name": "stdout",
     "output_type": "stream",
     "text": [
      "{1, 2, 3}\n"
     ]
    }
   ],
   "source": [
    "numbers={1,2,3,1,2,3}\n",
    "print(numbers)"
   ]
  },
  {
   "cell_type": "code",
   "execution_count": 2,
   "id": "f695c797",
   "metadata": {
    "scrolled": true
   },
   "outputs": [
    {
     "name": "stdout",
     "output_type": "stream",
     "text": [
      "{1, 2, 3, 4, 5, 6}\n",
      "['apple', 'banana', 'cherry']\n",
      "(1, 'hello', 3.14, 'true')\n"
     ]
    }
   ],
   "source": [
    "numbers={1,2,3,4,5,6}\n",
    "fruits=[\"apple\",\"banana\",\"cherry\",]\n",
    "mixed=(1,\"hello\",3.14,\"true\")\n",
    "\n",
    "print(numbers)\n",
    "print(fruits)\n",
    "print(mixed)"
   ]
  },
  {
   "cell_type": "code",
   "execution_count": 17,
   "id": "cc0e3f31",
   "metadata": {},
   "outputs": [
    {
     "name": "stdout",
     "output_type": "stream",
     "text": [
      "{'cherry', 'orange', 'banana', 'apple'}\n"
     ]
    }
   ],
   "source": [
    "set1={\"apple\",\"banana\",\"cherry\"}\n",
    "set1.add(\"orange\")\n",
    "print(set1)\n"
   ]
  },
  {
   "cell_type": "code",
   "execution_count": 18,
   "id": "c62b272f",
   "metadata": {},
   "outputs": [
    {
     "name": "stdout",
     "output_type": "stream",
     "text": [
      "{'cherry', 'banana', 'mango', 'apple', 'kiwi'}\n"
     ]
    }
   ],
   "source": [
    "set1={\"apple\",\"banana\",\"cherry\"}\n",
    "set2={\"apple\",\"banana\",\"kiwi\",\"mango\"}\n",
    "set1.update(set2)\n",
    "print(set1)"
   ]
  },
  {
   "cell_type": "code",
   "execution_count": 20,
   "id": "22d42d5a",
   "metadata": {},
   "outputs": [
    {
     "name": "stdout",
     "output_type": "stream",
     "text": [
      "{'banana', 'apple'}\n"
     ]
    }
   ],
   "source": [
    "set1={\"apple\",\"banana\",\"cherry\"}\n",
    "set1.remove(\"cherry\")\n",
    "print(set1)"
   ]
  },
  {
   "cell_type": "code",
   "execution_count": 21,
   "id": "e26c1bde",
   "metadata": {},
   "outputs": [
    {
     "name": "stdout",
     "output_type": "stream",
     "text": [
      "{'cherry', 'banana'}\n"
     ]
    }
   ],
   "source": [
    "set1={\"apple\",\"banana\",\"cherry\"}\n",
    "set1.discard(\"apple\")\n",
    "print(set1)"
   ]
  },
  {
   "cell_type": "code",
   "execution_count": 22,
   "id": "ed577ebf",
   "metadata": {},
   "outputs": [
    {
     "name": "stdout",
     "output_type": "stream",
     "text": [
      "cherry\n",
      "{'banana', 'apple'}\n"
     ]
    }
   ],
   "source": [
    "myset={\"apple\",\"banana\",\"cherry\"}\n",
    "x=myset.pop()\n",
    "print(x)\n",
    "print(myset)"
   ]
  },
  {
   "cell_type": "code",
   "execution_count": 24,
   "id": "8e9e9423",
   "metadata": {},
   "outputs": [
    {
     "name": "stdout",
     "output_type": "stream",
     "text": [
      "set()\n"
     ]
    }
   ],
   "source": [
    "myset={\"apple\",\"banana\",\"cherry\"}\n",
    "myset.clear()\n",
    "print(myset)"
   ]
  },
  {
   "cell_type": "code",
   "execution_count": 25,
   "id": "d3e35436",
   "metadata": {},
   "outputs": [
    {
     "name": "stdout",
     "output_type": "stream",
     "text": [
      "{1, 2, 3, 4, 5}\n"
     ]
    }
   ],
   "source": [
    "set1={1,2,3}\n",
    "set2={4,5,3}\n",
    "union_set=set1.union(set2)\n",
    "print(union_set)"
   ]
  },
  {
   "cell_type": "code",
   "execution_count": 26,
   "id": "20384649",
   "metadata": {},
   "outputs": [
    {
     "name": "stdout",
     "output_type": "stream",
     "text": [
      "{3}\n"
     ]
    }
   ],
   "source": [
    "set1={1,2,3}\n",
    "set2={4,5,3}\n",
    "intersection_set=set1.intersection(set2)\n",
    "print(intersection_set)"
   ]
  },
  {
   "cell_type": "code",
   "execution_count": 7,
   "id": "8b28a373",
   "metadata": {},
   "outputs": [
    {
     "name": "stdout",
     "output_type": "stream",
     "text": [
      "{1, 2, 5, 7}\n"
     ]
    }
   ],
   "source": [
    "set1={1,2,3}\n",
    "set2={7,5,3}\n",
    "symmetric_set=set1.symmetric_difference(set2)\n",
    "print(symmetric_set)"
   ]
  },
  {
   "cell_type": "code",
   "execution_count": 8,
   "id": "4cee6412",
   "metadata": {},
   "outputs": [
    {
     "name": "stdout",
     "output_type": "stream",
     "text": [
      "{1, 2, 4, 5}\n"
     ]
    }
   ],
   "source": [
    "set1={1,2,3}\n",
    "set2={4,5,3}\n",
    "symmetric_difference_set=set1.symmetric_difference(set2)\n",
    "print(symmetric_difference_set)"
   ]
  },
  {
   "cell_type": "markdown",
   "id": "bdd5c896",
   "metadata": {},
   "source": [
    "# IF"
   ]
  },
  {
   "cell_type": "code",
   "execution_count": 1,
   "id": "f5780269",
   "metadata": {},
   "outputs": [
    {
     "name": "stdout",
     "output_type": "stream",
     "text": [
      "b is greaterthan a\n",
      "condition checked\n"
     ]
    }
   ],
   "source": [
    "a=206\n",
    "b=208\n",
    "if(b>a):\n",
    "    print(\"b is greaterthan a\")\n",
    "print(\"condition checked\")"
   ]
  },
  {
   "cell_type": "code",
   "execution_count": 2,
   "id": "1ade843c",
   "metadata": {},
   "outputs": [
    {
     "name": "stdout",
     "output_type": "stream",
     "text": [
      "b is greaterthan a\n",
      "condition checked\n"
     ]
    }
   ],
   "source": [
    "a=206\n",
    "b=208\n",
    "if(b>a or b==a):\n",
    "     print(\"b is greaterthan a\")\n",
    "print(\"condition checked\")"
   ]
  },
  {
   "cell_type": "code",
   "execution_count": 3,
   "id": "29e39b7b",
   "metadata": {},
   "outputs": [
    {
     "name": "stdout",
     "output_type": "stream",
     "text": [
      "b greaterthan a\n"
     ]
    }
   ],
   "source": [
    "a=206\n",
    "b=208\n",
    "if(b>a):\n",
    "    print(\"b greaterthan a\")\n",
    "else:\n",
    "    print(\"a greaterthan b\")"
   ]
  },
  {
   "cell_type": "code",
   "execution_count": 4,
   "id": "06b1de45",
   "metadata": {},
   "outputs": [
    {
     "name": "stdout",
     "output_type": "stream",
     "text": [
      "string\n"
     ]
    }
   ],
   "source": [
    "a=5\n",
    "b=\"hello\"\n",
    "typ=type(a)\n",
    "\n",
    "if(type==int):\n",
    "    print(\"number\")\n",
    "else:\n",
    "    print(\"string\")"
   ]
  },
  {
   "cell_type": "code",
   "execution_count": 2,
   "id": "24c411c2",
   "metadata": {},
   "outputs": [
    {
     "name": "stdout",
     "output_type": "stream",
     "text": [
      "enter first number:45\n",
      "enter second number:54\n",
      "b greater than a\n"
     ]
    }
   ],
   "source": [
    "a=int(input(\"enter first number:\"))\n",
    "b=int(input(\"enter second number:\"))\n",
    "\n",
    "if(a>b):\n",
    "    print(\"a greater than b\")\n",
    "elif(b>a):\n",
    "    print(\"b greater than a\")\n",
    "else:\n",
    "    print(\"a equal b\")"
   ]
  },
  {
   "cell_type": "code",
   "execution_count": 5,
   "id": "578d5d7b",
   "metadata": {},
   "outputs": [],
   "source": [
    "a=200\n",
    "b=280\n",
    "if (a>b): print(a>b)"
   ]
  },
  {
   "cell_type": "code",
   "execution_count": null,
   "id": "00397a69",
   "metadata": {},
   "outputs": [],
   "source": [
    "a=200\n",
    "b=208\n",
    "print(\"a is large\") if(a>b) else print(\"b\")"
   ]
  },
  {
   "cell_type": "markdown",
   "id": "a196f033",
   "metadata": {},
   "source": [
    "# Nested if"
   ]
  },
  {
   "cell_type": "code",
   "execution_count": null,
   "id": "567d3cc6",
   "metadata": {},
   "outputs": [],
   "source": [
    "a=10\n",
    "\n",
    "if(a>20):\n",
    "    print(\"above 10\")\n",
    "    if(a>30)\n",
    "    print(\"above 30\")\n",
    "    else:\n",
    "        print(\"below 30\")\n"
   ]
  },
  {
   "cell_type": "markdown",
   "id": "52e92d75",
   "metadata": {},
   "source": [
    "# Pass stmt"
   ]
  },
  {
   "cell_type": "code",
   "execution_count": null,
   "id": "a73a9c8c",
   "metadata": {},
   "outputs": [],
   "source": [
    "a=206\n",
    "b=208\n",
    "c\n",
    "print(\"a\")\n",
    "if(a>b):\n",
    "    pass\n",
    "print(\"b\")\n",
    "print(b+2)\n",
    "\n",
    "print(\"c\")"
   ]
  },
  {
   "cell_type": "code",
   "execution_count": 16,
   "id": "4f6e48cc",
   "metadata": {},
   "outputs": [
    {
     "name": "stdout",
     "output_type": "stream",
     "text": [
      "enter a number45\n",
      "positive number\n"
     ]
    }
   ],
   "source": [
    "a=int(input(\"enter a number\"))\n",
    "if(a>0):\n",
    "    print(\"positive number\")\n",
    "else:\n",
    "   print(\"negative number\")"
   ]
  },
  {
   "cell_type": "markdown",
   "id": "e1b90ae9",
   "metadata": {},
   "source": [
    "# Check 3 ages"
   ]
  },
  {
   "cell_type": "code",
   "execution_count": 10,
   "id": "31b86c2d",
   "metadata": {},
   "outputs": [
    {
     "name": "stdout",
     "output_type": "stream",
     "text": [
      "enter first age:5\n",
      "enter second age:6\n",
      "enter third age:7\n",
      "7 is largest\n"
     ]
    }
   ],
   "source": [
    "a=int(input(\"enter first age:\"))\n",
    "b=int(input(\"enter second age:\"))\n",
    "c=int(input(\"enter third age:\"))\n",
    "\n",
    "if(a>b and a>c):\n",
    "    print(a , \"is largest\")\n",
    "if(b>c):\n",
    "    print(b ,\"is largest\")\n",
    "    print(c, \"is middle\")\n",
    "else:\n",
    "    print(c ,\"is largest\")\n",
    "\n"
   ]
  },
  {
   "cell_type": "code",
   "execution_count": 19,
   "id": "86f13a1a",
   "metadata": {},
   "outputs": [
    {
     "name": "stdout",
     "output_type": "stream",
     "text": [
      "enter an alphabetg\n",
      "g is not a vowel\n"
     ]
    }
   ],
   "source": [
    "a=(input(\"enter an alphabet\"))\n",
    "if (a=='a'or a=='e'or a=='i' or a=='o'or a=='u'):\n",
    "    print(a ,\"is a vowel\")\n",
    "else:\n",
    "    print(a, \"is not a vowel\")"
   ]
  },
  {
   "cell_type": "code",
   "execution_count": 4,
   "id": "4101d982",
   "metadata": {},
   "outputs": [],
   "source": [
    "row=5\n",
    "for i in range(row,1):\n",
    "    for j in range(,row+1):\n",
    "        print(\"j\",end='')"
   ]
  },
  {
   "cell_type": "code",
   "execution_count": null,
   "id": "03790fc2",
   "metadata": {},
   "outputs": [],
   "source": []
  }
 ],
 "metadata": {
  "kernelspec": {
   "display_name": "Python 3 (ipykernel)",
   "language": "python",
   "name": "python3"
  },
  "language_info": {
   "codemirror_mode": {
    "name": "ipython",
    "version": 3
   },
   "file_extension": ".py",
   "mimetype": "text/x-python",
   "name": "python",
   "nbconvert_exporter": "python",
   "pygments_lexer": "ipython3",
   "version": "3.11.4"
  }
 },
 "nbformat": 4,
 "nbformat_minor": 5
}
