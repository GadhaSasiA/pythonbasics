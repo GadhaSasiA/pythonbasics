{
 "cells": [
  {
   "cell_type": "markdown",
   "id": "3f88c9f2",
   "metadata": {},
   "source": [
    "# 1.sort"
   ]
  },
  {
   "cell_type": "code",
   "execution_count": 10,
   "id": "236332ad",
   "metadata": {},
   "outputs": [
    {
     "name": "stdout",
     "output_type": "stream",
     "text": [
      "ascending order of dict: [('apple', 20), ('cherry', 30), ('orange', 40), ('mango', 65)]\n",
      "descending order of dict: [('mango', 65), ('orange', 40), ('cherry', 30), ('apple', 20)]\n"
     ]
    }
   ],
   "source": [
    "a={\"apple\":20,\"orange\":40,\"mango\":65,\"cherry\":30}\n",
    "a_asc=sorted(a.items(),key=lambda item:item[1])\n",
    "a_des=sorted(a.items(),key=lambda item:item[1],reverse=True)\n",
    "\n",
    "print(\"ascending order of dict:\",a_asc)\n",
    "print(\"descending order of dict:\",a_des)"
   ]
  },
  {
   "cell_type": "markdown",
   "id": "f66272bf",
   "metadata": {},
   "source": [
    "# 2.Check"
   ]
  },
  {
   "cell_type": "code",
   "execution_count": 12,
   "id": "d07ece05",
   "metadata": {
    "scrolled": true
   },
   "outputs": [
    {
     "name": "stdout",
     "output_type": "stream",
     "text": [
      "apple is exist in the list\n"
     ]
    }
   ],
   "source": [
    "a={\"apple\":\"20\",\"mango\":\"40\",\"orange\":\"65\",\"cherry\":\"30\"}\n",
    "check=\"apple\"\n",
    "if check in a:\n",
    "    print(check,\"is exist in the list\")\n",
    "else:\n",
    "    print(check,\"is does not exist in the list\")\n",
    " "
   ]
  },
  {
   "cell_type": "markdown",
   "id": "ed0db1de",
   "metadata": {},
   "source": [
    "# 3.python script"
   ]
  },
  {
   "cell_type": "code",
   "execution_count": 13,
   "id": "57c221ce",
   "metadata": {},
   "outputs": [
    {
     "name": "stdout",
     "output_type": "stream",
     "text": [
      "{1: 1, 2: 4, 3: 9, 4: 16, 5: 25}\n"
     ]
    }
   ],
   "source": [
    "n=5\n",
    "a={}\n",
    "for i in range(1,n+1):\n",
    "    a[i]=i*i\n",
    "print(a)"
   ]
  },
  {
   "cell_type": "markdown",
   "id": "db1320b2",
   "metadata": {},
   "source": [
    "# 4. max min"
   ]
  },
  {
   "cell_type": "code",
   "execution_count": 56,
   "id": "26b764e7",
   "metadata": {},
   "outputs": [
    {
     "name": "stdout",
     "output_type": "stream",
     "text": [
      "max value of the dictionory is: 70\n",
      "min value of the dictionory is: 30\n"
     ]
    }
   ],
   "source": [
    "x={\"lemon\":\"40\",\"mango\":\"30\",\"orange\":\"50\",\"apple\":\"70\"}\n",
    "y=x.values()\n",
    "max_=(max(y))\n",
    "min_=(min(y))\n",
    "print(\"max value of the dictionory is:\",max_)\n",
    "print(\"min value of the dictionory is:\",min_)"
   ]
  },
  {
   "cell_type": "markdown",
   "id": "4e4a77e6",
   "metadata": {},
   "source": [
    "# 5.store"
   ]
  },
  {
   "cell_type": "code",
   "execution_count": 64,
   "id": "42e3c8b3",
   "metadata": {},
   "outputs": [
    {
     "name": "stdout",
     "output_type": "stream",
     "text": [
      "enter your name:aju\n",
      "enter your age:22\n",
      "{'anu': 20, 'sanu': 23, 'aju': 22}\n"
     ]
    }
   ],
   "source": [
    "z={\"anu\":20,\"sanu\":23}\n",
    "a=(input(\"enter your name:\"))\n",
    "b=int(input(\"enter your age:\"))\n",
    "z[a]=b\n",
    "print(z)"
   ]
  },
  {
   "cell_type": "markdown",
   "id": "64c9181f",
   "metadata": {},
   "source": [
    "# 6.Words with length"
   ]
  },
  {
   "cell_type": "code",
   "execution_count": 14,
   "id": "2ef64878",
   "metadata": {},
   "outputs": [
    {
     "name": "stdout",
     "output_type": "stream",
     "text": [
      "words with length {6: ['orange', 'cherry'], 5: ['apple', 'mango']}\n"
     ]
    }
   ],
   "source": [
    "a={\"apple\",\"mango\",\"orange\",\"cherry\"}\n",
    "new_dict={}\n",
    "for word in a:\n",
    "    if len(word)not in new_dict:\n",
    "        new_dict[len(word)]=[word]\n",
    "    else:\n",
    "        new_dict[len(word)].append(word)\n",
    "print(\"words with length\",new_dict)"
   ]
  },
  {
   "cell_type": "markdown",
   "id": "58d2df02",
   "metadata": {},
   "source": [
    "# 7."
   ]
  },
  {
   "cell_type": "code",
   "execution_count": 1,
   "id": "c3c5d10d",
   "metadata": {},
   "outputs": [
    {
     "name": "stdout",
     "output_type": "stream",
     "text": [
      "{(1, 2): 3, (3, 4): 7, (5, 6): 11, (7, 8): 15, (9, 10): 19}\n"
     ]
    }
   ],
   "source": [
    "a={}\n",
    "tuples=[(1,2),(3,4),(5,6),(7,8),(9,10)]\n",
    "for i in tuples:\n",
    "    key=i\n",
    "    value=sum(i)\n",
    "    a[key]=value\n",
    "print(a)\n",
    "    "
   ]
  },
  {
   "cell_type": "markdown",
   "id": "3bd5bd7b",
   "metadata": {},
   "source": [
    "# 8.Intersection"
   ]
  },
  {
   "cell_type": "code",
   "execution_count": 6,
   "id": "37723129",
   "metadata": {},
   "outputs": [
    {
     "name": "stdout",
     "output_type": "stream",
     "text": [
      "intersection of a and b is: {'mango': '40', 'cherry': '30'}\n"
     ]
    }
   ],
   "source": [
    "a={\"apple\":\"20\",\"mango\":\"40\",\"orange\":\"65\",\"cherry\":\"30\"}\n",
    "b={\"lemon\":\"40\",\"mango\":\"40\",\"kiwi\":\"50\",\"cherry\":\"30\"}\n",
    "intersection={key:a[key] for key in a if key in b and a[key]==b[key]}\n",
    "print(\"intersection of a and b is:\",intersection)"
   ]
  },
  {
   "cell_type": "code",
   "execution_count": null,
   "id": "1ff68c03",
   "metadata": {},
   "outputs": [],
   "source": []
  }
 ],
 "metadata": {
  "kernelspec": {
   "display_name": "Python 3 (ipykernel)",
   "language": "python",
   "name": "python3"
  },
  "language_info": {
   "codemirror_mode": {
    "name": "ipython",
    "version": 3
   },
   "file_extension": ".py",
   "mimetype": "text/x-python",
   "name": "python",
   "nbconvert_exporter": "python",
   "pygments_lexer": "ipython3",
   "version": "3.11.4"
  }
 },
 "nbformat": 4,
 "nbformat_minor": 5
}
