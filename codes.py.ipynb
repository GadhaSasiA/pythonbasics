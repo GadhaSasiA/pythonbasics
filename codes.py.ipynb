{
 "cells": [
  {
   "cell_type": "markdown",
   "id": "acc99139",
   "metadata": {},
   "source": [
    "# 1.First 7 multiples of 7"
   ]
  },
  {
   "cell_type": "code",
   "execution_count": 1,
   "id": "d3bad5ff",
   "metadata": {},
   "outputs": [
    {
     "name": "stdout",
     "output_type": "stream",
     "text": [
      "7\n",
      "14\n",
      "21\n",
      "28\n",
      "35\n",
      "42\n",
      "49\n"
     ]
    }
   ],
   "source": [
    "i=1\n",
    "n=7\n",
    "while i<=n:\n",
    "    print(i*n)\n",
    "    i+=1"
   ]
  },
  {
   "cell_type": "markdown",
   "id": "d0ee25f2",
   "metadata": {},
   "source": [
    "#  2.Sum of each number"
   ]
  },
  {
   "cell_type": "code",
   "execution_count": 8,
   "id": "8d715a4f",
   "metadata": {},
   "outputs": [
    {
     "name": "stdout",
     "output_type": "stream",
     "text": [
      "sum of the element: 2\n",
      "sum of the element: 5\n",
      "sum of the element: 9\n",
      "sum of the element: 14\n"
     ]
    }
   ],
   "source": [
    "i=0\n",
    "total=0\n",
    "a=[2,3,4,5]\n",
    "while i<len(a):\n",
    "    total=total+a[i]\n",
    "    i+=1\n",
    "    print(\"sum of the element:\" ,total)"
   ]
  },
  {
   "cell_type": "markdown",
   "id": "9fb63294",
   "metadata": {},
   "source": [
    "# 3. square"
   ]
  },
  {
   "cell_type": "code",
   "execution_count": null,
   "id": "9e9966a6",
   "metadata": {},
   "outputs": [],
   "source": [
    "i=0\n",
    "square=[]\n",
    "list1=[2,3,4,5,6]\n",
    "while i<=len(list1):\n",
    "        square.append(list1[i]*2)\n",
    "        continue\n",
    "        print(square)\n",
    "        i+=1\n",
    "        print(\"\")"
   ]
  },
  {
   "cell_type": "markdown",
   "id": "6e76b45c",
   "metadata": {},
   "source": [
    "# 4. Reverse the word"
   ]
  },
  {
   "cell_type": "code",
   "execution_count": 48,
   "id": "0045ec36",
   "metadata": {},
   "outputs": [
    {
     "name": "stdout",
     "output_type": "stream",
     "text": [
      "dlrow olleh\n"
     ]
    }
   ],
   "source": [
    "a=(\"hello world\")\n",
    "i=0\n",
    "while i<=a(i):\n",
    "    if \n",
    "print()\n"
   ]
  },
  {
   "cell_type": "markdown",
   "id": "7277c85b",
   "metadata": {},
   "source": [
    "# 5.Check prime num or not"
   ]
  },
  {
   "cell_type": "code",
   "execution_count": 20,
   "id": "b6b97b44",
   "metadata": {},
   "outputs": [
    {
     "name": "stdout",
     "output_type": "stream",
     "text": [
      "enter a number:54\n"
     ]
    }
   ],
   "source": [
    "count=0\n",
    "i=2\n",
    "a=int(input(\"enter a number:\"))\n",
    "while i <=a//2:\n",
    "    if a%i==0:\n",
    "        count=count+1\n",
    "    break\n",
    "    i+=1\n",
    "    if(count==0 and a!=1):\n",
    "            print(\"%d is a prime\" %number)\n",
    "    else:\n",
    "         print(\"%d is not a prime\" %number)\n"
   ]
  },
  {
   "cell_type": "markdown",
   "id": "4f54bd42",
   "metadata": {},
   "source": [
    "# 6.Armstrong num"
   ]
  },
  {
   "cell_type": "code",
   "execution_count": 10,
   "id": "f564ae0a",
   "metadata": {},
   "outputs": [
    {
     "name": "stdout",
     "output_type": "stream",
     "text": [
      "enter a number:4\n",
      "4 is not an armstrong number\n"
     ]
    }
   ],
   "source": [
    "a=int(input(\"enter a number:\"))\n",
    "s=0\n",
    "temp=a\n",
    "while temp>0:\n",
    "    d=temp%10\n",
    "    s+=d**3\n",
    "    temp//=10\n",
    "if a==s:\n",
    "    print(a ,\"is an armstrong number\")\n",
    "else:\n",
    "    print(a ,\"is not an armstrong number\")"
   ]
  },
  {
   "cell_type": "markdown",
   "id": "19e7e347",
   "metadata": {},
   "source": [
    "# 7.Print a pattern"
   ]
  },
  {
   "cell_type": "code",
   "execution_count": 3,
   "id": "55fa9f1c",
   "metadata": {},
   "outputs": [
    {
     "name": "stdout",
     "output_type": "stream",
     "text": [
      "*\n",
      "**\n",
      "***\n",
      "****\n"
     ]
    }
   ],
   "source": [
    "row=5\n",
    "i=1\n",
    "while i<row:\n",
    "    print(\"*\"*i)\n",
    "    i+=1\n"
   ]
  },
  {
   "cell_type": "code",
   "execution_count": null,
   "id": "12dc9e3c",
   "metadata": {},
   "outputs": [],
   "source": []
  }
 ],
 "metadata": {
  "kernelspec": {
   "display_name": "Python 3 (ipykernel)",
   "language": "python",
   "name": "python3"
  },
  "language_info": {
   "codemirror_mode": {
    "name": "ipython",
    "version": 3
   },
   "file_extension": ".py",
   "mimetype": "text/x-python",
   "name": "python",
   "nbconvert_exporter": "python",
   "pygments_lexer": "ipython3",
   "version": "3.11.4"
  }
 },
 "nbformat": 4,
 "nbformat_minor": 5
}
