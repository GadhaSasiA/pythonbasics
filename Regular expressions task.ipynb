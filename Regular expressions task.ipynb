{
 "cells": [
  {
   "cell_type": "markdown",
   "id": "ccd110d5",
   "metadata": {},
   "source": [
    "# 1"
   ]
  },
  {
   "cell_type": "code",
   "execution_count": 1,
   "id": "e14c95a8",
   "metadata": {},
   "outputs": [
    {
     "name": "stdout",
     "output_type": "stream",
     "text": [
      "match!\n"
     ]
    }
   ],
   "source": [
    "import re\n",
    "a=\"gg@gmail.com\"\n",
    "if re.search(\"[\\w\\.-]+@[\\w\\.-]+\",a):\n",
    "    print(\"match!\")\n",
    "else:\n",
    "    print(\"not a match\")"
   ]
  },
  {
   "cell_type": "markdown",
   "id": "59534c39",
   "metadata": {},
   "source": [
    "# 2"
   ]
  },
  {
   "cell_type": "code",
   "execution_count": 2,
   "id": "a90cf128",
   "metadata": {},
   "outputs": [
    {
     "name": "stdout",
     "output_type": "stream",
     "text": [
      "match!\n"
     ]
    }
   ],
   "source": [
    "import re\n",
    "a=\"2000-20-12\"\n",
    "if re.search(\"^\\d{4}-\\d{2}-\\d{2}$\",a):\n",
    "    print(\"match!\")\n",
    "else:\n",
    "    print(\"not a match\")"
   ]
  },
  {
   "cell_type": "markdown",
   "id": "8ac5ae79",
   "metadata": {},
   "source": [
    "# 3"
   ]
  },
  {
   "cell_type": "code",
   "execution_count": 3,
   "id": "d584a2e9",
   "metadata": {},
   "outputs": [
    {
     "name": "stdout",
     "output_type": "stream",
     "text": [
      "Match!\n"
     ]
    }
   ],
   "source": [
    "a=\"1,2,3,4,5,6,7,8,9,10\"\n",
    "if re.search(\"[13579]\",a):\n",
    "    print(\"Match!\")\n",
    "else: \n",
    "    print(\"Not a match!\")"
   ]
  },
  {
   "cell_type": "markdown",
   "id": "c410085b",
   "metadata": {},
   "source": [
    "# 4"
   ]
  },
  {
   "cell_type": "code",
   "execution_count": 4,
   "id": "8a126ad9",
   "metadata": {},
   "outputs": [
    {
     "name": "stdout",
     "output_type": "stream",
     "text": [
      "Match!\n"
     ]
    }
   ],
   "source": [
    "a=\"Hello world\"\n",
    "if re.search(\"^[a-zA-Z\\s]+$\",a):\n",
    "    print(\"Match!\")\n",
    "else:\n",
    "    print(\"Not a match!\")"
   ]
  },
  {
   "cell_type": "markdown",
   "id": "7ab025fe",
   "metadata": {},
   "source": [
    "# 5"
   ]
  },
  {
   "cell_type": "code",
   "execution_count": 2,
   "id": "45361915",
   "metadata": {
    "scrolled": true
   },
   "outputs": [
    {
     "name": "stdout",
     "output_type": "stream",
     "text": [
      "ice cream: Match!\n",
      "banana: Not a match!\n",
      "ant: Match!\n"
     ]
    }
   ],
   "source": [
    "import re\n",
    "a= [\"ice cream\", \"banana\", \"ant\"]\n",
    "for word in a:\n",
    "    if re.search(\"^[aeiouAEIOU].*[bcdfghjklmnpqrstvwxyzBCDFGHJKLMNPQRSTVWXYZ]\",word):\n",
    "        print(f\"{word}: Match!\")\n",
    "    else:\n",
    "        print(f\"{word}: Not a match!\")"
   ]
  },
  {
   "cell_type": "markdown",
   "id": "738e181a",
   "metadata": {},
   "source": [
    "# 6"
   ]
  },
  {
   "cell_type": "code",
   "execution_count": 2,
   "id": "55e7d040",
   "metadata": {},
   "outputs": [
    {
     "name": "stdout",
     "output_type": "stream",
     "text": [
      "Not a match!\n"
     ]
    }
   ],
   "source": [
    "import re\n",
    "s = \"This is a python string\"\n",
    "if re.search(r\"(?i)\\b\\w{2}python\\w{2}\\b\",s,re.IGNORECASE):\n",
    "    print(\"Match!\")\n",
    "else:\n",
    "    print(\"Not a match!\")"
   ]
  },
  {
   "cell_type": "markdown",
   "id": "287a7e6b",
   "metadata": {},
   "source": [
    "# 7"
   ]
  },
  {
   "cell_type": "code",
   "execution_count": 6,
   "id": "77fc3132",
   "metadata": {},
   "outputs": [
    {
     "name": "stdout",
     "output_type": "stream",
     "text": [
      "Match!\n"
     ]
    }
   ],
   "source": [
    "a=\"Hello world\"\n",
    "if re.search(\"^[a-zA-Z\\s]+$\",a):\n",
    "    print(\"Match!\")\n",
    "else:\n",
    "    print(\"Not a match!\")"
   ]
  },
  {
   "cell_type": "markdown",
   "id": "91638c02",
   "metadata": {},
   "source": [
    "# 8"
   ]
  },
  {
   "cell_type": "code",
   "execution_count": 3,
   "id": "336446c0",
   "metadata": {},
   "outputs": [
    {
     "name": "stdout",
     "output_type": "stream",
     "text": [
      "Matched: 192.168.0.1\n"
     ]
    }
   ],
   "source": [
    "import re\n",
    "ipv4 = r'\\b(?:\\d{1,3}\\.){3}\\d{1,3}\\b'\n",
    "x = \"This is an example IP address: 192.168.0.1\"\n",
    "matches = re.search(ipv4, x)\n",
    "if matches:\n",
    "    print(f\"Matched: {matches.group()}\")\n",
    "else:\n",
    "    print(\"No valid IPv4 address found.\")"
   ]
  },
  {
   "cell_type": "markdown",
   "id": "87c4b483",
   "metadata": {},
   "source": [
    "# 9"
   ]
  },
  {
   "cell_type": "code",
   "execution_count": 4,
   "id": "551e9f97",
   "metadata": {},
   "outputs": [
    {
     "name": "stdout",
     "output_type": "stream",
     "text": [
      "Matched String: 192.168.1.1\n",
      "Starting Position: 0\n"
     ]
    }
   ],
   "source": [
    "import re\n",
    "ipv4_pattern = re.compile(r'^(\\d{1,3}\\.){3}\\d{1,3}$')\n",
    "ip_address = \"192.168.1.1\"\n",
    "match = ipv4_pattern.match(ip_address)\n",
    "if match:\n",
    "    matched_string = match.group(0)\n",
    "    start_position = match.start()\n",
    "    print(f\"Matched String: {matched_string}\")\n",
    "    print(f\"Starting Position: {start_position}\")\n",
    "else:\n",
    "    print(\"No match found.\")"
   ]
  },
  {
   "cell_type": "markdown",
   "id": "4b4ee6c2",
   "metadata": {},
   "source": [
    "# 10"
   ]
  },
  {
   "cell_type": "code",
   "execution_count": 5,
   "id": "24282b90",
   "metadata": {},
   "outputs": [
    {
     "name": "stdout",
     "output_type": "stream",
     "text": [
      "['2023-04-13']\n"
     ]
    }
   ],
   "source": [
    "import re\n",
    "date = re.compile(r'\\b\\d{4}-\\d{2}-\\d{2}\\b')\n",
    "x = \"Today's date is 2023-04-13\"\n",
    "d = re.findall(date, x)\n",
    "print(d)"
   ]
  },
  {
   "cell_type": "markdown",
   "id": "7fe467ac",
   "metadata": {},
   "source": [
    "# 11"
   ]
  },
  {
   "cell_type": "code",
   "execution_count": 6,
   "id": "b5483fd3",
   "metadata": {},
   "outputs": [
    {
     "name": "stdout",
     "output_type": "stream",
     "text": [
      "['gadhasasia@gmail.com']\n"
     ]
    }
   ],
   "source": [
    "import re\n",
    "mail = re.compile(\"[\\w\\.-]+@[\\w\\.-]+\")\n",
    "x = \"gadhasasia@gmail.com\"\n",
    "d = re.findall(mail, x)\n",
    "print(d)"
   ]
  },
  {
   "cell_type": "markdown",
   "id": "6717f014",
   "metadata": {},
   "source": [
    "# 12"
   ]
  },
  {
   "cell_type": "code",
   "execution_count": 8,
   "id": "559d5cd2",
   "metadata": {},
   "outputs": [
    {
     "name": "stdout",
     "output_type": "stream",
     "text": [
      "Visit [URL REDACTED] for more information, or visit [URL REDACTED]\n"
     ]
    }
   ],
   "source": [
    "import re\n",
    "\n",
    "url = re.compile(r'https?://www\\.[\\w\\.-]+')\n",
    "x = \"Visit http://www.example.com for more information, or visit https://www.example.com\"\n",
    "d = re.sub(url, '[URL REDACTED]', x)\n",
    "print(d)\n"
   ]
  },
  {
   "cell_type": "markdown",
   "id": "a758a05d",
   "metadata": {},
   "source": [
    "# 13"
   ]
  },
  {
   "cell_type": "code",
   "execution_count": 9,
   "id": "dee804e9",
   "metadata": {},
   "outputs": [
    {
     "name": "stdout",
     "output_type": "stream",
     "text": [
      "Matched: 3.14, Start: 33, End: 37\n",
      "Matched: 2.71828, Start: 62, End: 69\n"
     ]
    }
   ],
   "source": [
    "import re\n",
    "\n",
    "pattern = r'\\d+(\\.\\d+)?'\n",
    "a = \"The value of pi is approximately 3.14, and e is approximately 2.71828\"\n",
    "b = re.finditer(pattern, a)\n",
    "\n",
    "for match in b:\n",
    "    matched_string = match.group(0)\n",
    "    start_position = match.start()\n",
    "    end_position = match.end()\n",
    "    print(f\"Matched: {matched_string}, Start: {start_position}, End: {end_position}\")\n"
   ]
  },
  {
   "cell_type": "markdown",
   "id": "6844dbd1",
   "metadata": {},
   "source": [
    "# 14"
   ]
  },
  {
   "cell_type": "code",
   "execution_count": 10,
   "id": "02551900",
   "metadata": {},
   "outputs": [
    {
     "name": "stdout",
     "output_type": "stream",
     "text": [
      "['1234-5678-9012-3456']\n"
     ]
    }
   ],
   "source": [
    "import re\n",
    "credit_card = r'\\b\\d{4}-\\d{4}-\\d{4}-\\d{4}\\b'\n",
    "a = \"My credit card number is 1234-5678-9012-3456.\"\n",
    "b = re.findall(credit_card, a)\n",
    "print(b)"
   ]
  },
  {
   "cell_type": "markdown",
   "id": "f80f112c",
   "metadata": {},
   "source": [
    "# 15"
   ]
  },
  {
   "cell_type": "code",
   "execution_count": 11,
   "id": "e3ffde4e",
   "metadata": {},
   "outputs": [
    {
     "name": "stdout",
     "output_type": "stream",
     "text": [
      "Please call [PHONE REDACTED] for assistance.\n"
     ]
    }
   ],
   "source": [
    "import re\n",
    "phone_num = r'\\(\\d{3}\\) \\d{3}-\\d{4}'\n",
    "x = \"Please call (555) 123-4567 for assistance.\"\n",
    "y = re.sub(phone_num, '[PHONE REDACTED]', x)\n",
    "print(y)"
   ]
  },
  {
   "cell_type": "markdown",
   "id": "8d7b5f1f",
   "metadata": {},
   "source": [
    "# 16"
   ]
  },
  {
   "cell_type": "code",
   "execution_count": 21,
   "id": "a17af146",
   "metadata": {},
   "outputs": [
    {
     "name": "stdout",
     "output_type": "stream",
     "text": [
      "No valid time found.\n"
     ]
    }
   ],
   "source": [
    "import re\n",
    "time = r'([01]\\d|2[0-3]):[0-5]\\d:[0-5]\\d'\n",
    "x = \"The current time is 23:09:42.\"\n",
    "y = re.match(time, x)\n",
    "if y:\n",
    "    matched_string = y.group(0)\n",
    "    start_position = y.start()\n",
    "    print(f\"Matched: {matched_string}, Start: {start_position}\")\n",
    "else:\n",
    "    print(\"No valid time found.\")"
   ]
  },
  {
   "cell_type": "markdown",
   "id": "d43001f5",
   "metadata": {},
   "source": [
    "# 17"
   ]
  },
  {
   "cell_type": "code",
   "execution_count": 25,
   "id": "0a237273",
   "metadata": {},
   "outputs": [
    {
     "name": "stdout",
     "output_type": "stream",
     "text": [
      "['john_doe@example.com', 'jane_smith@mycompany.com']\n"
     ]
    }
   ],
   "source": [
    "import re\n",
    "\n",
    "a = \"My email is john_doe@example.com, but my colleague's email is jane_smith@mycompany.com.\"\n",
    "b = r'\\b[A-Za-z0-9._%+-]+@[A-Za-z0-9.-]+\\.[A-Z|a-z]{2,}\\b(?!@example\\.com)'\n",
    "matched_emails = re.findall(b, a)\n",
    "print(matched_emails)\n"
   ]
  },
  {
   "cell_type": "markdown",
   "id": "0d376779",
   "metadata": {},
   "source": [
    "# 18"
   ]
  },
  {
   "cell_type": "code",
   "execution_count": 23,
   "id": "61f0109c",
   "metadata": {},
   "outputs": [
    {
     "name": "stdout",
     "output_type": "stream",
     "text": [
      "Visit [URL REDACTED] for more information, or visit [URL REDACTED]\n"
     ]
    }
   ],
   "source": [
    "import re\n",
    "\n",
    "url = r'https?://(?!example\\.com)[^\\s]+'\n",
    "x = \"Visit http://www.example.com for more information, or visit http://www\"\n",
    "y = re.sub(url, '[URL REDACTED]', x)\n",
    "print(y)\n"
   ]
  },
  {
   "cell_type": "code",
   "execution_count": null,
   "id": "f6962005",
   "metadata": {},
   "outputs": [],
   "source": []
  }
 ],
 "metadata": {
  "kernelspec": {
   "display_name": "Python 3 (ipykernel)",
   "language": "python",
   "name": "python3"
  },
  "language_info": {
   "codemirror_mode": {
    "name": "ipython",
    "version": 3
   },
   "file_extension": ".py",
   "mimetype": "text/x-python",
   "name": "python",
   "nbconvert_exporter": "python",
   "pygments_lexer": "ipython3",
   "version": "3.11.4"
  }
 },
 "nbformat": 4,
 "nbformat_minor": 5
}
