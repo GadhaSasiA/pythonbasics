{
 "cells": [
  {
   "cell_type": "markdown",
   "id": "cf920a31",
   "metadata": {},
   "source": [
    "# 1.Check a Number"
   ]
  },
  {
   "cell_type": "code",
   "execution_count": 2,
   "id": "67b6834c",
   "metadata": {},
   "outputs": [
    {
     "name": "stdout",
     "output_type": "stream",
     "text": [
      "enter a number34\n",
      "34 is a positive number\n"
     ]
    }
   ],
   "source": [
    "a=int(input(\"enter a number\"))\n",
    "if(a > 0):\n",
    "    print(a ,\"is a positive number\")\n",
    "elif(a<0):\n",
    "    print(a ,\"is negative number\")\n",
    "else:\n",
    "    print(a ,\"is 0\")"
   ]
  },
  {
   "cell_type": "markdown",
   "id": "bbe87bf0",
   "metadata": {},
   "source": [
    "# 2.Find grade"
   ]
  },
  {
   "cell_type": "code",
   "execution_count": 4,
   "id": "ae0a54e9",
   "metadata": {},
   "outputs": [
    {
     "name": "stdout",
     "output_type": "stream",
     "text": [
      "enter a mark:85\n",
      "B Grade\n"
     ]
    }
   ],
   "source": [
    "a=int(input(\"enter a mark:\"))\n",
    "if(a >=90):\n",
    "    print(\"A Grade\")\n",
    "elif(a>=80):\n",
    "    print(\"B Grade\")\n",
    "elif(a>=70):\n",
    "    print(\"c Grade\")\n",
    "elif(a>=60):\n",
    "    print(\"d Grade\")\n",
    "else:\n",
    "    print(\"failed\")"
   ]
  },
  {
   "cell_type": "markdown",
   "id": "5e1ba6cf",
   "metadata": {},
   "source": [
    "# 3.Age"
   ]
  },
  {
   "cell_type": "code",
   "execution_count": 5,
   "id": "be2be389",
   "metadata": {},
   "outputs": [
    {
     "name": "stdout",
     "output_type": "stream",
     "text": [
      "enter an age:45\n",
      "adult\n"
     ]
    }
   ],
   "source": [
    "a=int(input(\"enter an age:\"))\n",
    "if(a<=12):\n",
    "    print(\"child\")\n",
    "elif(a<=19):\n",
    "    print(\"Teenager\")\n",
    "elif(a<=59):\n",
    "    print(\"adult\")\n",
    "elif(a>=60):\n",
    "    print(\"senior\")\n"
   ]
  },
  {
   "cell_type": "markdown",
   "id": "51525c43",
   "metadata": {},
   "source": [
    "# 4.Largest number"
   ]
  },
  {
   "cell_type": "code",
   "execution_count": 6,
   "id": "dcc10bbb",
   "metadata": {},
   "outputs": [
    {
     "name": "stdout",
     "output_type": "stream",
     "text": [
      "enter a number34\n",
      "enter a number54\n",
      "enter a number23\n",
      "54 is Largest Number\n"
     ]
    }
   ],
   "source": [
    "a=int(input(\"enter a number\"))\n",
    "b=int(input(\"enter a number\"))\n",
    "c=int(input(\"enter a number\")) \n",
    "if(a>b and a>c):\n",
    "    print(a ,\"is Largest Number\")\n",
    "elif(b>c):\n",
    "    print(b,\"is Largest Number\")\n",
    "else:\n",
    "    print(c ,\"is Largest Number\")\n",
    "    "
   ]
  },
  {
   "cell_type": "markdown",
   "id": "8f1ac5e4",
   "metadata": {},
   "source": [
    "# 5.Check valid or not"
   ]
  },
  {
   "cell_type": "code",
   "execution_count": 7,
   "id": "63080f92",
   "metadata": {},
   "outputs": [
    {
     "name": "stdout",
     "output_type": "stream",
     "text": [
      "enter a number:23\n",
      "enter a number:12\n",
      "enter a number:20\n",
      "Its a valid triangle\n"
     ]
    }
   ],
   "source": [
    "a=int(input(\"enter a number:\"))\n",
    "b=int(input(\"enter a number:\"))\n",
    "c=int(input(\"enter a number:\"))\n",
    "d=a+b\n",
    "if(d>c):\n",
    "    print(\"Its a valid triangle\")\n",
    "else:\n",
    "     print(\"Its not a valid triangle\")"
   ]
  },
  {
   "cell_type": "markdown",
   "id": "7b68089f",
   "metadata": {},
   "source": [
    "# 6.Time convert"
   ]
  },
  {
   "cell_type": "code",
   "execution_count": 17,
   "id": "04f22b0e",
   "metadata": {},
   "outputs": [
    {
     "name": "stdout",
     "output_type": "stream",
     "text": [
      "enter the time(HH:MM):21:34\n",
      "time in 12 hour format: 9 : 34 : PM\n"
     ]
    }
   ],
   "source": [
    "a=input(\"enter the time(HH:MM):\")\n",
    "hour,minute=map(int,a.split(':'))\n",
    "if(hour>=12):\n",
    "    period=\"PM\"\n",
    "    if(hour>12):\n",
    "        hour=hour-12\n",
    "else:\n",
    "    period=\"AM\"\n",
    "    if(hour==0):\n",
    "        hour=12\n",
    "print(\"time in 12 hour format:\" , hour,\":\" ,minute,\":\" ,period)"
   ]
  },
  {
   "cell_type": "markdown",
   "id": "3dae32c9",
   "metadata": {},
   "source": [
    "# 7.Check vowel or consonants"
   ]
  },
  {
   "cell_type": "code",
   "execution_count": 28,
   "id": "0d01ebdd",
   "metadata": {},
   "outputs": [
    {
     "name": "stdout",
     "output_type": "stream",
     "text": [
      "enter an alphabeta\n",
      "a is a vowel\n"
     ]
    }
   ],
   "source": [
    "a=(input(\"enter an alphabet\"))\n",
    "if(a=='a'or a=='e'or a=='i' or a=='o'or a=='u'):\n",
    "        print(a ,\"is a vowel\")\n",
    "elif a.isalpha():\n",
    "            print(a ,\"is not a vowel\")\n",
    "else:\n",
    "    print(\"it is neither a vowel nor a Consonant\")"
   ]
  },
  {
   "cell_type": "markdown",
   "id": "e851d64e",
   "metadata": {},
   "source": [
    "# 8.Find elder,younger,youngest"
   ]
  },
  {
   "cell_type": "code",
   "execution_count": null,
   "id": "36f46c37",
   "metadata": {},
   "outputs": [],
   "source": []
  },
  {
   "cell_type": "code",
   "execution_count": 19,
   "id": "3c628a30",
   "metadata": {},
   "outputs": [
    {
     "name": "stdout",
     "output_type": "stream",
     "text": [
      "Enter an age20\n",
      "Enter an age23\n",
      "Enter an age25\n",
      "20 is smaller\n",
      "23 is middle\n",
      "25 is elder\n"
     ]
    }
   ],
   "source": [
    "a=int(input(\"Enter an age\"))\n",
    "b=int(input(\"Enter an age\"))\n",
    "c=int(input(\"Enter an age\"))\n",
    "\n",
    "if(a>b and a>c):\n",
    "    print(a ,\"is elder\")\n",
    "elif(a<b and a<c):\n",
    "    print(a ,\"is smaller\")\n",
    "else:\n",
    "    print(a ,\"is middle\")\n",
    "if(b>a and b>c):\n",
    "        print(b ,\"is elder\")\n",
    "elif(b<a and b<c):\n",
    "        print(b ,\"is smaller\")\n",
    "else:\n",
    "        print(b ,\"is middle\")\n",
    "if(c>b and c>a):\n",
    "        print(c ,\"is elder\")\n",
    "elif(c<b and c<a):\n",
    "        print(c ,\"is smaller\")\n",
    "else:\n",
    "        print(c ,\"is middle\")"
   ]
  },
  {
   "cell_type": "markdown",
   "id": "62780339",
   "metadata": {},
   "source": [
    "# 9.Find all pairs of intigers"
   ]
  },
  {
   "cell_type": "code",
   "execution_count": 22,
   "id": "d45ea984",
   "metadata": {},
   "outputs": [
    {
     "name": "stdout",
     "output_type": "stream",
     "text": [
      "Enter an age23\n",
      "Enter an age24\n",
      "Enter an age12\n",
      "23 is middle\n",
      "24 is elder\n",
      "12 is smaller\n"
     ]
    }
   ],
   "source": [
    "a=int(input(\"Enter an age\"))\n",
    "b=int(input(\"Enter an age\"))\n",
    "c=int(input(\"Enter an age\"))\n",
    "\n",
    "if(a>b and a>c):\n",
    "    print(a ,\"is elder\")\n",
    "elif(a<b and a<c):\n",
    "    print(a ,\"is smaller\")\n",
    "else:\n",
    "    print(a ,\"is middle\")\n",
    "if(b>a and b>c):\n",
    "        print(b ,\"is elder\")\n",
    "elif(b<a and b<c):\n",
    "        print(b ,\"is smaller\")\n",
    "else:\n",
    "        print(b ,\"is middle\")\n",
    "if(c>b and c>a):\n",
    "        print(c ,\"is elder\")\n",
    "elif(c<b and c<a):\n",
    "        print(c ,\"is smaller\")\n",
    "else:\n",
    "        print(c ,\"is middle\")"
   ]
  },
  {
   "cell_type": "markdown",
   "id": "59a71151",
   "metadata": {},
   "source": [
    "# 9.Find all pairs "
   ]
  },
  {
   "cell_type": "code",
   "execution_count": 29,
   "id": "1c83c4c0",
   "metadata": {
    "scrolled": true
   },
   "outputs": [
    {
     "name": "stdout",
     "output_type": "stream",
     "text": [
      "enter the sum :5\n",
      "(0, 5)\n",
      "(1, 4)\n",
      "(2, 3)\n"
     ]
    }
   ],
   "source": [
    "arr=[0,1,2,3,4,5,6,7,8,9,]\n",
    "a=int(input(\"enter the sum :\"))\n",
    "for i in range(len(arr)):\n",
    "    for j in range(i+1,len(arr)):\n",
    "        if(arr[i]==arr[j]):\n",
    "            continue\n",
    "        elif(arr[i]+arr[j])==a:\n",
    "            print((arr[i],arr[j]))"
   ]
  },
  {
   "cell_type": "markdown",
   "id": "a6b3422f",
   "metadata": {},
   "source": [
    "# 10. Largest product"
   ]
  },
  {
   "cell_type": "code",
   "execution_count": 32,
   "id": "ee87f49f",
   "metadata": {},
   "outputs": [
    {
     "name": "stdout",
     "output_type": "stream",
     "text": [
      "the sorting array: [-1, 0, 2, 3, 4, 5]\n",
      "60\n"
     ]
    }
   ],
   "source": [
    "arr=[-1,0,2,5,4,3,]\n",
    "arr.sort()\n",
    "print(\"the sorting array:\" , arr)\n",
    "max_prod1=arr[-1]*arr[-2]*arr[-3]\n",
    "max_prod2=arr[0]*arr[1]*arr[-1]\n",
    "print(max(max_prod1,max_prod2))"
   ]
  },
  {
   "cell_type": "code",
   "execution_count": null,
   "id": "12f9346b",
   "metadata": {},
   "outputs": [],
   "source": []
  }
 ],
 "metadata": {
  "kernelspec": {
   "display_name": "Python 3 (ipykernel)",
   "language": "python",
   "name": "python3"
  },
  "language_info": {
   "codemirror_mode": {
    "name": "ipython",
    "version": 3
   },
   "file_extension": ".py",
   "mimetype": "text/x-python",
   "name": "python",
   "nbconvert_exporter": "python",
   "pygments_lexer": "ipython3",
   "version": "3.11.4"
  }
 },
 "nbformat": 4,
 "nbformat_minor": 5
}
