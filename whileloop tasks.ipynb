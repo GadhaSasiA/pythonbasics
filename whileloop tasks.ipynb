{
 "cells": [
  {
   "cell_type": "markdown",
   "id": "d8f7ea43",
   "metadata": {},
   "source": [
    "# 1.First 7 multiples of 7"
   ]
  },
  {
   "cell_type": "code",
   "execution_count": 1,
   "id": "160d7382",
   "metadata": {},
   "outputs": [
    {
     "name": "stdout",
     "output_type": "stream",
     "text": [
      "7\n",
      "14\n",
      "21\n",
      "28\n",
      "35\n",
      "42\n",
      "49\n"
     ]
    }
   ],
   "source": [
    "i=1\n",
    "n=7\n",
    "while i<=n:\n",
    "    print(i*n)\n",
    "    i+=1"
   ]
  },
  {
   "cell_type": "code",
   "execution_count": 1,
   "id": "45806dae",
   "metadata": {},
   "outputs": [
    {
     "name": "stdout",
     "output_type": "stream",
     "text": [
      "7\n",
      "14\n",
      "21\n",
      "28\n",
      "35\n",
      "42\n",
      "49\n"
     ]
    }
   ],
   "source": [
    "i=1\n",
    "n=7\n",
    "while i<=n:\n",
    "    print(i*n)\n",
    "    i+=1"
   ]
  },
  {
   "cell_type": "markdown",
   "id": "16bd540a",
   "metadata": {},
   "source": [
    "#  2.Sum of each number"
   ]
  },
  {
   "cell_type": "code",
   "execution_count": 2,
   "id": "8f9b04a9",
   "metadata": {},
   "outputs": [
    {
     "name": "stdout",
     "output_type": "stream",
     "text": [
      "sum of the element: 14\n"
     ]
    }
   ],
   "source": [
    "i=0\n",
    "total=0\n",
    "a=[2,3,4,5]\n",
    "while i<len(a):\n",
    "    total+=a[i]\n",
    "    i=i+1\n",
    "print(\"sum of the element:\" ,total)"
   ]
  },
  {
   "cell_type": "markdown",
   "id": "515a2d34",
   "metadata": {},
   "source": [
    "# 3.Separate +ve & -ve num"
   ]
  },
  {
   "cell_type": "code",
   "execution_count": 10,
   "id": "28e365c3",
   "metadata": {},
   "outputs": [
    {
     "name": "stdout",
     "output_type": "stream",
     "text": [
      "positive numbers are: [1, 2, 3]\n",
      "negative numbers are: [-1, -2, -3]\n"
     ]
    }
   ],
   "source": [
    "a=[1,2,3,-1,-2,-3]\n",
    "p=[]\n",
    "n=[]\n",
    "i=0\n",
    "while i<len(a):\n",
    "    if(a[i]>=0):\n",
    "        p.append(a[i])\n",
    "    else:\n",
    "        n.append(a[i])\n",
    "    i+=1\n",
    "print(\"positive numbers are:\",p)\n",
    "print(\"negative numbers are:\",n)\n"
   ]
  },
  {
   "cell_type": "code",
   "execution_count": null,
   "id": "605b7b13",
   "metadata": {},
   "outputs": [],
   "source": [
    "a=[1,2,3,4,-5,-6,-7]\n",
    "p=[]\n",
    "n=[]\n",
    "i=0\n",
    "while i<=len(a):\n",
    "    if a[i]>=0:\n",
    "        p.append(a[i])\n",
    "    else:\n",
    "        n.append(a[i])\n",
    "print(\"positive numbers:\",p)\n",
    "print(\"negative numbers:\",n)"
   ]
  },
  {
   "cell_type": "markdown",
   "id": "1a17bce9",
   "metadata": {},
   "source": [
    "# 4. square"
   ]
  },
  {
   "cell_type": "code",
   "execution_count": 15,
   "id": "1b0e67c4",
   "metadata": {},
   "outputs": [
    {
     "name": "stdout",
     "output_type": "stream",
     "text": [
      "the suare of each number is: [4, 9, 16, 25, 36]\n"
     ]
    }
   ],
   "source": [
    "list1=[2,3,4,5,6]\n",
    "i=0\n",
    "square=[]\n",
    "while i<len(list1):\n",
    "        x=list1[i]*list1[i]\n",
    "        square.append(x)\n",
    "        i+=1\n",
    "print(\"the suare of each number is:\", square)"
   ]
  },
  {
   "cell_type": "markdown",
   "id": "c638df9d",
   "metadata": {},
   "source": [
    "# 5.Reverse the word"
   ]
  },
  {
   "cell_type": "code",
   "execution_count": 65,
   "id": "1365f0d8",
   "metadata": {},
   "outputs": [
    {
     "name": "stdout",
     "output_type": "stream",
     "text": [
      "enter a string:Gadha\n",
      "The reversed string is: ahdaG\n"
     ]
    }
   ],
   "source": [
    "a=input(\"enter a string:\")\n",
    "rev_str=\"\"\n",
    "i=len(a)-1\n",
    "while i>=0:\n",
    "    rev_str+=a[i]\n",
    "    i-=1\n",
    "print(\"The reversed string is:\",rev_str)\n"
   ]
  },
  {
   "cell_type": "code",
   "execution_count": null,
   "id": "44f1d9ca",
   "metadata": {},
   "outputs": [],
   "source": [
    "a=input(\"enter a string\")\n",
    "rev_str=\"\"\n",
    "i=len(a)-1\n",
    "while i>=0:\n",
    "    rev_str=a[i]\n",
    "    i-=1\n",
    "print(\"reverse string is:\",rev_str)"
   ]
  },
  {
   "cell_type": "markdown",
   "id": "e6ce9b49",
   "metadata": {},
   "source": [
    "# 6 Even and odd"
   ]
  },
  {
   "cell_type": "code",
   "execution_count": 2,
   "id": "05f27767",
   "metadata": {},
   "outputs": [
    {
     "name": "stdout",
     "output_type": "stream",
     "text": [
      "Even number in the list: [2, 4, 6, 8]\n",
      "Odd number in the list: [1, 3, 5, 7, 9]\n"
     ]
    }
   ],
   "source": [
    "a=[1,2,3,4,5,6,7,8,9]\n",
    "even=[]\n",
    "odd=[]\n",
    "i=0\n",
    "while i<len(a):\n",
    "    if a[i]%2==0:\n",
    "        even.append(a[i])\n",
    "    else:\n",
    "        odd.append(a[i])\n",
    "    i+=1\n",
    "print(\"Even number in the list:\",even)\n",
    "print(\"Odd number in the list:\",odd)"
   ]
  },
  {
   "cell_type": "markdown",
   "id": "7d7d49c3",
   "metadata": {},
   "source": [
    "# 7.Number guessing game "
   ]
  },
  {
   "cell_type": "code",
   "execution_count": 15,
   "id": "1fc61b3b",
   "metadata": {},
   "outputs": [
    {
     "name": "stdout",
     "output_type": "stream",
     "text": [
      "Enter any number: 4\n",
      "Too low\n",
      "Enter number again: 5\n",
      "Too low\n",
      "Enter number again: 7\n",
      "you guessed it right!!\n"
     ]
    }
   ],
   "source": [
    "import random\n",
    "a = random.randrange(1,10)\n",
    "guess = int(input(\"Enter any number: \"))\n",
    "while a!= guess:\n",
    "    if guess < a:\n",
    "        print(\"Too low\")\n",
    "        guess = int(input(\"Enter number again: \"))\n",
    "    elif guess > n:\n",
    "        print(\"Too high!\")\n",
    "        guess = int(input(\"Enter number again: \"))\n",
    "    else:\n",
    "        break\n",
    "print(\"you guessed it right!!\")"
   ]
  },
  {
   "cell_type": "markdown",
   "id": "6ecc2894",
   "metadata": {},
   "source": [
    "# 8.Palindrome or not"
   ]
  },
  {
   "cell_type": "code",
   "execution_count": 11,
   "id": "d117ace4",
   "metadata": {},
   "outputs": [
    {
     "name": "stdout",
     "output_type": "stream",
     "text": [
      "enter a word:amma\n",
      "string is palindrome\n"
     ]
    }
   ],
   "source": [
    "string=(input(\"enter a word:\"))\n",
    "first=0\n",
    "last=len(string)-1\n",
    "while(first<last):\n",
    "        if(string[first]==string[last]):\n",
    "            print(\"string is palindrome\")\n",
    "            first+=1\n",
    "            last=1\n",
    "            break\n",
    "else:\n",
    "    print(\"string is not palindrome\")"
   ]
  },
  {
   "cell_type": "markdown",
   "id": "280f65ad",
   "metadata": {},
   "source": [
    "# 9.Multiplication table"
   ]
  },
  {
   "cell_type": "code",
   "execution_count": 4,
   "id": "0716528e",
   "metadata": {},
   "outputs": [
    {
     "name": "stdout",
     "output_type": "stream",
     "text": [
      "enter a number:2\n",
      "2 x 1 = 2\n",
      "\n",
      "2 x 2 = 4\n",
      "\n",
      "2 x 3 = 6\n",
      "\n",
      "2 x 4 = 8\n",
      "\n",
      "2 x 5 = 10\n",
      "\n",
      "2 x 6 = 12\n",
      "\n",
      "2 x 7 = 14\n",
      "\n",
      "2 x 8 = 16\n",
      "\n",
      "2 x 9 = 18\n",
      "\n",
      "2 x 10 = 20\n",
      "\n"
     ]
    }
   ],
   "source": [
    "i=1\n",
    "n=10\n",
    "a=int(input(\"enter a number:\"))\n",
    "while i<=n:\n",
    "    a=a*1\n",
    "    print(a,\"x\",i,\"=\",a*i)\n",
    "    i+=1\n",
    "    print(\"\")\n",
    "    "
   ]
  },
  {
   "cell_type": "markdown",
   "id": "2673f95e",
   "metadata": {},
   "source": [
    "# 10.Check prime num or not"
   ]
  },
  {
   "cell_type": "code",
   "execution_count": 63,
   "id": "bcc6aafb",
   "metadata": {
    "scrolled": true
   },
   "outputs": [
    {
     "name": "stdout",
     "output_type": "stream",
     "text": [
      "enter a number:43\n",
      "it is a prime number\n"
     ]
    }
   ],
   "source": [
    "count=0\n",
    "i=2\n",
    "a=int(input(\"enter a number:\"))\n",
    "while i <=a//2:\n",
    "    if a%i==0:\n",
    "        count=count+1\n",
    "    break\n",
    "    i+=1\n",
    "if(count==0 and a!=1):\n",
    "    print(\"it is a prime number\")\n",
    "else:\n",
    "    print(\"it is not a prime number\")\n"
   ]
  },
  {
   "cell_type": "markdown",
   "id": "af59a10b",
   "metadata": {},
   "source": [
    "# 11.Power of num"
   ]
  },
  {
   "cell_type": "code",
   "execution_count": 6,
   "id": "443ef328",
   "metadata": {},
   "outputs": [
    {
     "name": "stdout",
     "output_type": "stream",
     "text": [
      "enter a number:3\n",
      "enter a number:5\n",
      "3 power of 5 is 243\n"
     ]
    }
   ],
   "source": [
    "a =(int(input(\"enter a number:\")))\n",
    "b =(int(input(\"enter a number:\")))\n",
    "result=1\n",
    "i=1\n",
    "while i<=b: \n",
    "    result*=a\n",
    "    i+=1\n",
    "print(a ,\"power of\",b,\"is\",result) "
   ]
  },
  {
   "cell_type": "markdown",
   "id": "3a4296b4",
   "metadata": {},
   "source": [
    "# 12.Armstrong num"
   ]
  },
  {
   "cell_type": "code",
   "execution_count": 8,
   "id": "62468f80",
   "metadata": {},
   "outputs": [
    {
     "name": "stdout",
     "output_type": "stream",
     "text": [
      "enter a number:23\n",
      "23 is not an armstrong number\n"
     ]
    }
   ],
   "source": [
    "a=int(input(\"enter a number:\"))\n",
    "s=0\n",
    "temp=a\n",
    "while temp>0:\n",
    "    d=temp%10\n",
    "    s+=d**3\n",
    "    temp//=10\n",
    "if a==s:\n",
    "    print(a ,\"is an armstrong number\")\n",
    "else:\n",
    "    print(a ,\"is not an armstrong number\")"
   ]
  },
  {
   "cell_type": "markdown",
   "id": "bcb1cb39",
   "metadata": {},
   "source": [
    "# 13.GCD of 2 num"
   ]
  },
  {
   "cell_type": "code",
   "execution_count": 11,
   "id": "1305857a",
   "metadata": {},
   "outputs": [
    {
     "name": "stdout",
     "output_type": "stream",
     "text": [
      "enter first number:20\n",
      "enter second number:25\n",
      "GCD of 20 and 25 is 5\n"
     ]
    }
   ],
   "source": [
    "x=int(input(\"enter first number:\"))\n",
    "y=int(input(\"enter second number:\"))\n",
    "while x>y:\n",
    "    x,y=y,x\n",
    "for i in range(1,x+1):\n",
    "    if x%i==0 and y%i==0:\n",
    "        gcd=i\n",
    "print(\"GCD of\",x,\"and\",y,\"is\",gcd)\n"
   ]
  },
  {
   "cell_type": "markdown",
   "id": "695f56b5",
   "metadata": {},
   "source": [
    "# 14.Largest element"
   ]
  },
  {
   "cell_type": "code",
   "execution_count": 39,
   "id": "3b1fa817",
   "metadata": {},
   "outputs": [
    {
     "name": "stdout",
     "output_type": "stream",
     "text": [
      "Largest element in the list is: 9\n"
     ]
    }
   ],
   "source": [
    "n= [1,2,6,9,8,3,5,]\n",
    "i= 0\n",
    "while n[i+1]>n[i]:\n",
    "        i+=1\n",
    "print (\"Largest element in the list is:\",n[i])"
   ]
  },
  {
   "cell_type": "markdown",
   "id": "5ea4e36f",
   "metadata": {},
   "source": [
    "# 15.Print a pattern"
   ]
  },
  {
   "cell_type": "code",
   "execution_count": 2,
   "id": "af34bbb7",
   "metadata": {},
   "outputs": [
    {
     "name": "stdout",
     "output_type": "stream",
     "text": [
      "*\n",
      "**\n",
      "***\n",
      "****\n",
      "*****\n"
     ]
    }
   ],
   "source": [
    "row=6\n",
    "i=1\n",
    "while i<row:\n",
    "    print(i*\"*\")\n",
    "    i+=1"
   ]
  },
  {
   "cell_type": "markdown",
   "id": "7adb8028",
   "metadata": {},
   "source": [
    "# 16. Count the number"
   ]
  },
  {
   "cell_type": "code",
   "execution_count": 11,
   "id": "8b3f8e43",
   "metadata": {},
   "outputs": [
    {
     "name": "stdout",
     "output_type": "stream",
     "text": [
      "enter a number:1465\n",
      "the number of digits: 4\n"
     ]
    }
   ],
   "source": [
    "a=int(input(\"enter a number:\"))\n",
    "count=0\n",
    "while a>0:\n",
    "    count=count+1\n",
    "    a=a//10\n",
    "print(\"the number of digits:\", count)"
   ]
  }
 ],
 "metadata": {
  "kernelspec": {
   "display_name": "Python 3 (ipykernel)",
   "language": "python",
   "name": "python3"
  },
  "language_info": {
   "codemirror_mode": {
    "name": "ipython",
    "version": 3
   },
   "file_extension": ".py",
   "mimetype": "text/x-python",
   "name": "python",
   "nbconvert_exporter": "python",
   "pygments_lexer": "ipython3",
   "version": "3.11.4"
  }
 },
 "nbformat": 4,
 "nbformat_minor": 5
}
