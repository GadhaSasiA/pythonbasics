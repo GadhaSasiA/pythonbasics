{
 "cells": [
  {
   "cell_type": "markdown",
   "id": "33a506c3",
   "metadata": {},
   "source": [
    "# 1"
   ]
  },
  {
   "cell_type": "code",
   "execution_count": 1,
   "id": "be31b14f",
   "metadata": {},
   "outputs": [
    {
     "name": "stdout",
     "output_type": "stream",
     "text": [
      "[(4, 3), (5, 2), (6, 1)]\n"
     ]
    }
   ],
   "source": [
    "def find_pairs_with_sum(arr, k):\n",
    "    pairs = []\n",
    "    seen = set()\n",
    "\n",
    "    for num in arr:\n",
    "        sum_= k - num\n",
    "\n",
    "        if sum_ in seen:\n",
    "            pairs.append((num, complement))\n",
    "\n",
    "        seen.add(num)\n",
    "\n",
    "    return pairs\n",
    "\n",
    "arr = [1, 2, 3, 4, 5, 6]\n",
    "k = 7\n",
    "result = find_pairs_with_sum(arr, k)\n",
    "print(result)\n"
   ]
  },
  {
   "cell_type": "markdown",
   "id": "79f4eb29",
   "metadata": {},
   "source": [
    "# 1"
   ]
  },
  {
   "cell_type": "code",
   "execution_count": 1,
   "id": "e17460fa",
   "metadata": {},
   "outputs": [
    {
     "name": "stdout",
     "output_type": "stream",
     "text": [
      "Enter a size: 4\n",
      "Enter numbers separated by space: 5 1 4 2\n",
      "enter a num:6\n",
      "Pairs that sum up to 6 are: [(5, 1), (4, 2)]\n"
     ]
    }
   ],
   "source": [
    "a = int(input(\"Enter a size: \"))\n",
    "b = input(\"Enter numbers separated by space: \").split()\n",
    "k=int(input(\"enter a num:\"))\n",
    "result = []\n",
    "\n",
    "for i in range(len(b)):\n",
    "    for j in range(i+1, len(b)):\n",
    "        num1 = int(b[i])\n",
    "        num2 = int(b[j])\n",
    "\n",
    "        if num1 + num2 == k:\n",
    "            result.append((num1, num2))\n",
    "\n",
    "print(\"Pairs that sum up to\", k, \"are:\", result)\n"
   ]
  },
  {
   "cell_type": "markdown",
   "id": "d7888e35",
   "metadata": {},
   "source": [
    "# 2"
   ]
  },
  {
   "cell_type": "code",
   "execution_count": 23,
   "id": "528f9534",
   "metadata": {},
   "outputs": [
    {
     "name": "stdout",
     "output_type": "stream",
     "text": [
      "enter two numbers5\n",
      "enter two numbers3\n",
      "125\n"
     ]
    }
   ],
   "source": [
    "a=int(input(\"enter a numbers\"))\n",
    "b=int(input(\"enter a numbers\"))\n",
    "c=(a**b)\n",
    "print(c)"
   ]
  },
  {
   "cell_type": "code",
   "execution_count": 1,
   "id": "dca89a2e",
   "metadata": {},
   "outputs": [
    {
     "name": "stdout",
     "output_type": "stream",
     "text": [
      "enter a number seperated with space9 8 6 4 6 3 2\n",
      "['2', '3', '4', '6', '6', '8', '9']\n",
      "9\n"
     ]
    }
   ],
   "source": [
    "a=list(input(\"enter a number seperated with space\").split())\n",
    "b=sorted(a)\n",
    "last_element=b[-1]\n",
    "print(b)\n",
    "print(last_element)\n"
   ]
  },
  {
   "cell_type": "code",
   "execution_count": 52,
   "id": "673662ba",
   "metadata": {},
   "outputs": [
    {
     "name": "stdout",
     "output_type": "stream",
     "text": [
      "enter a size:6\n",
      "enter a number:107788\n",
      "['0', '1', '7', '7', '8', '8']\n",
      "enter a index:8\n",
      "4\n",
      "5\n"
     ]
    }
   ],
   "source": [
    "a=input(\"enter a size:\")\n",
    "b=input(\"enter a number:\")\n",
    "sort_=sorted(b)\n",
    "print(sort_)\n",
    "try:\n",
    "    c=input(\"enter a index:\")\n",
    "    d=b.index(c)\n",
    "    print(d)\n",
    "    e=len(sort_)-1 -sort_[::-1].index(c)\n",
    "    print(e)\n",
    "except ValueError:\n",
    "    print(\"note found\")"
   ]
  },
  {
   "cell_type": "code",
   "execution_count": 33,
   "id": "8e1480d2",
   "metadata": {},
   "outputs": [
    {
     "name": "stdout",
     "output_type": "stream",
     "text": [
      "enter the numbers:111122\n",
      "enter a digit:1\n",
      "4\n"
     ]
    }
   ],
   "source": [
    "a=input(\"enter the numbers:\")\n",
    "b=input(\"enter a digit:\")\n",
    "c=a.count(b)\n",
    "print(c)\n"
   ]
  },
  {
   "cell_type": "markdown",
   "id": "6c0c143d",
   "metadata": {},
   "source": [
    "# 5\n"
   ]
  },
  {
   "cell_type": "code",
   "execution_count": 18,
   "id": "b2a3f910",
   "metadata": {
    "scrolled": true
   },
   "outputs": [
    {
     "ename": "SyntaxError",
     "evalue": "incomplete input (2018996285.py, line 6)",
     "output_type": "error",
     "traceback": [
      "\u001b[1;36m  Cell \u001b[1;32mIn[18], line 6\u001b[1;36m\u001b[0m\n\u001b[1;33m    print(result\u001b[0m\n\u001b[1;37m                ^\u001b[0m\n\u001b[1;31mSyntaxError\u001b[0m\u001b[1;31m:\u001b[0m incomplete input\n"
     ]
    }
   ],
   "source": [
    "a=input(\"enter the size\")\n",
    "b=int(input(\"enter the numbers seperated with space:\").split())\n",
    "n=len(b)\n",
    "sum_=sum(b)\n",
    "result=[sum_-a[0]]\n",
    "print(result"
   ]
  },
  {
   "cell_type": "code",
   "execution_count": 3,
   "id": "923eca74",
   "metadata": {},
   "outputs": [
    {
     "name": "stdout",
     "output_type": "stream",
     "text": [
      "enter the size: 4\n",
      "enter the numbers separated with space: 4 3 2 10\n",
      "[15, 16, 17, 9]\n"
     ]
    }
   ],
   "source": [
    "a = int(input(\"enter the size: \"))\n",
    "b = list(map(int, input(\"enter the numbers separated with space: \").split()))\n",
    "n = len(b)\n",
    "sum_ = sum(b)\n",
    "result = [sum_ -b[0],sum_-b[1],sum_-b[2],sum_-b[3]]\n",
    "print(result)\n"
   ]
  },
  {
   "cell_type": "markdown",
   "id": "ba9aa7a3",
   "metadata": {},
   "source": [
    "# 6"
   ]
  },
  {
   "cell_type": "code",
   "execution_count": 35,
   "id": "cf1a3fec",
   "metadata": {
    "scrolled": false
   },
   "outputs": [
    {
     "name": "stdout",
     "output_type": "stream",
     "text": [
      "enter a size seperated with space5 6\n",
      "enter values separated with space:10 20 -1 3 4\n",
      "enter values separated with space:45 10 11 -1 3\n",
      "{4, 20}\n"
     ]
    }
   ],
   "source": [
    "a=input(\"enter a size seperated with space\")\n",
    "b=set(map(int,input(\"enter values separated with space:\").split()))\n",
    "c=set(map(int,input(\"enter values separated with space:\").split()))\n",
    "e=b.difference(c)\n",
    "print(e)\n"
   ]
  },
  {
   "cell_type": "code",
   "execution_count": 10,
   "id": "d92fc465",
   "metadata": {},
   "outputs": [
    {
     "name": "stdout",
     "output_type": "stream",
     "text": [
      "enter a size:4\n",
      "enter  numbers seperated with space:2 2 4 5\n"
     ]
    },
    {
     "ename": "TypeError",
     "evalue": "unsupported operand type(s) for %: 'list' and 'int'",
     "output_type": "error",
     "traceback": [
      "\u001b[1;31m---------------------------------------------------------------------------\u001b[0m",
      "\u001b[1;31mTypeError\u001b[0m                                 Traceback (most recent call last)",
      "Cell \u001b[1;32mIn[10], line 3\u001b[0m\n\u001b[0;32m      1\u001b[0m a\u001b[38;5;241m=\u001b[39m\u001b[38;5;28minput\u001b[39m((\u001b[38;5;124m\"\u001b[39m\u001b[38;5;124menter a size:\u001b[39m\u001b[38;5;124m\"\u001b[39m))\n\u001b[0;32m      2\u001b[0m b\u001b[38;5;241m=\u001b[39m\u001b[38;5;28mlist\u001b[39m(\u001b[38;5;28mmap\u001b[39m(\u001b[38;5;28mint\u001b[39m,\u001b[38;5;28minput\u001b[39m(\u001b[38;5;124m\"\u001b[39m\u001b[38;5;124menter  numbers seperated with space:\u001b[39m\u001b[38;5;124m\"\u001b[39m)\u001b[38;5;241m.\u001b[39msplit()))\n\u001b[1;32m----> 3\u001b[0m \u001b[38;5;28;01mif\u001b[39;00m b \u001b[38;5;241m%\u001b[39m \u001b[38;5;241m2\u001b[39m\u001b[38;5;241m!=\u001b[39m\u001b[38;5;241m0\u001b[39m:\n\u001b[0;32m      4\u001b[0m     \u001b[38;5;28mprint\u001b[39m(\u001b[38;5;28msum\u001b[39m(b))\n",
      "\u001b[1;31mTypeError\u001b[0m: unsupported operand type(s) for %: 'list' and 'int'"
     ]
    }
   ],
   "source": [
    "a=input((\"enter a size:\"))\n",
    "b=list(map(int,input(\"enter  numbers seperated with space:\").split()))\n",
    "if b % 2!=0:\n",
    "    print(sum(b))\n"
   ]
  },
  {
   "cell_type": "code",
   "execution_count": null,
   "id": "25fb479f",
   "metadata": {},
   "outputs": [],
   "source": []
  }
 ],
 "metadata": {
  "kernelspec": {
   "display_name": "Python 3 (ipykernel)",
   "language": "python",
   "name": "python3"
  },
  "language_info": {
   "codemirror_mode": {
    "name": "ipython",
    "version": 3
   },
   "file_extension": ".py",
   "mimetype": "text/x-python",
   "name": "python",
   "nbconvert_exporter": "python",
   "pygments_lexer": "ipython3",
   "version": "3.11.4"
  }
 },
 "nbformat": 4,
 "nbformat_minor": 5
}
