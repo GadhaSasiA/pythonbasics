{
 "cells": [
  {
   "cell_type": "markdown",
   "id": "77a5d8fd",
   "metadata": {},
   "source": [
    "# 1."
   ]
  },
  {
   "cell_type": "code",
   "execution_count": 1,
   "id": "46630730",
   "metadata": {},
   "outputs": [
    {
     "name": "stdout",
     "output_type": "stream",
     "text": [
      "Hip\n",
      "Hip\n",
      "Hooray!\n",
      "\n",
      "Hip\n",
      "Hip\n",
      "Hooray!\n",
      "\n",
      "Hip\n",
      "Hip\n",
      "Hooray!\n",
      "\n"
     ]
    }
   ],
   "source": [
    "def say_hip():\n",
    "       print('Hip')\n",
    "        \n",
    "def say_horray():\n",
    "       print('Hooray!')\n",
    "\n",
    "for i in range(3):\n",
    "            say_hip()\n",
    "            say_hip()\n",
    "            say_horray()\n",
    "            print()           "
   ]
  },
  {
   "cell_type": "markdown",
   "id": "b0d51832",
   "metadata": {},
   "source": [
    "# 2"
   ]
  },
  {
   "cell_type": "code",
   "execution_count": 8,
   "id": "775e3138",
   "metadata": {},
   "outputs": [
    {
     "name": "stdout",
     "output_type": "stream",
     "text": [
      "Enter project score25\n",
      "enter exam score35\n",
      "\n",
      "Total:55\n",
      "project:====\n",
      "Exam   :=======\n",
      "Total  :===========\n",
      "Grade  :B\n"
     ]
    }
   ],
   "source": [
    "project_score=int(input(\"Enter project score\"))\n",
    "exam_score=int(input(\"enter exam score\"))\n",
    "total_score = project_score + exam_score\n",
    "if total_score >=60 and project_score >=25 and exam_score >=25:\n",
    "    grade=\"A\"\n",
    "elif total_score >= 50 and (project_score >=25 or exam_score >=25):\n",
    "    grade=\"B\"\n",
    "elif total_score >= 40:\n",
    "    grade=\"c\"\n",
    "else:\n",
    "    grade=\"D\"\n",
    "print(\"\\nTotal:\" + str(total_score))    \n",
    "print(\"project:\" + \"=\" * (project_score // 5))    \n",
    "print(\"Exam   :\" + \"=\" * (exam_score // 5)) \n",
    "print(\"Total  :\" + \"=\" * (total_score // 5))    \n",
    "print(\"Grade  :\" + grade)    "
   ]
  },
  {
   "cell_type": "markdown",
   "id": "19575647",
   "metadata": {},
   "source": [
    "# 3"
   ]
  },
  {
   "cell_type": "code",
   "execution_count": 9,
   "id": "4ee11b38",
   "metadata": {},
   "outputs": [
    {
     "name": "stdout",
     "output_type": "stream",
     "text": [
      "Enter project score: 35\n",
      "Enter exam score: 43\n",
      "\n",
      "Total: 78\n",
      "Project ::=======\n",
      "Exam :  :========\n",
      "Total : :===============\n",
      "Grade : A\n"
     ]
    }
   ],
   "source": [
    "def print_score(label,score):\n",
    "    print(f\"{label:8}\", end=':')\n",
    "    print(\"=\" *(score//5))\n",
    "project_score = int(input(\"Enter project score: \"))\n",
    "exam_score = int(input(\"Enter exam score: \"))\n",
    "total_score = project_score + exam_score\n",
    "if total_score >= 60 and project_score >= 25 and exam_score >= 25:\n",
    "    grade = \"A\"\n",
    "elif total_score >= 50 and (project_score >= 25 or exam_score >= 25):\n",
    "    grade = \"B\"\n",
    "elif total_score >= 40:\n",
    "    grade = \"C\"\n",
    "else:\n",
    "    grade = \"D\"\n",
    "print(\"\\nTotal: \" + str(total_score))\n",
    "print_score(\"Project :\", project_score)\n",
    "print_score(\"Exam :\", exam_score)\n",
    "print_score(\"Total :\", total_score)\n",
    "print(\"Grade : \" + grade)\n"
   ]
  },
  {
   "cell_type": "markdown",
   "id": "ca47c578",
   "metadata": {},
   "source": [
    "# 4"
   ]
  },
  {
   "cell_type": "code",
   "execution_count": 11,
   "id": "78033eec",
   "metadata": {},
   "outputs": [
    {
     "name": "stdout",
     "output_type": "stream",
     "text": [
      "Enter project score: 45\n",
      "Enter exam score: 25\n",
      "\n",
      "Total: 70\n",
      "Project :: =========\n",
      "Exam :  : =====\n",
      "Total : : ==============\n",
      "Grade : A\n"
     ]
    }
   ],
   "source": [
    "def calculate_grade(project_score, exam_score):\n",
    "    total = project_score + exam_score\n",
    "    if total >= 60 and project_score >= 25 and exam_score >= 25:\n",
    "        return 'A'\n",
    "    elif total >= 50 and (project_score >= 25 or exam_score >= 25):\n",
    "        return 'B'\n",
    "    elif total >= 40:\n",
    "        return 'C'\n",
    "    else:\n",
    "        return 'D'\n",
    "def print_score(label, score):\n",
    "    print(f\"{label:8}\", end=': ')\n",
    "    print(\"=\" * (score // 5))\n",
    "project_score = int(input(\"Enter project score: \"))\n",
    "exam_score = int(input(\"Enter exam score: \"))\n",
    "total_score = project_score + exam_score\n",
    "grade = calculate_grade(project_score, exam_score)\n",
    "\n",
    "print(\"\\nTotal: \" + str(total_score))\n",
    "print_score(\"Project :\", project_score)\n",
    "print_score(\"Exam :\", exam_score)\n",
    "print_score(\"Total :\", total_score)\n",
    "print(\"Grade : \" + grade)"
   ]
  },
  {
   "cell_type": "markdown",
   "id": "37b0aa96",
   "metadata": {},
   "source": [
    "# 5"
   ]
  },
  {
   "cell_type": "code",
   "execution_count": 13,
   "id": "653da195",
   "metadata": {},
   "outputs": [
    {
     "name": "stdout",
     "output_type": "stream",
     "text": [
      "Enter your name: Gadha sasi a\n",
      "Enter your project score: 60\n",
      "Enter your exam score: 45\n",
      "\n",
      "\n"
     ]
    }
   ],
   "source": [
    "def print_score(name, value):\n",
    "    print()\n",
    "def calculate_grade(project, exam):\n",
    "    print()\n",
    "def main():\n",
    " \n",
    "    name = input(\"Enter your name: \")\n",
    "    project_score = float(input(\"Enter your project score: \"))\n",
    "    exam_score = float(input(\"Enter your exam score: \"))\n",
    "    \n",
    "    grade = calculate_grade(project_score, exam_score)\n",
    "    print_score(name, grade)\n",
    "if __name__ == \"__main__\":\n",
    "    main()"
   ]
  },
  {
   "cell_type": "markdown",
   "id": "21d26a54",
   "metadata": {},
   "source": [
    "# 6"
   ]
  },
  {
   "cell_type": "code",
   "execution_count": 24,
   "id": "8bbdd16b",
   "metadata": {},
   "outputs": [
    {
     "name": "stdout",
     "output_type": "stream",
     "text": [
      "Enter project score: 30\n",
      "Enter exam score: 50\n",
      "Grade: B\n"
     ]
    }
   ],
   "source": [
    "def read_num(a):\n",
    "    while True:\n",
    "        try:\n",
    "            return float(input(a))\n",
    "        except ValueError:\n",
    "            print(\"Invalid input. Please enter a valid number.\")\n",
    "\n",
    "def calculate_grade(project, exam):\n",
    "    total_score = project + exam\n",
    "    if total_score >= 90:\n",
    "        return 'A'\n",
    "    elif 80 <= total_score < 90:\n",
    "        return 'B'\n",
    "    elif 70 <= total_score < 80:\n",
    "        return 'C'\n",
    "    elif 60 <= total_score < 70:\n",
    "        return 'D'\n",
    "    else:\n",
    "        return 'F'\n",
    "\n",
    "def print_report(project_score, exam_score, grade):\n",
    "    print('Grade:', grade)\n",
    "\n",
    "main()"
   ]
  }
 ],
 "metadata": {
  "kernelspec": {
   "display_name": "Python 3 (ipykernel)",
   "language": "python",
   "name": "python3"
  },
  "language_info": {
   "codemirror_mode": {
    "name": "ipython",
    "version": 3
   },
   "file_extension": ".py",
   "mimetype": "text/x-python",
   "name": "python",
   "nbconvert_exporter": "python",
   "pygments_lexer": "ipython3",
   "version": "3.11.4"
  }
 },
 "nbformat": 4,
 "nbformat_minor": 5
}
