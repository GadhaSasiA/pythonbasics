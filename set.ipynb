{
 "cells": [
  {
   "cell_type": "markdown",
   "id": "5e9c8c78",
   "metadata": {},
   "source": [
    "# 1.check common elements"
   ]
  },
  {
   "cell_type": "code",
   "execution_count": 5,
   "id": "bef51b55",
   "metadata": {},
   "outputs": [
    {
     "name": "stdout",
     "output_type": "stream",
     "text": [
      "{2, 3}\n"
     ]
    }
   ],
   "source": [
    "a={1,2,3,1,4,5,}\n",
    "b={2,9,3,7,6,10}\n",
    "x=a.intersection(b)\n",
    "print(x)"
   ]
  },
  {
   "cell_type": "markdown",
   "id": "bdcf69a8",
   "metadata": {},
   "source": [
    "# 2.Difference b/w 2 sets"
   ]
  },
  {
   "cell_type": "code",
   "execution_count": 8,
   "id": "9ca5db77",
   "metadata": {},
   "outputs": [
    {
     "name": "stdout",
     "output_type": "stream",
     "text": [
      "{1, 4, 5}\n"
     ]
    }
   ],
   "source": [
    "a={1,2,3,1,4,5,}\n",
    "b={2,9,3,7,6,10}\n",
    "x=a.difference(b)\n",
    "print(x)"
   ]
  },
  {
   "cell_type": "markdown",
   "id": "f6bf11af",
   "metadata": {},
   "source": [
    "# 3.Symmetric difference"
   ]
  },
  {
   "cell_type": "code",
   "execution_count": 9,
   "id": "c4310447",
   "metadata": {},
   "outputs": [
    {
     "name": "stdout",
     "output_type": "stream",
     "text": [
      "{1, 4, 5, 6, 7, 9, 10}\n"
     ]
    }
   ],
   "source": [
    "a={1,2,3,1,4,5,}\n",
    "b={2,9,3,7,6,10}\n",
    "x=a.symmetric_difference(b)\n",
    "print(x)"
   ]
  },
  {
   "cell_type": "markdown",
   "id": "f1481780",
   "metadata": {},
   "source": [
    "# 4.Remove the duplicates"
   ]
  },
  {
   "cell_type": "code",
   "execution_count": 1,
   "id": "bc37ee16",
   "metadata": {},
   "outputs": [
    {
     "name": "stdout",
     "output_type": "stream",
     "text": [
      "{1, 2, 3, 4, 5}\n"
     ]
    }
   ],
   "source": [
    "a=[1,2,3,1,4,5,3]\n",
    "print(set(list(a)))\n"
   ]
  },
  {
   "cell_type": "markdown",
   "id": "907b32b7",
   "metadata": {},
   "source": [
    "# 5.New set"
   ]
  },
  {
   "cell_type": "code",
   "execution_count": 4,
   "id": "a421acc7",
   "metadata": {},
   "outputs": [
    {
     "name": "stdout",
     "output_type": "stream",
     "text": [
      "{1, 4, 5, 7, 9, 10}\n"
     ]
    }
   ],
   "source": [
    "a={1,2,3,1,4,5,}\n",
    "b={2,9,3,7,10}\n",
    "d=a.union(b)\n",
    "d=a.symmetric_difference(b)\n",
    "print(d)"
   ]
  },
  {
   "cell_type": "markdown",
   "id": "c7ddac69",
   "metadata": {},
   "source": [
    "# 6.Subset"
   ]
  },
  {
   "cell_type": "code",
   "execution_count": 2,
   "id": "3864b383",
   "metadata": {},
   "outputs": [
    {
     "name": "stdout",
     "output_type": "stream",
     "text": [
      "it is a subset of set1\n"
     ]
    }
   ],
   "source": [
    "set1={2,19,33,7,6,10}\n",
    "subset={2,19}\n",
    "check=subset.issubset(set1)\n",
    "if check:\n",
    "    print(\"it is a subset of set1\")\n",
    "else:\n",
    "    print(\"it is not a subset\")\n"
   ]
  },
  {
   "cell_type": "markdown",
   "id": "4ae6ee61",
   "metadata": {},
   "source": [
    "# 7.Find Max & Min"
   ]
  },
  {
   "cell_type": "code",
   "execution_count": 4,
   "id": "a852cb25",
   "metadata": {},
   "outputs": [
    {
     "name": "stdout",
     "output_type": "stream",
     "text": [
      "Max num is: 5\n",
      "Min num is: 1\n"
     ]
    }
   ],
   "source": [
    "a={1,2,3,1,4,5,}\n",
    "b=(max(a))\n",
    "c=(min(a))\n",
    "print(\"Max num is:\" ,b)\n",
    "print(\"Min num is:\",c)"
   ]
  },
  {
   "cell_type": "markdown",
   "id": "f8d9ad80",
   "metadata": {},
   "source": [
    "# 8.Remove all element"
   ]
  },
  {
   "cell_type": "code",
   "execution_count": 31,
   "id": "e446dd12",
   "metadata": {},
   "outputs": [
    {
     "name": "stdout",
     "output_type": "stream",
     "text": [
      "set()\n"
     ]
    }
   ],
   "source": [
    "a={1,2,3,1,4,5,}\n",
    "a.clear()\n",
    "print(a)"
   ]
  },
  {
   "cell_type": "markdown",
   "id": "74cd902b",
   "metadata": {},
   "source": [
    "# 9.Update"
   ]
  },
  {
   "cell_type": "code",
   "execution_count": 5,
   "id": "8ad4ccb8",
   "metadata": {},
   "outputs": [
    {
     "name": "stdout",
     "output_type": "stream",
     "text": [
      "{1, 2, 3, 4, 5, 6, 7, 8, 9, 10}\n"
     ]
    }
   ],
   "source": [
    "a={1,2,3,1,4,5}\n",
    "b={2,9,3,7,6,10}\n",
    "c={3,5,7,9,2,8}\n",
    "d=a.union(b)\n",
    "updated_set=d.union(c)\n",
    "print(updated_set)"
   ]
  },
  {
   "cell_type": "markdown",
   "id": "602ba073",
   "metadata": {},
   "source": [
    "# 10. Sum of elements"
   ]
  },
  {
   "cell_type": "code",
   "execution_count": 16,
   "id": "94d95797",
   "metadata": {},
   "outputs": [
    {
     "name": "stdout",
     "output_type": "stream",
     "text": [
      "100\n"
     ]
    }
   ],
   "source": [
    "a={1,2,3,10,4,51,6,23}\n",
    "b=(sum(a))\n",
    "print(b)\n"
   ]
  },
  {
   "cell_type": "code",
   "execution_count": null,
   "id": "604ef76b",
   "metadata": {},
   "outputs": [],
   "source": []
  }
 ],
 "metadata": {
  "kernelspec": {
   "display_name": "Python 3 (ipykernel)",
   "language": "python",
   "name": "python3"
  },
  "language_info": {
   "codemirror_mode": {
    "name": "ipython",
    "version": 3
   },
   "file_extension": ".py",
   "mimetype": "text/x-python",
   "name": "python",
   "nbconvert_exporter": "python",
   "pygments_lexer": "ipython3",
   "version": "3.11.4"
  }
 },
 "nbformat": 4,
 "nbformat_minor": 5
}
