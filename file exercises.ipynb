{
 "cells": [
  {
   "cell_type": "markdown",
   "id": "a67cd258",
   "metadata": {},
   "source": [
    "# 1.count the number of lines"
   ]
  },
  {
   "cell_type": "code",
   "execution_count": 1,
   "id": "a4a75e98",
   "metadata": {},
   "outputs": [
    {
     "name": "stdout",
     "output_type": "stream",
     "text": [
      "number of lines in: a.py.ipynb\n",
      "644\n"
     ]
    }
   ],
   "source": [
    "fname=(\"a.py.ipynb\")\n",
    "num_lines=0\n",
    "with open(fname,'r') as f:\n",
    "    for line in f:\n",
    "        num_lines+=1\n",
    "    print(\"number of lines in:\",fname)\n",
    "    print(num_lines)"
   ]
  },
  {
   "cell_type": "markdown",
   "id": "637eb27c",
   "metadata": {},
   "source": [
    "# 2.print  first n number of lines"
   ]
  },
  {
   "cell_type": "code",
   "execution_count": 31,
   "id": "d5c7af0e",
   "metadata": {},
   "outputs": [
    {
     "name": "stdout",
     "output_type": "stream",
     "text": [
      "enter file name:a.py.ipynb\n",
      "enter a number:10\n",
      "the first 10 lines of a text lines\n",
      "{\n",
      " \"cells\": [\n",
      "  {\n",
      "   \"cell_type\": \"code\",\n",
      "   \"execution_count\": 5,\n",
      "   \"id\": \"61d2ee03\",\n",
      "   \"metadata\": {},\n",
      "   \"outputs\": [\n",
      "    {\n",
      "     \"name\": \"stdout\",\n"
     ]
    }
   ],
   "source": [
    "fname=(input(\"enter file name:\"))\n",
    "fnum=int(input(\"enter a number:\"))\n",
    "with open(fname,'r')as f:\n",
    "    line_list=f.readlines()\n",
    "print(\"the first\",fnum,\"lines of a text lines\")\n",
    "for textline in (line_list[:fnum]):       \n",
    "    print(textline,end='')\n",
    "f.close()\n",
    "             "
   ]
  },
  {
   "cell_type": "markdown",
   "id": "af585bd0",
   "metadata": {},
   "source": [
    "# 3.print last n number"
   ]
  },
  {
   "cell_type": "code",
   "execution_count": 1,
   "id": "b82f65f3",
   "metadata": {},
   "outputs": [
    {
     "name": "stdout",
     "output_type": "stream",
     "text": [
      "enter file name:a.py.ipynb\n",
      "enter a number:10\n",
      "the last 10 lines of a text lines\n",
      "     \"output_type\": \"stream\",\n",
      "     \"name\": \"stdout\",\n",
      "    {\n",
      "   \"outputs\": [\n",
      "   \"metadata\": {},\n",
      "   \"id\": \"61d2ee03\",\n",
      "   \"execution_count\": 5,\n",
      "   \"cell_type\": \"code\",\n",
      "  {\n",
      " \"cells\": [\n",
      "{\n"
     ]
    }
   ],
   "source": [
    "fname=(input(\"enter file name:\"))\n",
    "fnum=int(input(\"enter a number:\"))\n",
    "with open(fname,'r')as f:\n",
    "    line_list=f.readlines()\n",
    "print(\"the last\",fnum,\"lines of a text lines\")\n",
    "for textline in (line_list[fnum::-1]):       \n",
    "    print(textline,end='')\n",
    "f.close()\n",
    "             "
   ]
  },
  {
   "cell_type": "markdown",
   "id": "5e08b914",
   "metadata": {},
   "source": [
    "# 4.remove all blank lines"
   ]
  },
  {
   "cell_type": "code",
   "execution_count": 5,
   "id": "56be48fb",
   "metadata": {
    "scrolled": true
   },
   "outputs": [
    {
     "name": "stdout",
     "output_type": "stream",
     "text": [
      "Blank lines removed. Modified content saved to output.txt\n"
     ]
    }
   ],
   "source": [
    "def remove_blank_lines(input_file, output_file):\n",
    "    try:\n",
    "        with open(input_file, 'r') as infile:\n",
    "            lines = infile.readlines()\n",
    "\n",
    "        lines = [line.strip() for line in lines if line.strip()]\n",
    "\n",
    "        with open(output_file, 'w') as outfile:\n",
    "            outfile.write('\\n'.join(lines))\n",
    "\n",
    "        print(f\"Blank lines removed. Modified content saved to {output_file}\")\n",
    "\n",
    "    except FileNotFoundError:\n",
    "        print(f\"Error: File '{input_file}' not found.\")\n",
    "    except Exception as e:\n",
    "        print(f\"An error occurred: {e}\")\n",
    "\n",
    "input_file_path = 'sample.text1'  \n",
    "output_file_path = 'output.txt'  \n",
    "\n",
    "remove_blank_lines(input_file_path, output_file_path)\n"
   ]
  },
  {
   "cell_type": "code",
   "execution_count": 58,
   "id": "4b3c4050",
   "metadata": {},
   "outputs": [],
   "source": [
    "with open(\"exfile.txt\",'w')as f:\n",
    "    f.write(\"hello\")\n",
    "    f.write( \"everyone\")"
   ]
  },
  {
   "cell_type": "markdown",
   "id": "6a132e3d",
   "metadata": {},
   "source": [
    "# 5.remove all line"
   ]
  },
  {
   "cell_type": "code",
   "execution_count": 25,
   "id": "7c942685",
   "metadata": {},
   "outputs": [
    {
     "name": "stdout",
     "output_type": "stream",
     "text": [
      "The word in sample.text1 this is removed\n"
     ]
    }
   ],
   "source": [
    "with open(\"sample.text1\", 'r') as file:\n",
    "    lines = file.readlines()\n",
    "    filtered_lines = [line for line in lines if string_to_remove not in line]\n",
    "\n",
    "input_file_path = 'sample.text1'\n",
    "string_to_remove =\"this\"\n",
    "\n",
    "print(\"The word in\",input_file_path,string_to_remove,\"is removed\")\n"
   ]
  },
  {
   "cell_type": "markdown",
   "id": "eb2c5a6b",
   "metadata": {},
   "source": [
    "# 6"
   ]
  },
  {
   "cell_type": "code",
   "execution_count": 28,
   "id": "79878e14",
   "metadata": {},
   "outputs": [
    {
     "name": "stdout",
     "output_type": "stream",
     "text": [
      "Remove lines:this\n",
      "[]\n",
      "All lines containing'this'removed from the file\n"
     ]
    }
   ],
   "source": [
    "file_path=\"sample.text1\"\n",
    "string_remove=input(\"Remove lines:\")\n",
    "with open(file_path,'r')as file:\n",
    "    lines=file.readlines()\n",
    "    filtered_lines=[line for line in lines if string_remove not in line]\n",
    "print(filtered_lines)\n",
    "print(f\"All lines containing'{string_remove}'removed from the file\")"
   ]
  },
  {
   "cell_type": "markdown",
   "id": "bc8f95bc",
   "metadata": {},
   "source": [
    " # 7"
   ]
  },
  {
   "cell_type": "code",
   "execution_count": 25,
   "id": "026c75bc",
   "metadata": {},
   "outputs": [
    {
     "name": "stdout",
     "output_type": "stream",
     "text": [
      "This Is The First Line\n"
     ]
    }
   ],
   "source": [
    " with open(\"sample.text\", 'r') as file:\n",
    "            text = file.read()\n",
    "            modified_content = ' '.join(word.capitalize() for word in text.split())\n",
    "\n",
    "print(modified_content)\n"
   ]
  },
  {
   "cell_type": "markdown",
   "id": "8c739323",
   "metadata": {},
   "source": [
    "# 8.Uppercase"
   ]
  },
  {
   "cell_type": "code",
   "execution_count": 27,
   "id": "a0f094a4",
   "metadata": {},
   "outputs": [
    {
     "name": "stdout",
     "output_type": "stream",
     "text": [
      "THIS IS THE FIRST LINE\n"
     ]
    }
   ],
   "source": [
    "fname=(\"sample.text\")\n",
    "with open(fname,'r') as f:\n",
    "    for line in f:\n",
    "        line.upper()\n",
    "        print(line.upper())\n"
   ]
  },
  {
   "cell_type": "markdown",
   "id": "d0f533e3",
   "metadata": {},
   "source": [
    "# 9.Lowercase"
   ]
  },
  {
   "cell_type": "code",
   "execution_count": 14,
   "id": "6f217570",
   "metadata": {},
   "outputs": [
    {
     "name": "stdout",
     "output_type": "stream",
     "text": [
      "this is the first line\n"
     ]
    }
   ],
   "source": [
    "fname=(\"sample.text\")\n",
    "with open(fname,'r') as f:\n",
    "    for line in f:\n",
    "        line.lower()\n",
    "        print(line.lower())\n"
   ]
  },
  {
   "cell_type": "markdown",
   "id": "6174d073",
   "metadata": {},
   "source": [
    "# 10.Replace"
   ]
  },
  {
   "cell_type": "code",
   "execution_count": 13,
   "id": "388b191e",
   "metadata": {},
   "outputs": [
    {
     "name": "stdout",
     "output_type": "stream",
     "text": [
      "that is the first line\n"
     ]
    }
   ],
   "source": [
    "file = ('sample.text')\n",
    "a='this'\n",
    "b='that'\n",
    "with open(file,'r') as f:\n",
    "    text=f.read()\n",
    "c=text.replace(a,b)\n",
    "print(c)"
   ]
  },
  {
   "cell_type": "markdown",
   "id": "75fc73c9",
   "metadata": {},
   "source": [
    "# 11.remove vowels"
   ]
  },
  {
   "cell_type": "code",
   "execution_count": 2,
   "id": "b23f1277",
   "metadata": {
    "scrolled": true
   },
   "outputs": [
    {
     "name": "stdout",
     "output_type": "stream",
     "text": [
      "After removing vowels: ths s th frst ln\n"
     ]
    }
   ],
   "source": [
    "fname=(\"sample.text\")\n",
    "vow=['a','e','i','o','u','A','E','I','O','U']\n",
    "with open(fname,'r') as f:\n",
    "    text=f.read()\n",
    "result=\"\".join(char for char in text if char not in vow)  \n",
    "print(\"After removing vowels:\",result)"
   ]
  },
  {
   "cell_type": "markdown",
   "id": "a267fbf0",
   "metadata": {},
   "source": [
    "# 12"
   ]
  },
  {
   "cell_type": "code",
   "execution_count": 46,
   "id": "8027a075",
   "metadata": {},
   "outputs": [],
   "source": [
    "from collections import Counter\n",
    "\n",
    "def count_words(input_file, output_file):\n",
    "    with open(input_file, 'r') as file:\n",
    "        text = file.read().lower()  \n",
    "    \n",
    "    words = text.split()\n",
    "    word_counts = Counter(words)\n",
    "    sorted_word_counts = sorted(word_counts.items(), key=lambda x: x[1], reverse=True)\n",
    "\n",
    "    with open(output_file, 'w') as file:\n",
    "        for word, count in sorted_word_counts:\n",
    "            file.write(f\"{word}: {count}\\n\")\n",
    "\n",
    "input_file_path = 'sample.text1'\n",
    "output_file_path = 'sample.txt'\n",
    "count_words(input_file_path, output_file_path)\n"
   ]
  },
  {
   "cell_type": "code",
   "execution_count": 48,
   "id": "833b392e",
   "metadata": {},
   "outputs": [
    {
     "name": "stdout",
     "output_type": "stream",
     "text": [
      "[('is', 3), ('the', 3), ('linethis', 2), ('this', 1), ('first', 1), ('second', 1), ('third', 1), ('line', 1)]\n"
     ]
    }
   ],
   "source": [
    " with open(\"sample.text1\", 'r') as file:\n",
    "        text= file.read().lower()  \n",
    "        words = text.split()\n",
    "        word_counts = Counter(words)\n",
    "        sorted_word_counts = sorted(word_counts.items(), key=lambda x: x[1], reverse=True)\n",
    "print(sorted_word_counts)"
   ]
  },
  {
   "cell_type": "markdown",
   "id": "116ec418",
   "metadata": {},
   "source": [
    "# 13"
   ]
  },
  {
   "cell_type": "code",
   "execution_count": 5,
   "id": "b338cb0e",
   "metadata": {},
   "outputs": [
    {
     "name": "stdout",
     "output_type": "stream",
     "text": [
      "hexadecimal representation is: 7468697320697320746865206669727374206C696E65\n"
     ]
    }
   ],
   "source": [
    "with open('sample.text', 'rb') as file:\n",
    "     binary_data = file.read()\n",
    "hex_repr = ''.join(format(byte, '02X') for byte in binary_data)\n",
    "print(\"hexadecimal representation is:\",hex_repr)\n"
   ]
  },
  {
   "cell_type": "markdown",
   "id": "6b7fb57a",
   "metadata": {},
   "source": [
    "# 14"
   ]
  },
  {
   "cell_type": "code",
   "execution_count": 30,
   "id": "eb416241",
   "metadata": {},
   "outputs": [],
   "source": [
    "input_csv_file =\"input .csv\"\n",
    "output_html_file = \"output.html\"\n",
    "\n",
    "with open(input_csv_file, 'r') as csv_file:\n",
    "    lines = csv_file.readlines()\n",
    "\n",
    "html_table = \"<table>\\n\"\n",
    "for line in lines:\n",
    "    cells = line.strip().split(',')\n",
    "    row = \"  <tr>\\n\"\n",
    "    for cell in cells:\n",
    "        row += f\"    <td>{cell}</td>\\n\"\n",
    "    row += \"  </tr>\\n\"\n",
    "    html_table += row\n",
    "html_table += \"</table>\"\n",
    "\n",
    "with open(output_html_file, 'w') as html_file:\n",
    "    html_file.write(html_table)"
   ]
  },
  {
   "cell_type": "markdown",
   "id": "281ed234",
   "metadata": {},
   "source": [
    "# 15."
   ]
  },
  {
   "cell_type": "code",
   "execution_count": 2,
   "id": "e2bb1859",
   "metadata": {},
   "outputs": [
    {
     "name": "stdout",
     "output_type": "stream",
     "text": [
      "{'name': 'Anu', 'age': 30}\n",
      "{'name': 'Binu', 'age': 20}\n",
      "{'name': 'Chippy', 'age': 25}\n",
      "{'name': 'Das', 'age': 27}\n",
      "{'name': 'Emy', 'age': 28}\n",
      "{'name': 'Femy', 'age': 20}\n"
     ]
    }
   ],
   "source": [
    "import json\n",
    "input_json_file=\"input.json\"\n",
    "sort_field=\"name\"\n",
    "\n",
    "with open(input_json_file,'r')as json_file:\n",
    "    data=json.load(json_file)\n",
    "sorted_data=sorted(data,key=lambda item:item[sort_field])\n",
    "\n",
    "for item in sorted_data:\n",
    "    print(item)"
   ]
  },
  {
   "cell_type": "markdown",
   "id": "17b37145",
   "metadata": {},
   "source": [
    "# 16"
   ]
  },
  {
   "cell_type": "code",
   "execution_count": 42,
   "id": "38d22345",
   "metadata": {},
   "outputs": [
    {
     "name": "stdout",
     "output_type": "stream",
     "text": [
      "that is the first line\n"
     ]
    }
   ],
   "source": [
    "with open('sample.text', 'r') as file:\n",
    "            text= file.read()\n",
    "            replaced_text = text.replace(old_word, new_word)\n",
    "old_word = 'this'\n",
    "new_word = 'that'\n",
    "print(replaced_text)\n"
   ]
  },
  {
   "cell_type": "code",
   "execution_count": 9,
   "id": "eea82720",
   "metadata": {},
   "outputs": [
    {
     "name": "stdout",
     "output_type": "stream",
     "text": [
      "*\n"
     ]
    }
   ],
   "source": [
    "row=5\n",
    "for i in range(row,0):\n",
    "    for j in range(row+1,0):\n",
    "        print(\"*\",end)\n",
    "print(\"*\")"
   ]
  },
  {
   "cell_type": "code",
   "execution_count": null,
   "id": "ce4c21ff",
   "metadata": {},
   "outputs": [],
   "source": []
  }
 ],
 "metadata": {
  "kernelspec": {
   "display_name": "Python 3 (ipykernel)",
   "language": "python",
   "name": "python3"
  },
  "language_info": {
   "codemirror_mode": {
    "name": "ipython",
    "version": 3
   },
   "file_extension": ".py",
   "mimetype": "text/x-python",
   "name": "python",
   "nbconvert_exporter": "python",
   "pygments_lexer": "ipython3",
   "version": "3.11.4"
  }
 },
 "nbformat": 4,
 "nbformat_minor": 5
}
