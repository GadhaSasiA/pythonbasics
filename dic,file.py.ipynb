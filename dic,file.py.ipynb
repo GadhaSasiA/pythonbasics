{
 "cells": [
  {
   "cell_type": "markdown",
   "id": "eaf6c55a",
   "metadata": {},
   "source": [
    "# Dictionary"
   ]
  },
  {
   "cell_type": "code",
   "execution_count": 1,
   "id": "4aa6d311",
   "metadata": {},
   "outputs": [
    {
     "name": "stdout",
     "output_type": "stream",
     "text": [
      "{'brand': 'ford', 'model': 'Mustang', 'year': [1964, 2034]}\n"
     ]
    }
   ],
   "source": [
    "d={\n",
    "    \"brand\":\"ford\",\n",
    "    \"model\":\"Mustang\",\n",
    "    \"year\":[1964,2034]\n",
    "}\n",
    "print(d)"
   ]
  },
  {
   "cell_type": "code",
   "execution_count": 3,
   "id": "2c8bb21c",
   "metadata": {},
   "outputs": [],
   "source": [
    "mydict={\n",
    "    \"brand\":\"ford\"\n",
    "}"
   ]
  },
  {
   "cell_type": "code",
   "execution_count": 6,
   "id": "d13a468d",
   "metadata": {},
   "outputs": [
    {
     "name": "stdout",
     "output_type": "stream",
     "text": [
      "Mustang\n"
     ]
    }
   ],
   "source": [
    "d={\n",
    "    \"brand\":\"ford\",\n",
    "    \"model\":\"Mustang\",\n",
    "    \"year\":[1964,2034]\n",
    "}\n",
    "x=d[\"model\"]\n",
    "print(x)"
   ]
  },
  {
   "cell_type": "code",
   "execution_count": 10,
   "id": "c1675497",
   "metadata": {},
   "outputs": [
    {
     "name": "stdout",
     "output_type": "stream",
     "text": [
      "Mustang\n",
      "dict_keys(['brand', 'model', 'year'])\n"
     ]
    }
   ],
   "source": [
    "d={\n",
    "    \"brand\":\"ford\",\n",
    "    \"model\":\"Mustang\",\n",
    "    \"year\":[1964,2034]\n",
    "}\n",
    "y=d.get(\"model\")\n",
    "print(y)\n",
    "z=d.keys()\n",
    "print(z)"
   ]
  },
  {
   "cell_type": "code",
   "execution_count": 12,
   "id": "d01194db",
   "metadata": {},
   "outputs": [
    {
     "name": "stdout",
     "output_type": "stream",
     "text": [
      "dict_values(['ford', 'Mustang', [1964, 2034]])\n",
      "dict_items([('brand', 'ford'), ('model', 'Mustang'), ('year', [1964, 2034])])\n"
     ]
    }
   ],
   "source": [
    "a=d.values()\n",
    "print(a)\n",
    "b=d.items()\n",
    "print(b)"
   ]
  },
  {
   "cell_type": "code",
   "execution_count": 16,
   "id": "9a060861",
   "metadata": {},
   "outputs": [
    {
     "name": "stdout",
     "output_type": "stream",
     "text": [
      "{'brand': 'ford', 'model': 'Mustang', 'year': 2023}\n"
     ]
    }
   ],
   "source": [
    "d={\n",
    "    \"brand\":\"ford\",\n",
    "    \"model\":\"Mustang\",\n",
    "    \"year\":[1964,2034]\n",
    "}\n",
    "d.update({\"year\":2023})\n",
    "print(d)"
   ]
  },
  {
   "cell_type": "code",
   "execution_count": 20,
   "id": "222c81cb",
   "metadata": {},
   "outputs": [
    {
     "name": "stdout",
     "output_type": "stream",
     "text": [
      "{'brand': 'ford', 'model': 'Mustang', 'year': [1964, 2034], 'color': 'red'}\n"
     ]
    }
   ],
   "source": [
    "d={\n",
    "    \"brand\":\"ford\",\n",
    "    \"model\":\"Mustang\",\n",
    "    \"year\":[1964,2034]\n",
    "}\n",
    "d[\"color\"]=\"red\"\n",
    "print(d)"
   ]
  },
  {
   "cell_type": "code",
   "execution_count": 19,
   "id": "038a3875",
   "metadata": {},
   "outputs": [
    {
     "name": "stdout",
     "output_type": "stream",
     "text": [
      "{}\n"
     ]
    }
   ],
   "source": [
    "d={\n",
    "    \"brand\":\"ford\",\n",
    "    \"model\":\"Mustang\",\n",
    "    \"year\":[1964,2034]\n",
    "}\n",
    "d.clear()\n",
    "print(d)"
   ]
  },
  {
   "cell_type": "code",
   "execution_count": 21,
   "id": "04b8efaf",
   "metadata": {},
   "outputs": [
    {
     "name": "stdout",
     "output_type": "stream",
     "text": [
      "{'brand': 'ford', 'model': 'Mustang'}\n"
     ]
    }
   ],
   "source": [
    "d={\n",
    "    \"brand\":\"ford\",\n",
    "    \"model\":\"Mustang\",\n",
    "    \"year\":[1964,2034]\n",
    "}\n",
    "d.popitem()\n",
    "print(d)"
   ]
  },
  {
   "cell_type": "code",
   "execution_count": 24,
   "id": "4805d18f",
   "metadata": {},
   "outputs": [
    {
     "name": "stdout",
     "output_type": "stream",
     "text": [
      "brand\n",
      "model\n",
      "year\n"
     ]
    }
   ],
   "source": [
    "d={\n",
    "    \"brand\":\"ford\",\n",
    "    \"model\":\"Mustang\",\n",
    "    \"year\":[1964,2034]\n",
    "}\n",
    "for i in d:\n",
    "    print(i)\n",
    "    "
   ]
  },
  {
   "cell_type": "code",
   "execution_count": 3,
   "id": "6ee4ba94",
   "metadata": {},
   "outputs": [
    {
     "name": "stdout",
     "output_type": "stream",
     "text": [
      "ford\n",
      "Mustang\n",
      "[1964, 2034]\n"
     ]
    }
   ],
   "source": [
    "x={\n",
    "    \"brand\":\"ford\",\n",
    "    \"model\":\"Mustang\",\n",
    "    \"year\":[1964,2034]\n",
    "}\n",
    "for i in x :\n",
    "    print(x[i])"
   ]
  },
  {
   "cell_type": "code",
   "execution_count": 33,
   "id": "fdc8347d",
   "metadata": {},
   "outputs": [
    {
     "name": "stdout",
     "output_type": "stream",
     "text": [
      "{'brand': 'ford', 'model': 'Mustang', 'year': [1964, 2034]}\n"
     ]
    }
   ],
   "source": [
    "d={\n",
    "    \"brand\":\"ford\",\n",
    "    \"model\":\"Mustang\",\n",
    "    \"year\":[1964,2034]\n",
    "}\n",
    "mydict=d.copy\n",
    "print(d)"
   ]
  },
  {
   "cell_type": "code",
   "execution_count": 9,
   "id": "c38b250f",
   "metadata": {},
   "outputs": [
    {
     "ename": "IndentationError",
     "evalue": "expected an indented block after 'for' statement on line 3 (2190393438.py, line 4)",
     "output_type": "error",
     "traceback": [
      "\u001b[1;36m  Cell \u001b[1;32mIn[9], line 4\u001b[1;36m\u001b[0m\n\u001b[1;33m    print(\"{0}:{1}\".format(dict1,))\u001b[0m\n\u001b[1;37m    ^\u001b[0m\n\u001b[1;31mIndentationError\u001b[0m\u001b[1;31m:\u001b[0m expected an indented block after 'for' statement on line 3\n"
     ]
    }
   ],
   "source": [
    "dict1={'ab':'20', 'cd':'35', 'ef':'45'}\n",
    "dict2={'gh':'34', 'ij':'56','kl':'67'}\n",
    "for dict1,dict2 in zip(dict1,dict2.values()):\n",
    "print(\"{0}:{1}\".format(dict1,))"
   ]
  },
  {
   "cell_type": "markdown",
   "id": "a48e934f",
   "metadata": {},
   "source": [
    "# FILES"
   ]
  },
  {
   "cell_type": "code",
   "execution_count": 2,
   "id": "754e293b",
   "metadata": {},
   "outputs": [
    {
     "name": "stdout",
     "output_type": "stream",
     "text": [
      "E:\\Python\\Basics\n"
     ]
    }
   ],
   "source": [
    "import os\n",
    "cwd=os.getcwd() #Store current working dir\n",
    "print(cwd)  #print current working dir"
   ]
  },
  {
   "cell_type": "code",
   "execution_count": 51,
   "id": "88db5440",
   "metadata": {},
   "outputs": [
    {
     "name": "stdout",
     "output_type": "stream",
     "text": [
      "c:\\users\n"
     ]
    }
   ],
   "source": [
    "os.chdir('c:\\\\users') #change dir\n",
    "print(os.getcwd())"
   ]
  },
  {
   "cell_type": "code",
   "execution_count": null,
   "id": "a03c931a",
   "metadata": {},
   "outputs": [],
   "source": [
    "os.chdir(cwd)"
   ]
  },
  {
   "cell_type": "code",
   "execution_count": 58,
   "id": "fdf73a61",
   "metadata": {},
   "outputs": [],
   "source": [
    "os.makedirs('ex\\\\g1') # create a dictionory"
   ]
  },
  {
   "cell_type": "code",
   "execution_count": null,
   "id": "59d3fb44",
   "metadata": {},
   "outputs": [],
   "source": [
    "os.chdir('ex\\\\g1') # change the current working dictionory    "
   ]
  },
  {
   "cell_type": "code",
   "execution_count": 55,
   "id": "98577570",
   "metadata": {
    "scrolled": true
   },
   "outputs": [
    {
     "name": "stdout",
     "output_type": "stream",
     "text": [
      "E:\\Python\\Basics\n"
     ]
    }
   ],
   "source": [
    "os.chdir(cwd) #change working dir back to original\n",
    "print(os.getcwd())"
   ]
  },
  {
   "cell_type": "code",
   "execution_count": 4,
   "id": "7e3ca68d",
   "metadata": {},
   "outputs": [
    {
     "name": "stdout",
     "output_type": "stream",
     "text": [
      "E:\\\n"
     ]
    }
   ],
   "source": [
    "os.chdir('..') # go to parent dir\n",
    "print(os.getcwd())"
   ]
  },
  {
   "cell_type": "code",
   "execution_count": null,
   "id": "1361fc8e",
   "metadata": {},
   "outputs": [],
   "source": [
    "os.removedirs('ex\\\\g1')"
   ]
  },
  {
   "cell_type": "code",
   "execution_count": null,
   "id": "d0304161",
   "metadata": {},
   "outputs": [],
   "source": [
    "os.chdir('ex\\\\g1')    "
   ]
  },
  {
   "cell_type": "markdown",
   "id": "bd45a219",
   "metadata": {},
   "source": [
    "# os.path"
   ]
  },
  {
   "cell_type": "code",
   "execution_count": 56,
   "id": "10dc33e0",
   "metadata": {},
   "outputs": [
    {
     "name": "stdout",
     "output_type": "stream",
     "text": [
      "E:\\Python\\Basics\n"
     ]
    }
   ],
   "source": [
    "import os\n",
    "cwd=os.getcwd()\n",
    "print(cwd)"
   ]
  },
  {
   "cell_type": "code",
   "execution_count": 4,
   "id": "8ed9b27f",
   "metadata": {},
   "outputs": [
    {
     "ename": "NameError",
     "evalue": "name 'cwd' is not defined",
     "output_type": "error",
     "traceback": [
      "\u001b[1;31m---------------------------------------------------------------------------\u001b[0m",
      "\u001b[1;31mNameError\u001b[0m                                 Traceback (most recent call last)",
      "Cell \u001b[1;32mIn[4], line 2\u001b[0m\n\u001b[0;32m      1\u001b[0m \u001b[38;5;28;01mimport\u001b[39;00m \u001b[38;5;21;01mos\u001b[39;00m\n\u001b[1;32m----> 2\u001b[0m path\u001b[38;5;241m=\u001b[39mos\u001b[38;5;241m.\u001b[39mpath\u001b[38;5;241m.\u001b[39mjoin(cwd,\u001b[38;5;124m'\u001b[39m\u001b[38;5;124mex\u001b[39m\u001b[38;5;124m'\u001b[39m,\u001b[38;5;124m'\u001b[39m\u001b[38;5;124mg1\u001b[39m\u001b[38;5;124m'\u001b[39m)\n\u001b[0;32m      3\u001b[0m \u001b[38;5;28mprint\u001b[39m(path)\n",
      "\u001b[1;31mNameError\u001b[0m: name 'cwd' is not defined"
     ]
    }
   ],
   "source": [
    "\n",
    "path=os.path.join(cwd,'ex','g1')\n",
    "print(path)"
   ]
  },
  {
   "cell_type": "markdown",
   "id": "7d4c2b45",
   "metadata": {},
   "source": [
    "# Listing directories"
   ]
  },
  {
   "cell_type": "code",
   "execution_count": 28,
   "id": "c63e34b5",
   "metadata": {
    "scrolled": false
   },
   "outputs": [
    {
     "name": "stdout",
     "output_type": "stream",
     "text": [
      ".ipynb_checkpoints\n",
      "a.py.ipynb\n",
      "demo.ipynb\n",
      "forloop tasks.ipynb\n",
      "if task.ipynb\n",
      "if.ipynb\n",
      "loop.ipynb\n",
      "set.ipynb\n",
      "Task1.ipynb\n",
      "test.py\n",
      "tuple.ipynb\n",
      "Untitled.ipynb\n",
      "whileloop .ipynb\n",
      "whileloop task new.ipynb\n",
      "whileloop task.ipynb\n",
      "whileloop1.ipynb\n"
     ]
    }
   ],
   "source": [
    "# listing directories\n",
    "files=os.listdir(cwd)\n",
    "for x in files:\n",
    "    print(x)"
   ]
  },
  {
   "cell_type": "markdown",
   "id": "f5f63f80",
   "metadata": {},
   "source": [
    "# Check for a specific file"
   ]
  },
  {
   "cell_type": "code",
   "execution_count": 30,
   "id": "a31e63c6",
   "metadata": {},
   "outputs": [
    {
     "name": "stdout",
     "output_type": "stream",
     "text": [
      "file does not exist\n"
     ]
    }
   ],
   "source": [
    "file='text.py'\n",
    "if os.path.exists(file):\n",
    "    print(\"file is exist\")\n",
    "else:\n",
    "    print(\"file does not exist\")"
   ]
  },
  {
   "cell_type": "markdown",
   "id": "3616455e",
   "metadata": {},
   "source": [
    "# Checking file or directory"
   ]
  },
  {
   "cell_type": "code",
   "execution_count": 31,
   "id": "d785395a",
   "metadata": {},
   "outputs": [
    {
     "name": "stdout",
     "output_type": "stream",
     "text": [
      "neither file or directory\n"
     ]
    }
   ],
   "source": [
    "path='text.py'\n",
    "if os.path.isfile(path):\n",
    "    print(\"its a file\")\n",
    "elif os.path.isdir(path):\n",
    "    print(\"its a directory\")\n",
    "else:\n",
    "     print(\"neither file or directory\")\n",
    "\n",
    "\n"
   ]
  },
  {
   "cell_type": "markdown",
   "id": "de7a4602",
   "metadata": {},
   "source": [
    "# Creating files"
   ]
  },
  {
   "cell_type": "code",
   "execution_count": 4,
   "id": "788cccaa",
   "metadata": {},
   "outputs": [],
   "source": [
    "file_name='sample.text1'\n",
    "f=open(file_name,'w')\n",
    "f.write(\"this is the first line\")\n",
    "f.write(\"this is the second line\")\n",
    "f.write(\"this is the third line\")\n",
    "\n",
    "f.close()"
   ]
  },
  {
   "cell_type": "code",
   "execution_count": 8,
   "id": "9f2508de",
   "metadata": {},
   "outputs": [],
   "source": [
    "with open('sample1.txt','a') as f:\n",
    "    f.write(\"hello\")\n",
    "    f.write(\"how are you\")"
   ]
  },
  {
   "cell_type": "markdown",
   "id": "685e8e00",
   "metadata": {},
   "source": [
    "# reading"
   ]
  },
  {
   "cell_type": "code",
   "execution_count": 10,
   "id": "19f4aea6",
   "metadata": {},
   "outputs": [
    {
     "name": "stdout",
     "output_type": "stream",
     "text": [
      "hellohow are you\n"
     ]
    }
   ],
   "source": [
    "file_path=os.path.join('sample1.txt')\n",
    "f=open (file_path,'r')\n",
    "items=f.read()\n",
    "print(items)\n",
    "f.close()"
   ]
  },
  {
   "cell_type": "code",
   "execution_count": null,
   "id": "9350d8d2",
   "metadata": {
    "scrolled": false
   },
   "outputs": [],
   "source": [
    "file_path=os.path.join('sample.txt')\n",
    "f=open (file_path,'r')\n",
    "items=f.readlines()\n",
    "p"
   ]
  },
  {
   "cell_type": "code",
   "execution_count": null,
   "id": "bc07cb2b",
   "metadata": {},
   "outputs": [],
   "source": [
    "file_path=os.path.join('sample')\n",
    "f=open (file_path,'r')\n",
    "items=f.readlines\n",
    "for i in items:\n",
    "print(i.strip())\n",
    "f.close()"
   ]
  }
 ],
 "metadata": {
  "kernelspec": {
   "display_name": "Python 3 (ipykernel)",
   "language": "python",
   "name": "python3"
  },
  "language_info": {
   "codemirror_mode": {
    "name": "ipython",
    "version": 3
   },
   "file_extension": ".py",
   "mimetype": "text/x-python",
   "name": "python",
   "nbconvert_exporter": "python",
   "pygments_lexer": "ipython3",
   "version": "3.11.4"
  }
 },
 "nbformat": 4,
 "nbformat_minor": 5
}
