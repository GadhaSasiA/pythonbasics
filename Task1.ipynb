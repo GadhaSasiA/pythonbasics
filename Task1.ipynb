{
 "cells": [
  {
   "cell_type": "markdown",
   "id": "123f062c",
   "metadata": {},
   "source": [
    "# 1.Print"
   ]
  },
  {
   "cell_type": "code",
   "execution_count": 5,
   "id": "17725e54",
   "metadata": {},
   "outputs": [
    {
     "name": "stdout",
     "output_type": "stream",
     "text": [
      "Hello How are you\n"
     ]
    }
   ],
   "source": [
    "a=\"Hello\"\n",
    "b=\"How are you\"\n",
    "print(a,b)"
   ]
  },
  {
   "cell_type": "markdown",
   "id": "71cbc236",
   "metadata": {},
   "source": [
    "# 2.Message"
   ]
  },
  {
   "cell_type": "code",
   "execution_count": 11,
   "id": "344b7660",
   "metadata": {},
   "outputs": [
    {
     "name": "stdout",
     "output_type": "stream",
     "text": [
      "Enter your nameGadha sasi A\n",
      "Hello Gadha sasi A\n"
     ]
    }
   ],
   "source": [
    "username=input(\"Enter your name\")\n",
    "print(\"Hello\",username)"
   ]
  },
  {
   "cell_type": "markdown",
   "id": "90b24865",
   "metadata": {},
   "source": [
    "# 3.Sum of two numbers"
   ]
  },
  {
   "cell_type": "code",
   "execution_count": 12,
   "id": "dab2a4b3",
   "metadata": {},
   "outputs": [
    {
     "name": "stdout",
     "output_type": "stream",
     "text": [
      "Enter first number70\n",
      "Enter second number50\n",
      "120.0\n"
     ]
    }
   ],
   "source": [
    "a=int(input(\"Enter first number\"))\n",
    "b=float(input(\"Enter second number\"))\n",
    "print(a+b)"
   ]
  },
  {
   "cell_type": "markdown",
   "id": "9fe9c8d9",
   "metadata": {},
   "source": [
    "# 4. Length of a string"
   ]
  },
  {
   "cell_type": "code",
   "execution_count": 13,
   "id": "b10c886d",
   "metadata": {},
   "outputs": [
    {
     "name": "stdout",
     "output_type": "stream",
     "text": [
      "12\n"
     ]
    }
   ],
   "source": [
    "a_str=\"Gadha sasi A\"\n",
    "b=len(a_str)\n",
    "print(b)"
   ]
  },
  {
   "cell_type": "markdown",
   "id": "2e72f693",
   "metadata": {},
   "source": [
    "#  5.Length of sentence"
   ]
  },
  {
   "cell_type": "code",
   "execution_count": 41,
   "id": "6e2e727f",
   "metadata": {},
   "outputs": [
    {
     "name": "stdout",
     "output_type": "stream",
     "text": [
      "7\n"
     ]
    }
   ],
   "source": [
    "a=\"Count number of words in a sentence\"\n",
    "print(len(a.split()))"
   ]
  },
  {
   "cell_type": "markdown",
   "id": "fb15ee91",
   "metadata": {},
   "source": [
    "# 6.Count uppercase"
   ]
  },
  {
   "cell_type": "code",
   "execution_count": 44,
   "id": "dd800e7f",
   "metadata": {},
   "outputs": [
    {
     "name": "stdout",
     "output_type": "stream",
     "text": [
      "enter astring:HAI world\n",
      "Number of uppercase letters: 3\n"
     ]
    }
   ],
   "source": [
    "a_str=input(\"enter astring:\")\n",
    "b=sum(map(str.isupper,a_str))\n",
    "print(\"Number of uppercase letters:\",b)"
   ]
  },
  {
   "cell_type": "markdown",
   "id": "4808f9a1",
   "metadata": {},
   "source": [
    "# 7.Convert to uppercase"
   ]
  },
  {
   "cell_type": "code",
   "execution_count": 40,
   "id": "376b7fe4",
   "metadata": {},
   "outputs": [
    {
     "name": "stdout",
     "output_type": "stream",
     "text": [
      "CONVERT ALL THE CHARACTERS TO UPPERCASE\n"
     ]
    }
   ],
   "source": [
    "a_str=\"Convert all the characters to uppercase\"\n",
    "b=(a_str.upper())\n",
    "print(b)"
   ]
  },
  {
   "cell_type": "markdown",
   "id": "1d3a057e",
   "metadata": {},
   "source": [
    "# 8.Replace"
   ]
  },
  {
   "cell_type": "code",
   "execution_count": 41,
   "id": "d677d4f8",
   "metadata": {},
   "outputs": [
    {
     "name": "stdout",
     "output_type": "stream",
     "text": [
      "hello everyone\n"
     ]
    }
   ],
   "source": [
    "a=\"hello averyone\"\n",
    "b=(a.replace(\"averyone\",\"everyone\"))\n",
    "print(b)\n"
   ]
  },
  {
   "cell_type": "markdown",
   "id": "4ce802c4",
   "metadata": {},
   "source": [
    "# 9.Palindrome"
   ]
  },
  {
   "cell_type": "code",
   "execution_count": 1,
   "id": "5625926f",
   "metadata": {},
   "outputs": [
    {
     "name": "stdout",
     "output_type": "stream",
     "text": [
      "the string is a palindrome\n"
     ]
    }
   ],
   "source": [
    "input_str = \"amma\"\n",
    "reversed_str = input_str[::-1]\n",
    "if (input_str==reversed_str):\n",
    " print(\"the string is a palindrome\")\n",
    "else:\n",
    " print(\"the string is not a palindrome\")"
   ]
  },
  {
   "cell_type": "code",
   "execution_count": 2,
   "id": "36c3e018",
   "metadata": {},
   "outputs": [
    {
     "name": "stdout",
     "output_type": "stream",
     "text": [
      "Enter a word:malayalam\n",
      "the string is palindrome\n"
     ]
    }
   ],
   "source": [
    "a_str=input(\"Enter a word:\")\n",
    "reversed_str=a_str[::-1]\n",
    "if (a_str==reversed_str):\n",
    "    print(\"the string is palindrome\")\n",
    "else:\n",
    "    print(\"string is not a palindrome\")"
   ]
  },
  {
   "cell_type": "markdown",
   "id": "5381adb8",
   "metadata": {},
   "source": [
    "# 10.Reverse"
   ]
  },
  {
   "cell_type": "code",
   "execution_count": 4,
   "id": "fcf3acca",
   "metadata": {},
   "outputs": [
    {
     "name": "stdout",
     "output_type": "stream",
     "text": [
      "['World', 'Hello']\n"
     ]
    }
   ],
   "source": [
    "a=[\"Hello\",\"World\"]\n",
    "a.reverse()\n",
    "print(a)"
   ]
  },
  {
   "cell_type": "markdown",
   "id": "00061c09",
   "metadata": {},
   "source": [
    "# 11.Substring"
   ]
  },
  {
   "cell_type": "code",
   "execution_count": 10,
   "id": "fca5a8fa",
   "metadata": {},
   "outputs": [
    {
     "name": "stdout",
     "output_type": "stream",
     "text": [
      "enter a string:hello world\n",
      "enter substring to check: worl\n",
      "yes\n"
     ]
    }
   ],
   "source": [
    "a=input(\"enter a string:\")\n",
    "b=input(\"enter substring to check: \")\n",
    "if b in a:\n",
    "    print(\"yes\")\n",
    "else:\n",
    "    print(\"no\")\n"
   ]
  },
  {
   "cell_type": "markdown",
   "id": "544518b6",
   "metadata": {},
   "source": [
    "# 12.Longest word"
   ]
  },
  {
   "cell_type": "code",
   "execution_count": 1,
   "id": "8ff87562",
   "metadata": {},
   "outputs": [
    {
     "name": "stdout",
     "output_type": "stream",
     "text": [
      "Enter a sentence: good morning\n",
      "morning\n"
     ]
    }
   ],
   "source": [
    "a=input(\"Enter a sentence: \")\n",
    "long=max(a.split(),key=len)\n",
    "print(long)"
   ]
  },
  {
   "cell_type": "code",
   "execution_count": 5,
   "id": "672b6b74",
   "metadata": {},
   "outputs": [
    {
     "name": "stdout",
     "output_type": "stream",
     "text": [
      "enter a sentence:hello world\n",
      "hello\n"
     ]
    }
   ],
   "source": [
    "a=input(\"enter a sentence:\")\n",
    "shortest=min(a.split())\n",
    "print(shortest)"
   ]
  },
  {
   "cell_type": "markdown",
   "id": "fdd8c0f3",
   "metadata": {},
   "source": [
    "# PYTHON LIST EXERCISES"
   ]
  },
  {
   "cell_type": "markdown",
   "id": "d157721a",
   "metadata": {},
   "source": [
    "# 1.Sum of elements"
   ]
  },
  {
   "cell_type": "code",
   "execution_count": 2,
   "id": "302faf73",
   "metadata": {},
   "outputs": [
    {
     "name": "stdout",
     "output_type": "stream",
     "text": [
      "44\n"
     ]
    }
   ],
   "source": [
    "a=[2,3,4,5,6,7,8,9]\n",
    "sum_element=sum(a)\n",
    "print(sum_element)"
   ]
  },
  {
   "cell_type": "markdown",
   "id": "cb11830c",
   "metadata": {},
   "source": [
    "# 2.Reverse the order"
   ]
  },
  {
   "cell_type": "code",
   "execution_count": 14,
   "id": "77f5218b",
   "metadata": {},
   "outputs": [
    {
     "name": "stdout",
     "output_type": "stream",
     "text": [
      "['g', 'f', 'e', 'd', 'c', 'b', 'a']\n"
     ]
    }
   ],
   "source": [
    "a=[\"a\",\"b\",\"c\",\"d\",\"e\",\"f\",\"g\"]\n",
    "a.reverse()\n",
    "print(a)"
   ]
  },
  {
   "cell_type": "markdown",
   "id": "ec1ddbd3",
   "metadata": {},
   "source": [
    "# 3.Remove empty string"
   ]
  },
  {
   "cell_type": "code",
   "execution_count": 20,
   "id": "24447098",
   "metadata": {},
   "outputs": [
    {
     "name": "stdout",
     "output_type": "stream",
     "text": [
      "['mike', 'Emma', 'kelly', 'Brad']\n"
     ]
    }
   ],
   "source": [
    "list=[\"mike\",\"\",\"Emma\",\"kelly\",\"\",\"Brad\"]\n",
    "list.remove(\"\")\n",
    "list.remove(\"\")\n",
    "print(list)"
   ]
  },
  {
   "cell_type": "markdown",
   "id": "cb1e16c3",
   "metadata": {},
   "source": [
    "# 4.Add item"
   ]
  },
  {
   "cell_type": "code",
   "execution_count": 21,
   "id": "aa5922ca",
   "metadata": {},
   "outputs": [
    {
     "name": "stdout",
     "output_type": "stream",
     "text": [
      "[10, 20, [300, 400, [5000, 6000, 7000], 500], 30, 40]\n"
     ]
    }
   ],
   "source": [
    "list1=[10,20,[300,400,[5000,6000],500],30,40]\n",
    "list1[2][2].append(7000)\n",
    "print(list1)\n"
   ]
  },
  {
   "cell_type": "markdown",
   "id": "828036e8",
   "metadata": {},
   "source": [
    "# 5.Find value,replace"
   ]
  },
  {
   "cell_type": "code",
   "execution_count": 3,
   "id": "b3b50ae5",
   "metadata": {
    "scrolled": true
   },
   "outputs": [
    {
     "name": "stdout",
     "output_type": "stream",
     "text": [
      "value 20 is present at 3\n",
      "[5, 10, 15, 200, 25, 50, 20]\n"
     ]
    }
   ],
   "source": [
    "list1=[5,10,15,20,25,50,20]\n",
    "a=list1.index(20)\n",
    "print(\"value 20 is present at\",a)\n",
    "list1[a]=200\n",
    "print(list1)"
   ]
  },
  {
   "cell_type": "markdown",
   "id": "5071482e",
   "metadata": {},
   "source": [
    "# 6.Difference b/w largest and smallest elements"
   ]
  },
  {
   "cell_type": "code",
   "execution_count": 38,
   "id": "ef2fd84f",
   "metadata": {},
   "outputs": [
    {
     "name": "stdout",
     "output_type": "stream",
     "text": [
      "55\n"
     ]
    }
   ],
   "source": [
    "list1=[12,34,55,45,67,37]\n",
    "max_numbers = max(list1)\n",
    "min_numbers = min(list1)\n",
    "s=max_numbers-min_numbers\n",
    "print(s)"
   ]
  },
  {
   "cell_type": "markdown",
   "id": "cfcdd1d1",
   "metadata": {},
   "source": [
    "# 7.Count"
   ]
  },
  {
   "cell_type": "code",
   "execution_count": 39,
   "id": "864c82cc",
   "metadata": {},
   "outputs": [
    {
     "name": "stdout",
     "output_type": "stream",
     "text": [
      "2\n"
     ]
    }
   ],
   "source": [
    "list1=[12,34,12,55,45,67,37]\n",
    "count=list1.count(12)\n",
    "print(count)"
   ]
  },
  {
   "cell_type": "markdown",
   "id": "b19397cb",
   "metadata": {},
   "source": [
    "# 8.Insert a new element"
   ]
  },
  {
   "cell_type": "code",
   "execution_count": 40,
   "id": "44f70f6c",
   "metadata": {},
   "outputs": [
    {
     "name": "stdout",
     "output_type": "stream",
     "text": [
      "['G', 'a', 'd', 'h', 'a']\n"
     ]
    }
   ],
   "source": [
    "a=[\"G\",\"a\",\"h\",\"a\"]\n",
    "a.insert(2,\"d\")\n",
    "print(a)"
   ]
  }
 ],
 "metadata": {
  "kernelspec": {
   "display_name": "Python 3 (ipykernel)",
   "language": "python",
   "name": "python3"
  },
  "language_info": {
   "codemirror_mode": {
    "name": "ipython",
    "version": 3
   },
   "file_extension": ".py",
   "mimetype": "text/x-python",
   "name": "python",
   "nbconvert_exporter": "python",
   "pygments_lexer": "ipython3",
   "version": "3.11.4"
  }
 },
 "nbformat": 4,
 "nbformat_minor": 5
}
