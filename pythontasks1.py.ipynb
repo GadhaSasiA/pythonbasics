{
 "cells": [
  {
   "cell_type": "code",
   "execution_count": 1,
   "id": "95a459a1",
   "metadata": {},
   "outputs": [
    {
     "name": "stdout",
     "output_type": "stream",
     "text": [
      "enter a string:hello world\n",
      "['world', 'hello']\n"
     ]
    }
   ],
   "source": [
    "def reverse_words():\n",
    "    string=input(\"enter a string:\")\n",
    "    words=string.split()\n",
    "    reverse=words[::-1]\n",
    "    print(reverse)\n",
    "reverse_words()\n"
   ]
  },
  {
   "cell_type": "code",
   "execution_count": 5,
   "id": "8ecce806",
   "metadata": {},
   "outputs": [
    {
     "name": "stdout",
     "output_type": "stream",
     "text": [
      "enter a string:ga dha\n",
      "['dha', 'ga']\n"
     ]
    }
   ],
   "source": [
    "def reverse_word():\n",
    "    string=input(\"enter a string:\")\n",
    "    word=string.split()\n",
    "    reverse=word[::-1]\n",
    "    print(reverse)\n",
    "reverse_word()"
   ]
  },
  {
   "cell_type": "code",
   "execution_count": 45,
   "id": "8a9e736f",
   "metadata": {},
   "outputs": [
    {
     "name": "stdout",
     "output_type": "stream",
     "text": [
      "array sorted [2, 3, 4, 5, 6, 7, 8, 9, 10]\n",
      "median of the array is: 4.5\n"
     ]
    }
   ],
   "source": [
    "def find_median_sorted_array():\n",
    "    num1=[5,3,8,2,4]\n",
    "    num2=[10,6,9,7]\n",
    "    a=sorted(num1+num2)\n",
    "    m=len(a)\n",
    "    med1=m/2\n",
    "    med2=m-med1\n",
    "    print(\"array sorted\",a)\n",
    "    print(\"median of the array is:\",med2)\n",
    "find_median_sorted_array()"
   ]
  },
  {
   "cell_type": "code",
   "execution_count": 59,
   "id": "88ed5e35",
   "metadata": {},
   "outputs": [
    {
     "ename": "NameError",
     "evalue": "name 'n' is not defined",
     "output_type": "error",
     "traceback": [
      "\u001b[1;31m---------------------------------------------------------------------------\u001b[0m",
      "\u001b[1;31mNameError\u001b[0m                                 Traceback (most recent call last)",
      "Cell \u001b[1;32mIn[59], line 13\u001b[0m\n\u001b[0;32m     11\u001b[0m     med1\u001b[38;5;241m=\u001b[39mm\u001b[38;5;241m/\u001b[39m\u001b[38;5;241m/\u001b[39m\u001b[38;5;241m2\u001b[39m\n\u001b[0;32m     12\u001b[0m     med2\u001b[38;5;241m=\u001b[39mm\u001b[38;5;241m-\u001b[39mmed1\n\u001b[1;32m---> 13\u001b[0m \u001b[38;5;28;01mif\u001b[39;00m (n \u001b[38;5;241m%\u001b[39m \u001b[38;5;241m2\u001b[39m)\u001b[38;5;241m==\u001b[39m\u001b[38;5;241m0\u001b[39m:\n\u001b[0;32m     14\u001b[0m     median\u001b[38;5;241m=\u001b[39mmed1\n\u001b[0;32m     15\u001b[0m \u001b[38;5;28;01melse\u001b[39;00m:\n",
      "\u001b[1;31mNameError\u001b[0m: name 'n' is not defined"
     ]
    }
   ],
   "source": [
    "def find_median_sorted_array():\n",
    "    a=int(input(\"enter a number range\"))\n",
    "    for i in range(a):\n",
    "        number=int(input(\"enter a number\"))\n",
    "    b=int(input(\"enter a number range\"))\n",
    "    for i in range(b):\n",
    "        number1=int(input(\"enter a number\"))\n",
    "    n=(a+b)\n",
    "    print(\"array sorted\",a)\n",
    "    m=len(n)\n",
    "    med1=m//2\n",
    "    med2=m-med1\n",
    "if (n % 2)==0:\n",
    "    median=med1\n",
    "else:\n",
    "    median=med2\n",
    "    print(\"median of the array is:\",med2)\n",
    "find_median_sorted_array()\n",
    "    \n",
    "    \n",
    "                \n",
    "    \n",
    "    "
   ]
  },
  {
   "cell_type": "code",
   "execution_count": null,
   "id": "d3ecdd02",
   "metadata": {},
   "outputs": [],
   "source": []
  },
  {
   "cell_type": "code",
   "execution_count": null,
   "id": "4a41f5b3",
   "metadata": {},
   "outputs": [],
   "source": [
    "def find_median_sorted_array():\n",
    "    return true\n",
    "num1=sorted(list())"
   ]
  },
  {
   "cell_type": "code",
   "execution_count": 61,
   "id": "23b287a7",
   "metadata": {
    "scrolled": true
   },
   "outputs": [
    {
     "name": "stdout",
     "output_type": "stream",
     "text": [
      "Enter values of first array seperated by space : 2 4 6\n",
      "Enter values of second array seperated by space: 6 7 \n",
      "The array after concatenation:  ['2', '4', '6', '6', '7']\n",
      "median:  6\n"
     ]
    }
   ],
   "source": [
    "def find_median_sorted_arrays():\n",
    "    return True\n",
    "nums1=sorted(list(input(\"Enter values of first array seperated by space : \").split()))\n",
    "nums2=sorted(list(input(\"Enter values of second array seperated by space: \").split()))\n",
    "nums3=sorted(nums1+nums2)\n",
    "print(\"The array after concatenation: \",nums3)\n",
    "mid=len(nums3) // 2\n",
    "nums3=[int(x) for x in nums3]\n",
    "if len(nums3) %2 ==0:\n",
    "        result=(nums3[mid]+nums3[mid-1])/2\n",
    "else:\n",
    "        result=nums3[mid]\n",
    "print(\"median: \",result)"
   ]
  },
  {
   "cell_type": "markdown",
   "id": "b7282486",
   "metadata": {},
   "source": []
  },
  {
   "cell_type": "code",
   "execution_count": 9,
   "id": "3b8ba775",
   "metadata": {},
   "outputs": [
    {
     "name": "stdout",
     "output_type": "stream",
     "text": [
      "enter numbers seperated by space:3 4 5 6\n",
      "enter numbers seperated by space:7 8 9 2\n",
      "array after concatenation ['2', '3', '4', '5', '6', '7', '8', '9']\n",
      "median is: 5.5\n"
     ]
    }
   ],
   "source": [
    "def find_median():\n",
    "    return True\n",
    "num1=sorted(list(input(\"enter numbers seperated by space:\").split()))\n",
    "num2=sorted(list(input(\"enter numbers seperated by space:\").split()))\n",
    "num3=sorted(num1+num2)\n",
    "print(\"array after concatenation\",num3)\n",
    "mid=len(num3)//2\n",
    "num3=[int(x)for x in num3]\n",
    "if len(num3)%2==0:\n",
    "      result=(num3[mid]+num3[mid-1])/2\n",
    "else:\n",
    "    result=num3[mid]\n",
    "print(\"median is:\",result)"
   ]
  },
  {
   "cell_type": "code",
   "execution_count": null,
   "id": "a1e1f816",
   "metadata": {},
   "outputs": [],
   "source": [
    "mid=len(num3)//2\n",
    "num3=[int(x)for x in num3]\n",
    "if len(num3)%2==0:\n",
    "    result=(num3[mid]+num3[mid-1])/2"
   ]
  }
 ],
 "metadata": {
  "kernelspec": {
   "display_name": "Python 3 (ipykernel)",
   "language": "python",
   "name": "python3"
  },
  "language_info": {
   "codemirror_mode": {
    "name": "ipython",
    "version": 3
   },
   "file_extension": ".py",
   "mimetype": "text/x-python",
   "name": "python",
   "nbconvert_exporter": "python",
   "pygments_lexer": "ipython3",
   "version": "3.11.4"
  }
 },
 "nbformat": 4,
 "nbformat_minor": 5
}
