{
 "cells": [
  {
   "cell_type": "markdown",
   "id": "7202b56c",
   "metadata": {},
   "source": [
    "# 1.find pairs of integer"
   ]
  },
  {
   "cell_type": "code",
   "execution_count": 10,
   "id": "85d56780",
   "metadata": {},
   "outputs": [
    {
     "name": "stdout",
     "output_type": "stream",
     "text": [
      "enter a number:11\n",
      "[5, 6]\n"
     ]
    }
   ],
   "source": [
    "a=[2,3,4,5,6,3,2,4]\n",
    "b= int(input(\"enter a number:\"))\n",
    "n=len(a)\n",
    "for i in range(0,n):\n",
    "    for j in range(i+1,n):\n",
    "         if (a[i]+a[j]==b):\n",
    "            print([a[i],a[j]])\n",
    "        "
   ]
  },
  {
   "cell_type": "markdown",
   "id": "a59b5927",
   "metadata": {},
   "source": [
    "# 2.Median"
   ]
  },
  {
   "cell_type": "code",
   "execution_count": 2,
   "id": "80cf9811",
   "metadata": {},
   "outputs": [
    {
     "name": "stdout",
     "output_type": "stream",
     "text": [
      "The original list :  [3, 6, 4, 8, 9, 7, 5]\n",
      "Median of list is :  8\n"
     ]
    }
   ],
   "source": [
    "a = [3, 6, 4, 8, 9, 7,5] \n",
    "print(\"The original list : \",a) \n",
    "mid = len(a) // 2\n",
    "mid2=len(a)-mid\n",
    "for median in a:\n",
    "    if median==(a[mid] +a[mid]) / 2:\n",
    "        break\n",
    "print(\"Median of list is : \",median) \n"
   ]
  },
  {
   "cell_type": "markdown",
   "id": "42a221eb",
   "metadata": {},
   "source": [
    "# 3.subsequence"
   ]
  },
  {
   "cell_type": "code",
   "execution_count": 37,
   "id": "7e756a00",
   "metadata": {},
   "outputs": [
    {
     "name": "stdout",
     "output_type": "stream",
     "text": [
      "The longest increasing subsequence is: 3\n"
     ]
    }
   ],
   "source": [
    "def lis(arr):\n",
    "    n = len(arr)\n",
    "    lis = [1]*n\n",
    "    for i in range (1 , n):\n",
    "        for j in range(0 , i):\n",
    "            if arr[i] > arr[j] and lis[i]< lis[j] + 1 :\n",
    "                lis[i] = lis[j]+1\n",
    " \n",
    "    maximum = 0\n",
    "    for i in range(len(lis)):\n",
    "        maximum = max(maximum , lis[i])\n",
    " \n",
    "    return maximum\n",
    "arr=[1,5,2,7,3]        \n",
    "print(\"The longest increasing subsequence is:\",lis(arr))"
   ]
  },
  {
   "cell_type": "markdown",
   "id": "32485f7f",
   "metadata": {},
   "source": [
    "# 4. k th smallest element"
   ]
  },
  {
   "cell_type": "code",
   "execution_count": 6,
   "id": "c482b93c",
   "metadata": {},
   "outputs": [
    {
     "name": "stdout",
     "output_type": "stream",
     "text": [
      "the2th smallest element is: 5\n"
     ]
    }
   ],
   "source": [
    "arr=[7,3,10,5,8,6]\n",
    "n=len(arr)\n",
    "k=2\n",
    "for i in range(k):\n",
    "    for j in range(i+1,n): \n",
    "        if arr[i] > arr[j]:\n",
    "             arr[i],arr[j]=arr[j],arr[i]\n",
    "print(f\"the{k}th smallest element is: {arr[k-1]}\")"
   ]
  },
  {
   "cell_type": "markdown",
   "id": "94487a76",
   "metadata": {},
   "source": [
    "# 5.bubblesort"
   ]
  },
  {
   "cell_type": "code",
   "execution_count": 21,
   "id": "f1fb641d",
   "metadata": {},
   "outputs": [
    {
     "name": "stdout",
     "output_type": "stream",
     "text": [
      "the list before sorting [3, 4, 5, 6, 7, 8, 9, 10]\n",
      "the list after bubble sorting is: [3, 4, 5, 6, 7, 8, 9, 10]\n"
     ]
    }
   ],
   "source": [
    "def bubble_sort(list1):\n",
    "    n=len(list1)\n",
    "    for i in range(n):\n",
    "        for j in range(0,n-i-1):\n",
    "            if list1[j]>list1[j+1]:\n",
    "                list1[j],list1[j+1]=list1[j+1],list1[j]\n",
    "list1=[3,4,5,6,7,8,9,10]\n",
    "print(\"the list before sorting\",list1)\n",
    "bubble_sort(list1)\n",
    "print(\"the list after bubble sorting is:\",list1)"
   ]
  },
  {
   "cell_type": "markdown",
   "id": "acf031d6",
   "metadata": {},
   "source": [
    "# 6."
   ]
  },
  {
   "cell_type": "code",
   "execution_count": 4,
   "id": "8371e2b7",
   "metadata": {},
   "outputs": [
    {
     "name": "stdout",
     "output_type": "stream",
     "text": [
      "5 found at index 1\n"
     ]
    }
   ],
   "source": [
    "def binary_search(arr,x):\n",
    "    left,right=0,len(arr)-1\n",
    "    for i in range(len(arr)):\n",
    "        mid=(left+right)//2\n",
    "        if arr[mid]==x:\n",
    "            print(x,\"found at index\",mid)\n",
    "            break\n",
    "        elif arr[mid]<x:\n",
    "            left=mid+1\n",
    "        else:\n",
    "            right=mid-1\n",
    "    else:\n",
    "        print('not found')\n",
    "arr=[2,5,4,6,8,7,9,13]\n",
    "x=5\n",
    "binary_search(arr,x)"
   ]
  },
  {
   "cell_type": "markdown",
   "id": "080ff107",
   "metadata": {},
   "source": [
    "# 7.Largest product"
   ]
  },
  {
   "cell_type": "code",
   "execution_count": 23,
   "id": "ded1f128",
   "metadata": {},
   "outputs": [
    {
     "name": "stdout",
     "output_type": "stream",
     "text": [
      "The array is: [1, 3, 8, 6, 2, 5, 9]\n",
      "the largest product of any three elements in a given array is: 432\n"
     ]
    }
   ],
   "source": [
    "arr=[1,3,8,6,2,5,9]\n",
    "a.sort()\n",
    "print(\"The array is:\",arr)\n",
    "n=len(arr)\n",
    "if n<3:\n",
    "    print(\"invalied input\")\n",
    "max_pro=arr[0]*arr[1]*arr[2]\n",
    "for i in range(n-2):\n",
    "    for j in range(i+1,n-1):\n",
    "        for k in range(j+1,n):\n",
    "            pro=arr[i]*arr[j]*arr[k]\n",
    "            if pro>max_pro:\n",
    "                max_pro=pro\n",
    "print(\"the largest product of any three elements in a given array is:\",max_pro)"
   ]
  },
  {
   "cell_type": "markdown",
   "id": "9b843773",
   "metadata": {},
   "source": [
    "# 8.largest sum"
   ]
  },
  {
   "cell_type": "code",
   "execution_count": 13,
   "id": "7c6731c2",
   "metadata": {},
   "outputs": [
    {
     "name": "stdout",
     "output_type": "stream",
     "text": [
      "[2, 3, 4, 5, 6, 7, 8]\n",
      "20\n"
     ]
    }
   ],
   "source": [
    "num= [2,3,4,5,6,7,8]\n",
    "sum_=0\n",
    "i=0\n",
    "b=len(num)\n",
    "num.sort()\n",
    "for i in num:\n",
    "    if i<len(num):\n",
    "        sum_=sum_+i\n",
    "        i+=1\n",
    "print(num)\n",
    "print(sum_)"
   ]
  },
  {
   "cell_type": "markdown",
   "id": "9f56e10d",
   "metadata": {},
   "source": [
    "# 9.Find common element"
   ]
  },
  {
   "cell_type": "code",
   "execution_count": 73,
   "id": "d45b2bd7",
   "metadata": {
    "scrolled": true
   },
   "outputs": [
    {
     "name": "stdout",
     "output_type": "stream",
     "text": [
      "The common elements are: {2, 3, 5}\n"
     ]
    }
   ],
   "source": [
    "a=[1,3,8,2,5,9]\n",
    "b=[2,3,5,6,7,4]\n",
    "for common in a:\n",
    "    for common in b:\n",
    "        common=((set(a)&set(b)))\n",
    "print(\"The common elements are:\",common)        \n",
    "         \n"
   ]
  },
  {
   "cell_type": "markdown",
   "id": "4455da67",
   "metadata": {},
   "source": [
    "# 10.Longest palindrome"
   ]
  },
  {
   "cell_type": "code",
   "execution_count": 6,
   "id": "a38a8148",
   "metadata": {},
   "outputs": [
    {
     "name": "stdout",
     "output_type": "stream",
     "text": [
      "enter a string:Amma Malayalam\n",
      "The longest palindrome substring is: alayala\n"
     ]
    }
   ],
   "source": [
    "a=input(\"enter a string:\")\n",
    "long=''\n",
    "n=len(a)\n",
    "for i in range(n):\n",
    "    for j in range(i+1,n+1):\n",
    "        word=a[i:j]\n",
    "        if word==word[::-1]:\n",
    "            if len(word)>len(long):\n",
    "                long=word\n",
    "print(\"The longest palindrome substring is:\",long)"
   ]
  }
 ],
 "metadata": {
  "kernelspec": {
   "display_name": "Python 3 (ipykernel)",
   "language": "python",
   "name": "python3"
  },
  "language_info": {
   "codemirror_mode": {
    "name": "ipython",
    "version": 3
   },
   "file_extension": ".py",
   "mimetype": "text/x-python",
   "name": "python",
   "nbconvert_exporter": "python",
   "pygments_lexer": "ipython3",
   "version": "3.11.4"
  }
 },
 "nbformat": 4,
 "nbformat_minor": 5
}
