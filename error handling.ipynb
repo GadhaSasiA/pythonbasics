{
 "cells": [
  {
   "cell_type": "markdown",
   "id": "ae8f4e23",
   "metadata": {},
   "source": [
    "# 1"
   ]
  },
  {
   "cell_type": "code",
   "execution_count": 36,
   "id": "5cf972e4",
   "metadata": {},
   "outputs": [
    {
     "name": "stdout",
     "output_type": "stream",
     "text": [
      "Enter a number 4\n",
      "The square root of 4.0 is 2.0\n"
     ]
    }
   ],
   "source": [
    " try:\n",
    "        num= float(input(\"Enter a number \"))\n",
    "        if num<0:\n",
    "            raise ValueError(\"please enter a non negative number.\")\n",
    "        result=num**0.5\n",
    "        print(f\"The square root of\",num,\"is\",result)\n",
    "        \n",
    "except ValueError as e:\n",
    "        print(\"Error: Invalid input. Please enter valid number\")    \n"
   ]
  },
  {
   "cell_type": "markdown",
   "id": "8b0a55e6",
   "metadata": {},
   "source": [
    "# 2"
   ]
  },
  {
   "cell_type": "code",
   "execution_count": 1,
   "id": "5f8ae41c",
   "metadata": {},
   "outputs": [
    {
     "name": "stdout",
     "output_type": "stream",
     "text": [
      "Enter a list of numbers separated by commas: 2,3\n",
      "The sum of the numbers is 5.0\n"
     ]
    }
   ],
   "source": [
    "while True:\n",
    "    try:\n",
    "        num_list = input(\"Enter a list of numbers separated by commas: \").split(',')\n",
    "        num_list = [float(num) for num in num_list]\n",
    "        result = sum(num_list)\n",
    "        print(f\"The sum of the numbers is {result}\")\n",
    "        break\n",
    "    except ValueError:\n",
    "        print(\"Error: Please enter valid numbers separated by commas.\")\n"
   ]
  },
  {
   "cell_type": "markdown",
   "id": "c45aed74",
   "metadata": {},
   "source": [
    "# 3"
   ]
  },
  {
   "cell_type": "code",
   "execution_count": 42,
   "id": "bddf33b0",
   "metadata": {
    "scrolled": true
   },
   "outputs": [
    {
     "name": "stdout",
     "output_type": "stream",
     "text": [
      "enter a file name:sample.txt\n",
      "File contents is: 3\n",
      "the: 3\n",
      "linethis: 2\n",
      "this: 1\n",
      "first: 1\n",
      "second: 1\n",
      "third: 1\n",
      "line: 1\n",
      "\n"
     ]
    }
   ],
   "source": [
    " filename=input(\"enter a file name:\")\n",
    "try:\n",
    "    with open (filename,'r') as file:\n",
    "        text=file.read()\n",
    "        print(\"File contents\",text)      \n",
    "except ValueError:\n",
    "    print(\"invalid filename\")"
   ]
  },
  {
   "cell_type": "markdown",
   "id": "761b3f45",
   "metadata": {},
   "source": [
    "# 4"
   ]
  },
  {
   "cell_type": "code",
   "execution_count": 49,
   "id": "a5e32219",
   "metadata": {},
   "outputs": [
    {
     "name": "stdout",
     "output_type": "stream",
     "text": [
      "Enter a number: 6\n",
      "The factorial of 6 is 720\n"
     ]
    }
   ],
   "source": [
    "import math\n",
    "while True:    \n",
    "    try:\n",
    "        num = int(input(\"Enter a number: \"))\n",
    "        if num < 0:\n",
    "            raise ValueError(\"Please enter a non-negative integer.\")\n",
    "        result = math.factorial(num)\n",
    "        print(f\"The factorial of {num} is {result}\")\n",
    "        break\n",
    "    except ValueError as e:\n",
    "        print(f\"Error: {e}. Please enter a valid integer.\")"
   ]
  },
  {
   "cell_type": "markdown",
   "id": "04d0bc3a",
   "metadata": {},
   "source": [
    "# 5"
   ]
  },
  {
   "cell_type": "code",
   "execution_count": 43,
   "id": "fec9c4e2",
   "metadata": {},
   "outputs": [
    {
     "name": "stdout",
     "output_type": "stream",
     "text": [
      "Enter a string: hello world\n",
      "length of the string is: 11\n"
     ]
    }
   ],
   "source": [
    "a =(input(\"Enter a string: \"))\n",
    "try:\n",
    "    n=len(a)\n",
    "    if not a:\n",
    "        print(\"Invalid input. Please enter another value .\")\n",
    "    else:\n",
    "        print(\"length of the string is:\",n)\n",
    "except ValueError:\n",
    "        print(\"Invalid input. Please enter another value .\")\n",
    "\n",
    "    \n"
   ]
  },
  {
   "cell_type": "markdown",
   "id": "0389431f",
   "metadata": {},
   "source": [
    "# 6"
   ]
  },
  {
   "cell_type": "code",
   "execution_count": 50,
   "id": "ef9b6265",
   "metadata": {},
   "outputs": [
    {
     "name": "stdout",
     "output_type": "stream",
     "text": [
      "================================================================================\n",
      "Welcome to the FLEXIBLE WORD GAME\n",
      "================================================================================\n",
      "Enter the word size (4 to 8): 5\n",
      "Give all 5 -letter words you know, one word at a time\n",
      "Enter the word 'end' to exit\n",
      "What's the next word? seven\n",
      "What's the next word? array\n",
      "What's the next word? fifth\n",
      "What's the next word? games\n",
      "What's the next word? lists\n",
      "What's the next word? end\n",
      "Your score: 5\n",
      "Accepted words (in order of entry): seven array fifth games lists\n",
      "Accepted words (in sorted order): array fifth games lists seven\n",
      "Banned words (in sorted order): \n",
      "Thank you for playing the FLEXIBLE WORD GAME\n"
     ]
    }
   ],
   "source": [
    "def flexible_word_game():\n",
    "    while True:\n",
    "        try:\n",
    "            word_size = int(input(\"Enter the word size (4 to 8): \"))\n",
    "            if word_size < 4 or word_size > 8:\n",
    "                raise ValueError(\"Number not in correct range.\")\n",
    "            break\n",
    "        except ValueError:\n",
    "            print(\"That is not a number or not in the correct range. Try again.\")\n",
    "\n",
    "    print(\"Give all\", word_size, \"-letter words you know, one word at a time\")\n",
    "    print(\"Enter the word 'end' to exit\")\n",
    "    \n",
    "    accepted_words = []\n",
    "    banned_words = []\n",
    "    score = 0\n",
    "    \n",
    "    while True:\n",
    "        word = input(\"What's the next word? \").strip().lower()\n",
    "        \n",
    "        if word == 'end':\n",
    "            break\n",
    "        \n",
    "        if len(word) != word_size:\n",
    "            print(f\"Not a {word_size}-letter word\")\n",
    "            continue\n",
    "        \n",
    "        if word in accepted_words:\n",
    "            print(f\"Repeated word! {word} is number {accepted_words.index(word) + 1} in the accepted words list.\")\n",
    "            banned_words.append(word)\n",
    "            accepted_words.remove(word)\n",
    "            score -= 1\n",
    "            print(f\"{word} is no longer an accepted word and is banned\")\n",
    "            continue\n",
    "        \n",
    "        if word in banned_words:\n",
    "            print(f\"{word} is banned!\")\n",
    "            continue\n",
    "        \n",
    "        accepted_words.append(word)\n",
    "        score += 1\n",
    "        \n",
    "    print(\"Your score:\", score)\n",
    "    print(\"Accepted words (in order of entry):\", ' '.join(accepted_words))\n",
    "    print(\"Accepted words (in sorted order):\", ' '.join(sorted(accepted_words)))\n",
    "    print(\"Banned words (in sorted order):\", ' '.join(sorted(banned_words)))\n",
    "    print(\"Thank you for playing the FLEXIBLE WORD GAME\")\n",
    "\n",
    "print(\"=\" * 80)\n",
    "print(\"Welcome to the FLEXIBLE WORD GAME\")\n",
    "print(\"=\" * 80)\n",
    "flexible_word_game()\n"
   ]
  },
  {
   "cell_type": "code",
   "execution_count": null,
   "id": "c0888654",
   "metadata": {},
   "outputs": [],
   "source": []
  }
 ],
 "metadata": {
  "kernelspec": {
   "display_name": "Python 3 (ipykernel)",
   "language": "python",
   "name": "python3"
  },
  "language_info": {
   "codemirror_mode": {
    "name": "ipython",
    "version": 3
   },
   "file_extension": ".py",
   "mimetype": "text/x-python",
   "name": "python",
   "nbconvert_exporter": "python",
   "pygments_lexer": "ipython3",
   "version": "3.11.4"
  }
 },
 "nbformat": 4,
 "nbformat_minor": 5
}
