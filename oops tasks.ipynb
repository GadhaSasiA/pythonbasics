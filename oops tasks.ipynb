{
 "cells": [
  {
   "cell_type": "markdown",
   "id": "da427225",
   "metadata": {},
   "source": [
    "# 1"
   ]
  },
  {
   "cell_type": "code",
   "execution_count": 2,
   "id": "30ff4f3a",
   "metadata": {},
   "outputs": [
    {
     "name": "stdout",
     "output_type": "stream",
     "text": [
      "72\n",
      "36\n",
      "0 0\n"
     ]
    }
   ],
   "source": [
    "class Rectangle:\n",
    "    def __init__(self, width, height):\n",
    "        self._width = max(width, 0)\n",
    "        self._height = max(height, 0)\n",
    "\n",
    "    @property\n",
    "    def width(self):\n",
    "        return self._width\n",
    "\n",
    "    @width.setter\n",
    "    def width(self, value):\n",
    "        self._width = max(value, 0)\n",
    "\n",
    "    @property\n",
    "    def height(self):\n",
    "        return self._height\n",
    "\n",
    "    @height.setter\n",
    "    def height(self, value):\n",
    "        self._height = max(value, 0)\n",
    "\n",
    "    def get_area(self):\n",
    "        return self._width * self._height\n",
    "\n",
    "    def get_perimeter(self):\n",
    "        return 2 * (self._width + self._height)\n",
    "\n",
    "\n",
    "rectangle = Rectangle(6, 12)\n",
    "print(rectangle.get_area())  \n",
    "print(rectangle.get_perimeter())  \n",
    "rectangle.width = -4\n",
    "rectangle.height = -6\n",
    "print(rectangle.width, rectangle.height) \n"
   ]
  },
  {
   "cell_type": "markdown",
   "id": "3ae03ebf",
   "metadata": {},
   "source": [
    "# 2"
   ]
  },
  {
   "cell_type": "code",
   "execution_count": 10,
   "id": "b466b347",
   "metadata": {},
   "outputs": [
    {
     "name": "stdout",
     "output_type": "stream",
     "text": [
      "Name: aj\n",
      "Age: 30\n",
      "Position: Manager\n",
      "Salary: $55000\n"
     ]
    }
   ],
   "source": [
    "class Employee:\n",
    "    def __init__(self, name, age, position, salary):\n",
    "        self.name = name\n",
    "        self.age = age\n",
    "        self.position = position\n",
    "        self.salary = salary\n",
    "\n",
    "    def give_raise(self, raise_amount):\n",
    "        self.salary += raise_amount\n",
    "\n",
    "    def print_info(self):\n",
    "        print(f\"Name: {self.name}\")\n",
    "        print(f\"Age: {self.age}\")\n",
    "        print(f\"Position: {self.position}\")\n",
    "        print(f\"Salary: ${self.salary}\")\n",
    "\n",
    "employee = Employee(\"aj\", 30, \"Manager\", 50000)\n",
    "employee.give_raise(5000) \n",
    "employee.print_info()"
   ]
  },
  {
   "cell_type": "markdown",
   "id": "9cadeabb",
   "metadata": {},
   "source": [
    "# 3"
   ]
  },
  {
   "cell_type": "code",
   "execution_count": 17,
   "id": "d34b614f",
   "metadata": {},
   "outputs": [
    {
     "name": "stdout",
     "output_type": "stream",
     "text": [
      "5/8\n",
      "5/8\n",
      "1/1\n",
      "1/1\n"
     ]
    }
   ],
   "source": [
    "class Fraction:\n",
    "    def __init__(self, numerator, denominator):\n",
    "        self.numerator = numerator\n",
    "        self.denominator = denominator\n",
    "\n",
    "    def simplify_fraction(self, num, den):\n",
    "        while den:\n",
    "            num, den = den, num % den\n",
    "        gcd = num\n",
    "        self.numerator //= gcd\n",
    "        self.denominator //= gcd\n",
    "\n",
    "    def add_fraction(self, other):\n",
    "        new_num = self.numerator * other.denominator + other.numerator * self.denominator\n",
    "        new_den = self.denominator * other.denominator\n",
    "        self.simplify_fraction(new_num, new_den)\n",
    "\n",
    "    def subtract_fraction(self, other):\n",
    "        new_num = self.numerator * other.denominator - other.numerator * self.denominator\n",
    "        new_den = self.denominator * other.denominator\n",
    "        self.simplify_fraction(new_num, new_den)\n",
    "\n",
    "    def multiply_fraction(self, other):\n",
    "        new_num = self.numerator * other.numerator\n",
    "        new_den = self.denominator * other.denominator\n",
    "        self.simplify_fraction(new_num, new_den)\n",
    "\n",
    "    def divide_fraction(self, other):\n",
    "        new_num = self.numerator * other.denominator\n",
    "        new_den = self.denominator * other.numerator\n",
    "        self.simplify_fraction(new_num, new_den)\n",
    "\n",
    "    def print_fraction(self):\n",
    "        print(f\"{self.numerator}/{self.denominator}\")\n",
    "\n",
    "fraction1 = Fraction(5, 8)\n",
    "fraction2 = Fraction(3, 5)\n",
    "\n",
    "fraction1.add_fraction(fraction2)\n",
    "fraction1.print_fraction() \n",
    "\n",
    "fraction1.subtract_fraction(fraction2)\n",
    "fraction1.print_fraction() \n",
    "\n",
    "fraction1.multiply_fraction(fraction2)\n",
    "fraction1.print_fraction()  \n",
    "\n",
    "fraction1.divide_fraction(fraction2)\n",
    "fraction1.print_fraction() \n"
   ]
  },
  {
   "cell_type": "markdown",
   "id": "18a5e3bb",
   "metadata": {},
   "source": [
    "# 4"
   ]
  },
  {
   "cell_type": "code",
   "execution_count": 20,
   "id": "08aaee2b",
   "metadata": {},
   "outputs": [
    {
     "name": "stdout",
     "output_type": "stream",
     "text": [
      "The age difference between Anu and Sanu is 2 years.\n"
     ]
    }
   ],
   "source": [
    "class Person:\n",
    "    def __init__(self, name, age):\n",
    "        self.name = name\n",
    "        self.age = age\n",
    "\n",
    "    def age_difference(self, other_person):\n",
    "        return abs(self.age - other_person.age)\n",
    "\n",
    "person1 = Person(\"Anu\", 23)\n",
    "person2 = Person(\"Sanu\", 25)\n",
    "\n",
    "age_diff = person1.age_difference(person2)\n",
    "print(f\"The age difference between {person1.name} and {person2.name} is {age_diff} years.\")\n"
   ]
  },
  {
   "cell_type": "markdown",
   "id": "843538d6",
   "metadata": {},
   "source": [
    "# 5"
   ]
  },
  {
   "cell_type": "code",
   "execution_count": 21,
   "id": "dcf18b2d",
   "metadata": {},
   "outputs": [
    {
     "name": "stdout",
     "output_type": "stream",
     "text": [
      "Shuffled Playlist: ['Song 1', 'Song 2', 'Song 3']\n",
      "Playlist after removing 'Song 2': ['Song 1', 'Song 3']\n"
     ]
    }
   ],
   "source": [
    "import random\n",
    "\n",
    "class Playlist:\n",
    "    def __init__(self):\n",
    "        self.songs = []\n",
    "\n",
    "    def add_song(self, song):\n",
    "        self.songs.append(song)\n",
    "\n",
    "    def remove_song(self, song):\n",
    "        if song in self.songs:\n",
    "            self.songs.remove(song)\n",
    "        else:\n",
    "            print(f\"{song} is not in the playlist.\")\n",
    "\n",
    "    def shuffle_playlist(self):\n",
    "        random.shuffle(self.songs)\n",
    "\n",
    "my_playlist = Playlist()\n",
    "\n",
    "my_playlist.add_song(\"Song 1\")\n",
    "my_playlist.add_song(\"Song 2\")\n",
    "my_playlist.add_song(\"Song 3\")\n",
    "\n",
    "my_playlist.shuffle_playlist()\n",
    "print(\"Shuffled Playlist:\", my_playlist.songs)\n",
    "\n",
    "my_playlist.remove_song(\"Song 2\")\n",
    "print(\"Playlist after removing 'Song 2':\", my_playlist.songs)\n"
   ]
  },
  {
   "cell_type": "markdown",
   "id": "71acdbfe",
   "metadata": {},
   "source": [
    "# 6"
   ]
  },
  {
   "cell_type": "code",
   "execution_count": 23,
   "id": "5303f2dd",
   "metadata": {},
   "outputs": [
    {
     "name": "stdout",
     "output_type": "stream",
     "text": [
      "Transaction History for Account 123456:\n",
      "Transferred 500 to account 78910\n",
      "Received 200 from account 78910\n",
      "Transaction History for Account 78910:\n",
      "Received 500 from account 123456\n",
      "Transferred 200 to account 123456\n"
     ]
    }
   ],
   "source": [
    "class BankAccount:\n",
    "    def __init__(self, account_number, balance=0):\n",
    "        self.account_number = account_number\n",
    "        self.balance = balance\n",
    "        self.transaction_history = []\n",
    "\n",
    "    def transfer(self, other_account, amount):\n",
    "        if self.balance >= amount:\n",
    "            self.balance -= amount\n",
    "            other_account.balance += amount\n",
    "            self.transaction_history.append(f\"Transferred {amount} to account {other_account.account_number}\")\n",
    "            other_account.transaction_history.append(f\"Received {amount} from account {self.account_number}\")\n",
    "        else:\n",
    "            print(\"Insufficient balance to perform this transfer.\")\n",
    "\n",
    "    def print_transaction_history(self):\n",
    "        print(f\"Transaction History for Account {self.account_number}:\")\n",
    "        for transaction in self.transaction_history:\n",
    "            print(transaction)\n",
    "\n",
    "account1 = BankAccount(\"123456\", 2000)\n",
    "account2 = BankAccount(\"78910\", 800)\n",
    "\n",
    "account1.transfer(account2, 500)\n",
    "account2.transfer(account1, 200)\n",
    "\n",
    "account1.print_transaction_history()\n",
    "account2.print_transaction_history()\n"
   ]
  },
  {
   "cell_type": "markdown",
   "id": "dc284369",
   "metadata": {},
   "source": [
    "# 7"
   ]
  },
  {
   "cell_type": "code",
   "execution_count": 24,
   "id": "7e73ffe6",
   "metadata": {},
   "outputs": [
    {
     "name": "stdout",
     "output_type": "stream",
     "text": [
      "Initial Deck: ['Ace of Spades', 'King of Hearts', 'Queen of Diamonds']\n",
      "Shuffled Deck: ['Ace of Spades', 'Queen of Diamonds', 'King of Hearts']\n",
      "Drawn Card: Ace of Spades\n",
      "Deck after drawing a card: ['Queen of Diamonds', 'King of Hearts']\n"
     ]
    }
   ],
   "source": [
    "import random\n",
    "\n",
    "class Deck:\n",
    "    def __init__(self):\n",
    "        self.cards = []\n",
    "\n",
    "    def shuffle_deck(self):\n",
    "        random.shuffle(self.cards)\n",
    "\n",
    "    def draw_card(self):\n",
    "        if self.cards:\n",
    "            return self.cards.pop(0)\n",
    "        else:\n",
    "            print(\"No cards left in the deck.\")\n",
    "\n",
    "    def add_card(self, card):\n",
    "        self.cards.append(card)\n",
    "\n",
    "\n",
    "my_deck = Deck()\n",
    "\n",
    "\n",
    "my_deck.add_card(\"Ace of Spades\")\n",
    "my_deck.add_card(\"King of Hearts\")\n",
    "my_deck.add_card(\"Queen of Diamonds\")\n",
    "\n",
    "print(\"Initial Deck:\", my_deck.cards)\n",
    "\n",
    "my_deck.shuffle_deck()\n",
    "print(\"Shuffled Deck:\", my_deck.cards)\n",
    "\n",
    "drawn_card = my_deck.draw_card()\n",
    "print(\"Drawn Card:\", drawn_card)\n",
    "\n",
    "print(\"Deck after drawing a card:\", my_deck.cards)\n"
   ]
  },
  {
   "cell_type": "markdown",
   "id": "76cefda8",
   "metadata": {},
   "source": [
    "# 8"
   ]
  },
  {
   "cell_type": "code",
   "execution_count": 41,
   "id": "d2577b0f",
   "metadata": {},
   "outputs": [
    {
     "name": "stdout",
     "output_type": "stream",
     "text": [
      "Roar\n"
     ]
    }
   ],
   "source": [
    "class Animal:\n",
    "    def __init__(self, name, species, sound):\n",
    "        self.name = name\n",
    "        self.species = species\n",
    "        self.sound = sound\n",
    "\n",
    "    def make_sound(self):\n",
    "        print(self.sound)\n",
    "\n",
    "\n",
    "my_animal = Animal(\"Lion\", \"Felidae\", \"Roar\")\n",
    "my_animal.make_sound() \n"
   ]
  },
  {
   "cell_type": "markdown",
   "id": "e5d34615",
   "metadata": {},
   "source": [
    "# 9"
   ]
  },
  {
   "cell_type": "code",
   "execution_count": 26,
   "id": "e978b13c",
   "metadata": {},
   "outputs": [
    {
     "name": "stdout",
     "output_type": "stream",
     "text": [
      "Woof!\n"
     ]
    }
   ],
   "source": [
    "class Dog(Animal):\n",
    "    def __init__(self, name, species, sound, breed):\n",
    "        super().__init__(name, species, sound)\n",
    "        self.breed = breed\n",
    "\n",
    "    def make_sound(self):\n",
    "        print(\"Woof!\")\n",
    "\n",
    "\n",
    "my_dog = Dog(\"Buddy\", \"Dog\", \"Sound\", \"Labrador\")\n",
    "my_dog.make_sound() \n",
    "\n"
   ]
  },
  {
   "cell_type": "markdown",
   "id": "756a51a3",
   "metadata": {},
   "source": [
    "# 10"
   ]
  },
  {
   "cell_type": "code",
   "execution_count": 27,
   "id": "e904d555",
   "metadata": {},
   "outputs": [
    {
     "name": "stdout",
     "output_type": "stream",
     "text": [
      "Meow!\n"
     ]
    }
   ],
   "source": [
    "class Animal:\n",
    "    def __init__(self, name, species, sound):\n",
    "        self.name = name\n",
    "        self.species = species\n",
    "        self.sound = sound\n",
    "\n",
    "    def make_sound(self):\n",
    "        print(self.sound)\n",
    "\n",
    "class Cat(Animal):  \n",
    "    def __init__(self, name, species, sound, color):\n",
    "        super().__init__(name, species, sound)\n",
    "        self.color = color\n",
    "\n",
    "    def make_sound(self):\n",
    "        print(\"Meow!\")\n",
    "\n",
    "my_cat = Cat(\"Whiskers\", \"Felidae\", \"Sound\", \"Grey\")\n",
    "my_cat.make_sound()  "
   ]
  },
  {
   "cell_type": "markdown",
   "id": "184909c1",
   "metadata": {},
   "source": [
    "# 11"
   ]
  },
  {
   "cell_type": "code",
   "execution_count": 31,
   "id": "fa421074",
   "metadata": {},
   "outputs": [
    {
     "name": "stdout",
     "output_type": "stream",
     "text": [
      "Name: Buddy, Species: Dog\n",
      "Name: Whiskers, Species: Felidae\n",
      "Name: Rex, Species: Dog\n"
     ]
    }
   ],
   "source": [
    "class Animal:\n",
    "    def __init__(self, name, species, sound):\n",
    "        self.name = name\n",
    "        self.species = species\n",
    "        self.sound = sound\n",
    "\n",
    "    def make_sound(self):\n",
    "        print(self.sound)\n",
    "\n",
    "\n",
    "class Dog(Animal):\n",
    "    def __init__(self, name, species, sound, breed):\n",
    "        super().__init__(name, species, sound)\n",
    "        self.breed = breed\n",
    "\n",
    "    def make_sound(self):\n",
    "        print(\"Woof!\")\n",
    "\n",
    "\n",
    "class Cat(Animal):\n",
    "    def __init__(self, name, species, sound, color):\n",
    "        super().__init__(name, species, sound)\n",
    "        self.color = color\n",
    "\n",
    "    def make_sound(self):\n",
    "        print(\"Meow!\")\n",
    "\n",
    "\n",
    "class GuideDog(Dog):\n",
    "    def __init__(self, name, species, sound, breed, trained_for):\n",
    "        super().__init__(name, species, sound, breed)\n",
    "        self.trained_for = trained_for\n",
    "\n",
    "    def make_sound(self):\n",
    "        print(\"Bark!\")\n",
    "\n",
    "\n",
    "class Zoo:\n",
    "    def __init__(self):\n",
    "        self.animals = []\n",
    "\n",
    "    def add_animal(self, animal):\n",
    "        self.animals.append(animal)\n",
    "\n",
    "    def list_animals(self):\n",
    "        for animal in self.animals:\n",
    "            print(f\"Name: {animal.name}, Species: {animal.species}\")\n",
    "\n",
    "\n",
    "my_zoo = Zoo()\n",
    "\n",
    "my_dog = Dog(\"Buddy\", \"Dog\", \"Woof!\", \"Labrador\")\n",
    "my_cat = Cat(\"Whiskers\", \"Felidae\", \"Meow!\", \"Grey\")\n",
    "my_guide_dog = GuideDog(\"Rex\", \"Dog\", \"Bark!\", \"German Shepherd\", \"Guide\")\n",
    "\n",
    "my_zoo.add_animal(my_dog)\n",
    "my_zoo.add_animal(my_cat)\n",
    "my_zoo.add_animal(my_guide_dog)\n",
    "\n",
    "\n",
    "my_zoo.list_animals()\n"
   ]
  },
  {
   "cell_type": "markdown",
   "id": "aba542a1",
   "metadata": {},
   "source": [
    "# 12"
   ]
  },
  {
   "cell_type": "code",
   "execution_count": 32,
   "id": "458bb77c",
   "metadata": {},
   "outputs": [
    {
     "name": "stdout",
     "output_type": "stream",
     "text": [
      "Bark!\n"
     ]
    }
   ],
   "source": [
    "class GuideDog(Dog):\n",
    "    def __init__(self, name, species, sound, breed, trained_for):\n",
    "        super().__init__(name, species, sound, breed)\n",
    "        self.trained_for = trained_for\n",
    "\n",
    "    def make_sound(self):\n",
    "        print(\"Bark!\")\n",
    "\n",
    "my_guide_dog = GuideDog(\"Rex\", \"Dog\", \"Woof!\", \"German Shepherd\", \"Guide\")\n",
    "\n",
    "my_guide_dog.make_sound()\n"
   ]
  },
  {
   "cell_type": "markdown",
   "id": "f9800a76",
   "metadata": {},
   "source": [
    "# 13"
   ]
  },
  {
   "cell_type": "code",
   "execution_count": 34,
   "id": "2b03de3d",
   "metadata": {},
   "outputs": [
    {
     "name": "stdout",
     "output_type": "stream",
     "text": [
      "The area of the rectangle is: 72 square units.\n"
     ]
    }
   ],
   "source": [
    "class Shape:\n",
    "    def __init__(self, color, filled):\n",
    "        self.color = color\n",
    "        self.filled = filled\n",
    "\n",
    "    def get_area(self):\n",
    "        pass  \n",
    "\n",
    "class Rectangle(Shape):\n",
    "    def __init__(self, color, filled, width, height):\n",
    "        super().__init__(color, filled)\n",
    "        self.width = width\n",
    "        self.height = height\n",
    "\n",
    "    def get_area(self):\n",
    "        return self.width * self.height\n",
    "\n",
    "\n",
    "my_rectangle = Rectangle(\"Green\", True, 6, 12)\n",
    "\n",
    "\n",
    "area = my_rectangle.get_area()\n",
    "print(f\"The area of the rectangle is: {area} square units.\")\n"
   ]
  },
  {
   "cell_type": "markdown",
   "id": "c7701972",
   "metadata": {},
   "source": [
    "# 15"
   ]
  },
  {
   "cell_type": "code",
   "execution_count": 36,
   "id": "0021d7cc",
   "metadata": {},
   "outputs": [
    {
     "name": "stdout",
     "output_type": "stream",
     "text": [
      "The area of the circle is: 201.06176 square units.\n"
     ]
    }
   ],
   "source": [
    "class Shape:\n",
    "    def __init__(self, color, filled):\n",
    "        self.color = color\n",
    "        self.filled = filled\n",
    "\n",
    "    def get_area(self):\n",
    "        pass  \n",
    "\n",
    "\n",
    "class Rectangle(Shape):\n",
    "    def __init__(self, color, filled, width, height):\n",
    "        super().__init__(color, filled)\n",
    "        self.width = width\n",
    "        self.height = height\n",
    "\n",
    "    def get_area(self):\n",
    "        return self.width * self.height\n",
    "\n",
    "\n",
    "class Circle(Shape):\n",
    "    def __init__(self, color, filled, radius):\n",
    "        super().__init__(color, filled)\n",
    "        self.radius = radius\n",
    "\n",
    "    def get_area(self):\n",
    "        return 3.14159 * self.radius ** 2  \n",
    "my_circle = Circle(\"Red\", True, 8)\n",
    "\n",
    "area_circle = my_circle.get_area()\n",
    "print(f\"The area of the circle is: {area_circle} square units.\")\n"
   ]
  },
  {
   "cell_type": "markdown",
   "id": "a045b72b",
   "metadata": {},
   "source": [
    "# 16"
   ]
  },
  {
   "cell_type": "code",
   "execution_count": 38,
   "id": "1508b581",
   "metadata": {},
   "outputs": [
    {
     "name": "stdout",
     "output_type": "stream",
     "text": [
      "The total area of all shapes is: 237.93791 square units.\n"
     ]
    }
   ],
   "source": [
    "class ShapeList:\n",
    "    def __init__(self):\n",
    "        self.shapes = []\n",
    "\n",
    "    def add_shape(self, shape):\n",
    "        self.shapes.append(shape)\n",
    "\n",
    "    def total_area(self):\n",
    "        total = 0\n",
    "        for shape in self.shapes:\n",
    "            total += shape.get_area()\n",
    "        return total\n",
    "\n",
    "\n",
    "\n",
    "my_shape_list = ShapeList()\n",
    "\n",
    "my_rectangle = Rectangle(\"Green\", True, 6, 14)\n",
    "my_circle = Circle(\"Red\", True, 7)\n",
    "\n",
    "\n",
    "my_shape_list.add_shape(my_rectangle)\n",
    "my_shape_list.add_shape(my_circle)\n",
    "\n",
    "total_area_shapes = my_shape_list.total_area()\n",
    "print(f\"The total area of all shapes is: {total_area_shapes} square units.\")\n"
   ]
  },
  {
   "cell_type": "markdown",
   "id": "0f349ac2",
   "metadata": {},
   "source": [
    "# 17"
   ]
  },
  {
   "cell_type": "code",
   "execution_count": 40,
   "id": "92f579f1",
   "metadata": {},
   "outputs": [
    {
     "name": "stdout",
     "output_type": "stream",
     "text": [
      "The area of the square is: 49 square units.\n"
     ]
    }
   ],
   "source": [
    "class Shape:\n",
    "    def __init__(self, color, filled):\n",
    "        self.color = color\n",
    "        self.filled = filled\n",
    "\n",
    "    def get_area(self):\n",
    "        pass \n",
    "\n",
    "\n",
    "class Rectangle(Shape):\n",
    "    def __init__(self, color, filled, width, height):\n",
    "        super().__init__(color, filled)\n",
    "        self.width = width\n",
    "        self.height = height\n",
    "\n",
    "    def get_area(self):\n",
    "        return self.width * self.height\n",
    "\n",
    "\n",
    "class Square(Rectangle):\n",
    "    def __init__(self, color, filled, side):\n",
    "        super().__init__(color, filled, side, side)\n",
    "\n",
    "    def get_area(self):\n",
    "        return self.width * self.width\n",
    "\n",
    "\n",
    "\n",
    "my_square = Square(\"Blue\", True, 7)\n",
    "\n",
    "area_square = my_square.get_area()\n",
    "print(f\"The area of the square is: {area_square} square units.\")\n"
   ]
  },
  {
   "cell_type": "code",
   "execution_count": null,
   "id": "7e928cf7",
   "metadata": {},
   "outputs": [],
   "source": []
  }
 ],
 "metadata": {
  "kernelspec": {
   "display_name": "Python 3 (ipykernel)",
   "language": "python",
   "name": "python3"
  },
  "language_info": {
   "codemirror_mode": {
    "name": "ipython",
    "version": 3
   },
   "file_extension": ".py",
   "mimetype": "text/x-python",
   "name": "python",
   "nbconvert_exporter": "python",
   "pygments_lexer": "ipython3",
   "version": "3.11.4"
  }
 },
 "nbformat": 4,
 "nbformat_minor": 5
}
