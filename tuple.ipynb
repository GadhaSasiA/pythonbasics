{
 "cells": [
  {
   "cell_type": "markdown",
   "id": "e1471fb0",
   "metadata": {},
   "source": [
    "# 1.Max,min"
   ]
  },
  {
   "cell_type": "code",
   "execution_count": 27,
   "id": "f7ad5b0c",
   "metadata": {},
   "outputs": [
    {
     "name": "stdout",
     "output_type": "stream",
     "text": [
      "67\n",
      "2\n"
     ]
    }
   ],
   "source": [
    "a=(2,34,5,67,5,34,15)\n",
    "print(max(a))\n",
    "print((min(a)))"
   ]
  },
  {
   "cell_type": "markdown",
   "id": "e7091fce",
   "metadata": {},
   "source": [
    "# 2.Concatenate"
   ]
  },
  {
   "cell_type": "code",
   "execution_count": 25,
   "id": "817d2698",
   "metadata": {},
   "outputs": [
    {
     "name": "stdout",
     "output_type": "stream",
     "text": [
      "(('red', 'apple'), ('yellow', 'mango'), ('black', 'shirt'), ('green', 'leaf'), ('blue', 'sky'))\n"
     ]
    }
   ],
   "source": [
    "tup1=(\"red\",\"yellow\",\"black\",\"green\",\"blue\")\n",
    "tup2=(\"apple\",\"mango\",\"shirt\",\"leaf\",\"sky\")\n",
    "c=zip(tup1,tup2)\n",
    "print(tuple(c))"
   ]
  },
  {
   "cell_type": "markdown",
   "id": "2c4b6b16",
   "metadata": {},
   "source": [
    "# 3.Count"
   ]
  },
  {
   "cell_type": "code",
   "execution_count": 32,
   "id": "6fb223f5",
   "metadata": {},
   "outputs": [
    {
     "name": "stdout",
     "output_type": "stream",
     "text": [
      "enter the number to count:4\n",
      "3\n"
     ]
    }
   ],
   "source": [
    "a=(2,3,4,5,67,5,4,34,15,4,)\n",
    "b=int(input(\"enter the number to count:\"))\n",
    "c=a.count(b)\n",
    "print(c)"
   ]
  },
  {
   "cell_type": "markdown",
   "id": "35bb16bd",
   "metadata": {},
   "source": [
    "# 4.Dictionary"
   ]
  },
  {
   "cell_type": "code",
   "execution_count": 34,
   "id": "ac43cacd",
   "metadata": {},
   "outputs": [
    {
     "name": "stdout",
     "output_type": "stream",
     "text": [
      "{'name': 10, 'parent': 6, 'pigeon': 7, 'love': 6}\n"
     ]
    }
   ],
   "source": [
    "tups=[(\"name\",10),(\"parent\",6),(\"pigeon\",7),(\"love\",6)]\n",
    "dictionary={}\n",
    "for item in tups:\n",
    "    key,value=item\n",
    "    dictionary[key]=value\n",
    "print(dictionary)"
   ]
  },
  {
   "cell_type": "markdown",
   "id": "ebe0cc9b",
   "metadata": {},
   "source": [
    "# 5.Slice"
   ]
  },
  {
   "cell_type": "code",
   "execution_count": 2,
   "id": "d4cfc085",
   "metadata": {},
   "outputs": [
    {
     "name": "stdout",
     "output_type": "stream",
     "text": [
      "enter the slice size:4\n",
      "[(2, 3, 4, 5), (67, 5, 4, 34), (15, 4)]\n"
     ]
    }
   ],
   "source": [
    "a=(2,3,4,5,67,5,4,34,15,4,)\n",
    "b=int(input(\"enter the slice size:\"))\n",
    "sub_tuples=[]\n",
    "for i in range(0,len(a),b):\n",
    "    sub_tuple=a[i:i+b]\n",
    "    sub_tuples.append(sub_tuple)\n",
    "print(sub_tuples)"
   ]
  },
  {
   "cell_type": "markdown",
   "id": "cc6b79c9",
   "metadata": {},
   "source": [
    "# 6.Nested tuple"
   ]
  },
  {
   "cell_type": "code",
   "execution_count": 46,
   "id": "c6ed13bf",
   "metadata": {},
   "outputs": [
    {
     "name": "stdout",
     "output_type": "stream",
     "text": [
      "6\n"
     ]
    }
   ],
   "source": [
    "nested_a=((2,3),(4,5,6),(7,5,4),(3,5),(6,8))\n",
    "b=nested_a[1][2]\n",
    "print(b)"
   ]
  },
  {
   "cell_type": "markdown",
   "id": "94563d2b",
   "metadata": {},
   "source": [
    "# 7. Remove"
   ]
  },
  {
   "cell_type": "code",
   "execution_count": 33,
   "id": "801778ff",
   "metadata": {},
   "outputs": [
    {
     "name": "stdout",
     "output_type": "stream",
     "text": [
      "[2, 5, 67, 5, 15]\n"
     ]
    }
   ],
   "source": [
    "a=(2,34,5,67,5,15)\n",
    "b=list(a)\n",
    "b.remove(34)\n",
    "print(b)"
   ]
  },
  {
   "cell_type": "markdown",
   "id": "8b16be22",
   "metadata": {},
   "source": [
    "# 8.Merge"
   ]
  },
  {
   "cell_type": "code",
   "execution_count": 3,
   "id": "2b37b559",
   "metadata": {},
   "outputs": [
    {
     "name": "stdout",
     "output_type": "stream",
     "text": [
      "{2, 67, 34, 5, 3, 7, 4, 43, 14, 15, 25, 57}\n"
     ]
    }
   ],
   "source": [
    "a=(2,34,5,67,5,34,15,25)\n",
    "b=(3,43,25,7,4,5,14,57)\n",
    "c=a+b\n",
    "d=(set(c))\n",
    "print(d)"
   ]
  },
  {
   "cell_type": "markdown",
   "id": "bf223777",
   "metadata": {},
   "source": [
    "# 9.Length & unpack"
   ]
  },
  {
   "cell_type": "code",
   "execution_count": 2,
   "id": "00548960",
   "metadata": {
    "scrolled": true
   },
   "outputs": [
    {
     "name": "stdout",
     "output_type": "stream",
     "text": [
      "The length of Tuple is: 10\n",
      "3\n",
      "43\n",
      "[25, 7, 4, 3, 45, 23]\n",
      "5\n",
      "7\n"
     ]
    }
   ],
   "source": [
    "a=(3,43,25,7,4,3,45,23,5,7,)\n",
    "b=(len(a))\n",
    "print(\"The length of Tuple is:\" ,b)\n",
    "(v,w,*x,y,z)=a\n",
    "print(v)\n",
    "print(w)\n",
    "print(x)\n",
    "print(y)\n",
    "print(z)"
   ]
  },
  {
   "cell_type": "markdown",
   "id": "968e084d",
   "metadata": {},
   "source": [
    "# 10. Find index"
   ]
  },
  {
   "cell_type": "code",
   "execution_count": 10,
   "id": "fca0e43b",
   "metadata": {},
   "outputs": [
    {
     "name": "stdout",
     "output_type": "stream",
     "text": [
      "enter a number7\n",
      "the position of 7 is: 3\n"
     ]
    }
   ],
   "source": [
    "a=(3,43,25,7,4,)\n",
    "b=int(input(\"enter a number\"))\n",
    "c=a.index(b)\n",
    "print(\"the position of\", b, \"is:\",c)"
   ]
  },
  {
   "cell_type": "code",
   "execution_count": null,
   "id": "b2fed2ae",
   "metadata": {},
   "outputs": [],
   "source": []
  }
 ],
 "metadata": {
  "kernelspec": {
   "display_name": "Python 3 (ipykernel)",
   "language": "python",
   "name": "python3"
  },
  "language_info": {
   "codemirror_mode": {
    "name": "ipython",
    "version": 3
   },
   "file_extension": ".py",
   "mimetype": "text/x-python",
   "name": "python",
   "nbconvert_exporter": "python",
   "pygments_lexer": "ipython3",
   "version": "3.11.4"
  }
 },
 "nbformat": 4,
 "nbformat_minor": 5
}
